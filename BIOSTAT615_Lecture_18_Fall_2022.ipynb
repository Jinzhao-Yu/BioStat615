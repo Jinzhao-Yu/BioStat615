{
  "nbformat": 4,
  "nbformat_minor": 0,
  "metadata": {
    "colab": {
      "provenance": [],
      "include_colab_link": true
    },
    "kernelspec": {
      "name": "ir",
      "display_name": "R"
    },
    "language_info": {
      "name": "R"
    }
  },
  "cells": [
    {
      "cell_type": "markdown",
      "metadata": {
        "id": "view-in-github",
        "colab_type": "text"
      },
      "source": [
        "<a href=\"https://colab.research.google.com/github/Jinzhao-Yu/BioStat615/blob/main/BIOSTAT615_Lecture_18_Fall_2022.ipynb\" target=\"_parent\"><img src=\"https://colab.research.google.com/assets/colab-badge.svg\" alt=\"Open In Colab\"/></a>"
      ]
    },
    {
      "cell_type": "markdown",
      "metadata": {
        "id": "kiAtZF-dHHBz"
      },
      "source": [
        "# BIOSTAT615 Lecture 18 - R"
      ]
    },
    {
      "cell_type": "markdown",
      "metadata": {
        "id": "hW103hrYfUHL"
      },
      "source": [
        "## 1. Sum of multiple Bernoulli variables"
      ]
    },
    {
      "cell_type": "code",
      "metadata": {
        "id": "9Qe3vJL1fTfd"
      },
      "source": [
        "#' multiBinomPMF.v1() - pmf for sum of bernoulli (quadratic)\n",
        "#' @param   p A vector of binomial probability\n",
        "#' @return  A vector of length(p)+1 containing Pr(\\sum x_i = k)\n",
        "multiBinomPMF.v1 = function(p) {\n",
        "    n = length(p)\n",
        "    if ( n == 1 ) { # terminating condition\n",
        "        return( c(1-p[1], p[1]) )\n",
        "    } else {\n",
        "        mid = ceiling(n/2)\n",
        "        pmf1 = multiBinomPMF.v1(p[1:mid])\n",
        "        pmf2 = multiBinomPMF.v1(p[(mid+1):n])\n",
        "        n1 = length(pmf1)\n",
        "        n2 = length(pmf2)\n",
        "        pmf12 = matrix(pmf1,n1,n2) * matrix(pmf2,n1,n2,byrow=TRUE)\n",
        "        r = rep(0, n1+n2-1)\n",
        "        for(i in 1:n1) {\n",
        "            for(j in 1:n2) {\n",
        "                r[i+j-1] = r[i+j-1] + pmf12[i,j]\n",
        "            }\n",
        "        }\n",
        "        return(r)\n",
        "    }\n",
        "}"
      ],
      "execution_count": 1,
      "outputs": []
    },
    {
      "cell_type": "code",
      "metadata": {
        "colab": {
          "base_uri": "https://localhost:8080/"
        },
        "id": "ymy02h0kkFOK",
        "outputId": "998065fd-0af0-4532-9f4a-e0b999a96b0b"
      },
      "source": [
        "## test with an example data\n",
        "p0 = c(0.1, 0.2, 0.3, 0.4)\n",
        "print(multiBinomPMF.v1(p0))"
      ],
      "execution_count": 2,
      "outputs": [
        {
          "output_type": "stream",
          "name": "stdout",
          "text": [
            "[1] 0.3024 0.4404 0.2144 0.0404 0.0024\n"
          ]
        }
      ]
    },
    {
      "cell_type": "code",
      "metadata": {
        "id": "hJR3Jp9XjH47",
        "outputId": "93ca3e6c-c4ca-47eb-b56b-6e21102095d1",
        "colab": {
          "base_uri": "https://localhost:8080/"
        }
      },
      "source": [
        "## for large data\n",
        "p1 = (1:4999)/5000\n",
        "print(system.time(a1 <- multiBinomPMF.v1(p1)))"
      ],
      "execution_count": 3,
      "outputs": [
        {
          "output_type": "stream",
          "name": "stdout",
          "text": [
            "   user  system elapsed \n",
            "  2.573   0.071   2.817 \n"
          ]
        }
      ]
    },
    {
      "cell_type": "code",
      "metadata": {
        "id": "BeJd0RtEjgKb",
        "outputId": "01c6458f-f5ac-48fd-eb97-65fbd6e462a3",
        "colab": {
          "base_uri": "https://localhost:8080/"
        }
      },
      "source": [
        "## even larger data\n",
        "p2 = (1:9999)/10000\n",
        "print(system.time(a2 <- multiBinomPMF.v1(p2)))"
      ],
      "execution_count": 4,
      "outputs": [
        {
          "output_type": "stream",
          "name": "stdout",
          "text": [
            "   user  system elapsed \n",
            "  9.388   0.161   9.914 \n"
          ]
        }
      ]
    },
    {
      "cell_type": "markdown",
      "metadata": {
        "id": "Izciq2JPlh-Z"
      },
      "source": [
        "## 2. A much faster implementation based on FFT"
      ]
    },
    {
      "cell_type": "code",
      "metadata": {
        "id": "ZJ5fehuRgCnv"
      },
      "source": [
        "#' multiBinomPMF.v1() - pmf for sum of bernoulli (n log n)\n",
        "#' @param  p A vector of binomial probability\n",
        "#' @return   A vector of length(p)+1 containing Pr(\\sum x_i = k)\n",
        "multiBinomPMF.v2 = function(p) {\n",
        "    n = length(p)\n",
        "    if ( n == 1 ) { # terminating condition\n",
        "        return( c(1-p[1], p[1]) )\n",
        "    } else {\n",
        "        mid = ceiling(n/2)\n",
        "        pmf1 = multiBinomPMF.v2(p[1:mid])\n",
        "        pmf2 = multiBinomPMF.v2(p[(mid+1):n])\n",
        "        ## use convolution for polynomial multiplication\n",
        "        ## need rev() to convert convolution to polynomial multiplication\n",
        "        r = convolve(pmf1, rev(pmf2), type=\"open\") \n",
        "        return(r)\n",
        "    }\n",
        "}"
      ],
      "execution_count": 5,
      "outputs": []
    },
    {
      "cell_type": "code",
      "metadata": {
        "id": "c2Q30MkAkLYH",
        "outputId": "784f5994-a6f1-41f4-dddd-a4ef66bc2bcc",
        "colab": {
          "base_uri": "https://localhost:8080/"
        }
      },
      "source": [
        "## verify the original \n",
        "print(multiBinomPMF.v2(p0))"
      ],
      "execution_count": 6,
      "outputs": [
        {
          "output_type": "stream",
          "name": "stdout",
          "text": [
            "[1] 0.3024 0.4404 0.2144 0.0404 0.0024\n"
          ]
        }
      ]
    },
    {
      "cell_type": "code",
      "metadata": {
        "id": "XDBqgzJQ2uWp",
        "outputId": "809a2de2-9794-4454-9cd1-9ac420bb890b",
        "colab": {
          "base_uri": "https://localhost:8080/"
        }
      },
      "source": [
        "## repeat the large example\n",
        "p1 = (1:4999)/5000\n",
        "print(system.time(b1 <- multiBinomPMF.v2(p1)))"
      ],
      "execution_count": 7,
      "outputs": [
        {
          "output_type": "stream",
          "name": "stdout",
          "text": [
            "   user  system elapsed \n",
            "  0.098   0.001   0.100 \n"
          ]
        }
      ]
    },
    {
      "cell_type": "code",
      "metadata": {
        "id": "SByeKpi5jum5",
        "outputId": "7808b685-f945-4bbb-abe1-7deb3d5b2dde",
        "colab": {
          "base_uri": "https://localhost:8080/"
        }
      },
      "source": [
        "## repeat the larger example\n",
        "p2 = (1:9999)/10000\n",
        "print(system.time(b2 <- multiBinomPMF.v2(p2)))"
      ],
      "execution_count": 8,
      "outputs": [
        {
          "output_type": "stream",
          "name": "stdout",
          "text": [
            "   user  system elapsed \n",
            "  0.211   0.009   0.219 \n"
          ]
        }
      ]
    },
    {
      "cell_type": "code",
      "metadata": {
        "id": "u9eW2_nSjzY_",
        "outputId": "e5a36256-8803-4563-d7c6-8671bb2d34f4",
        "colab": {
          "base_uri": "https://localhost:8080/",
          "height": 34
        }
      },
      "source": [
        "## check the similarity between the solutions\n",
        "sum(abs(a1 - b1))"
      ],
      "execution_count": 9,
      "outputs": [
        {
          "output_type": "display_data",
          "data": {
            "text/html": [
              "1.99945641760038e-13"
            ],
            "text/markdown": "1.99945641760038e-13",
            "text/latex": "1.99945641760038e-13",
            "text/plain": [
              "[1] 1.999456e-13"
            ]
          },
          "metadata": {}
        }
      ]
    },
    {
      "cell_type": "code",
      "metadata": {
        "id": "lIuUuJsVj4vJ",
        "outputId": "a36393da-8550-4d4d-f3ed-4488f0d9bbf8",
        "colab": {
          "base_uri": "https://localhost:8080/",
          "height": 34
        }
      },
      "source": [
        "## check the similarity between the solutions\n",
        "sum(abs(a2 - b2))"
      ],
      "execution_count": 10,
      "outputs": [
        {
          "output_type": "display_data",
          "data": {
            "text/html": [
              "2.8386223567558e-13"
            ],
            "text/markdown": "2.8386223567558e-13",
            "text/latex": "2.8386223567558e-13",
            "text/plain": [
              "[1] 2.838622e-13"
            ]
          },
          "metadata": {}
        }
      ]
    }
  ]
}