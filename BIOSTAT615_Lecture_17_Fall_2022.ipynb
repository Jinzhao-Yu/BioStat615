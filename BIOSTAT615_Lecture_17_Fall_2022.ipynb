{
  "nbformat": 4,
  "nbformat_minor": 0,
  "metadata": {
    "colab": {
      "provenance": [],
      "include_colab_link": true
    },
    "kernelspec": {
      "name": "ir",
      "display_name": "R"
    },
    "language_info": {
      "name": "R"
    }
  },
  "cells": [
    {
      "cell_type": "markdown",
      "metadata": {
        "id": "view-in-github",
        "colab_type": "text"
      },
      "source": [
        "<a href=\"https://colab.research.google.com/github/Jinzhao-Yu/BioStat615/blob/main/BIOSTAT615_Lecture_17_Fall_2022.ipynb\" target=\"_parent\"><img src=\"https://colab.research.google.com/assets/colab-badge.svg\" alt=\"Open In Colab\"/></a>"
      ]
    },
    {
      "cell_type": "markdown",
      "metadata": {
        "id": "3lAL7IxQOOOR"
      },
      "source": [
        "# BIOSTAT615 Lecture 17 - R"
      ]
    },
    {
      "cell_type": "markdown",
      "metadata": {
        "id": "47RxbeYmOOOZ"
      },
      "source": [
        "## Create a HMM class"
      ]
    },
    {
      "cell_type": "code",
      "metadata": {
        "id": "WrqEAJ_4OOOZ"
      },
      "source": [
        "#' Create a class hmm615\n",
        "hmm615 <- setRefClass(\"hmm615\",\n",
        "              fields=list(n.states = \"integer\", # num states\n",
        "                          n.obs = \"integer\",    # num possible outcomes\n",
        "                          n.times = \"integer\",  # num observed data\n",
        "                          obs = \"vector\",       # observed data\n",
        "                          transP = \"matrix\",    # transition matrix\n",
        "                          emisP = \"matrix\",     # emission matrix\n",
        "                          alphas = \"matrix\",    # alpha in forward()\n",
        "                          betas = \"matrix\",     # beta in backward()\n",
        "                          gammas = \"matrix\",    # for forward-backward()\n",
        "                          deltas = \"matrix\",    # for Viterbi MLE\n",
        "                          phis = \"matrix\",      # for Viterbi path\n",
        "                          pis = \"vector\",       # initial probs\n",
        "                          path = \"vector\"       # Viterbi path\n",
        "                     ))"
      ],
      "execution_count": 1,
      "outputs": []
    },
    {
      "cell_type": "code",
      "metadata": {
        "id": "gaKyGhAhOOOa"
      },
      "source": [
        "#' method to initialize hmm615 class (called with hmm615$new)\n",
        "#' @param transMat - transition matrix\n",
        "#' @param emisMat - emission matrix\n",
        "#' @param p0s - prior distribution of states\n",
        "#' @param obsData - observed data points (vector of integers)\n",
        "hmm615$methods(initialize = function(transMat, emisMat, p0s, obsData) {\n",
        "  n.states <<- nrow(transMat)\n",
        "  n.obs <<- ncol(emisMat)\n",
        "  stopifnot(ncol(transMat) == n.states)\n",
        "  stopifnot(nrow(emisMat) == n.states)\n",
        "  n.times <<- length(obsData)\n",
        "  transP <<- transMat\n",
        "  emisP <<- emisMat\n",
        "  obs <<- obsData\n",
        "  pis <<- p0s\n",
        "})"
      ],
      "execution_count": 2,
      "outputs": []
    },
    {
      "cell_type": "code",
      "metadata": {
        "id": "c1NMybhsgHW2"
      },
      "source": [
        "#' method to perform forward algorithm\n",
        "#' fills in the alpha matrix\n",
        "hmm615$methods(forward = function() {\n",
        "  alphas <<- matrix(0, n.states, n.times) ## initialize\n",
        "  alphas[,1] <<- pis * emisP[,obs[1]] ## first element\n",
        "  for (t in 2:n.times) {  ## use matrix operation to simplify\n",
        "    alphas[,t] <<- (alphas[,t-1] %*% transP) * emisP[,obs[t]]\n",
        "  }\n",
        "})"
      ],
      "execution_count": 3,
      "outputs": []
    },
    {
      "cell_type": "code",
      "metadata": {
        "id": "LydhcFlufKOo"
      },
      "source": [
        "#' method to perform backward algorithm\n",
        "#' fills in the beta matrix\n",
        "hmm615$methods(backward = function(){\n",
        "  betas <<- matrix(0, n.states, n.times) ## initialize\n",
        "  betas[,n.times] <<- rep(1,n.states) ## last element\n",
        "  for (t in seq(n.times-1,1,-1)) { ## matrix operation to simplify\n",
        "    betas[,t] <<- transP %*% (betas[,t+1] * emisP[,obs[t+1]])\n",
        "  }\n",
        "})"
      ],
      "execution_count": 4,
      "outputs": []
    },
    {
      "cell_type": "code",
      "metadata": {
        "id": "uRjogRG3ggn3"
      },
      "source": [
        "#' method to perform forward-backward algorithm\n",
        "#' fills in the gamma matrix as Pr(states|obs)\n",
        "hmm615$methods(forwardbackward = function() {\n",
        "  forward()   # run forward algorithm\n",
        "  backward()  # run backward algorithm\n",
        "  gammas <<- alphas * betas # calculate join likelihood\n",
        "  ## normalize across the states\n",
        "  gammas <<- gammas / matrix(colSums(gammas),nrow(gammas),ncol(gammas))\n",
        "})"
      ],
      "execution_count": 5,
      "outputs": []
    },
    {
      "cell_type": "code",
      "metadata": {
        "id": "qWzNF-hbg-1T"
      },
      "source": [
        "#' method to perform Viterbi algorithm\n",
        "#' fills in deltas, phis, paths\n",
        "hmm615$methods(viterbi = function() {\n",
        "  ## initialize the matrices and vectors\n",
        "  deltas <<- matrix(0, n.states, n.times)\n",
        "  phis <<- matrix(0, n.states, n.times)\n",
        "  path <<- numeric(length=n.times)\n",
        "\n",
        "  deltas[,1] <<- pis * emisP[,obs[1]] ## compute MLEs\n",
        "  for (t in 2:n.times) {\n",
        "    A = matrix(deltas[,t-1],n.states,n.states,byrow=TRUE) * transP *\n",
        "           matrix(emisP[,obs[t]],n.states,n.states) # use element-wise operation\n",
        "    deltas[,t] <<- apply(A, 1, max) ## MLEs\n",
        "    phis[,t] <<- apply(A, 1, which.max) ## backtrack info\n",
        "  }\n",
        "  ## perform backtracking\n",
        "  path[t] <<- which.max(deltas[,t]) ## choose last element by MLE\n",
        "  for(t in seq(n.times-1,1,-1)) {  ## backtrack from the last element\n",
        "    path[t] <<- phis[path[t+1],t+1]\n",
        "  }\n",
        "})"
      ],
      "execution_count": 6,
      "outputs": []
    },
    {
      "cell_type": "markdown",
      "metadata": {
        "id": "ky_wM9tmw_6M"
      },
      "source": [
        "## Test HMM on the Biased Coin Problem"
      ]
    },
    {
      "cell_type": "code",
      "metadata": {
        "id": "DHrCTEbOhBqb"
      },
      "source": [
        "trans = matrix(c(0.95, 0.2, 0.05, 0.8),2,2)\n",
        "emis  = matrix(c(0.5, 0.1, 0.5, 0.9),2,2)\n",
        "obs = c(2,1,2,1,2,2,1,2,2,2,2,2,2,1,2,2,2,2,2,2)\n",
        "hmm = hmm615(trans, emis, c(0.5,0.5), obs)"
      ],
      "execution_count": 7,
      "outputs": []
    },
    {
      "cell_type": "code",
      "metadata": {
        "id": "ityWxUzK0H_D",
        "outputId": "ed831e0c-7d3f-444d-c9e5-e3abbe535cb9",
        "colab": {
          "base_uri": "https://localhost:8080/"
        }
      },
      "source": [
        "hmm$forwardbackward() ## run forward-backward algorithm\n",
        "hmm$viterbi()         ## run viterbi algorithm\n",
        "df = cbind(t(hmm$gammas),hmm$path,hmm$obs)\n",
        "colnames(df)=c(\"P.FAIR\",\"P.BIAS\",\"MLPATH\",\"OBS\")\n",
        "print(df)"
      ],
      "execution_count": 8,
      "outputs": [
        {
          "output_type": "stream",
          "name": "stdout",
          "text": [
            "         P.FAIR    P.BIAS MLPATH OBS\n",
            " [1,] 0.5950131 0.4049869      1   2\n",
            " [2,] 0.8117823 0.1882177      1   1\n",
            " [3,] 0.8070897 0.1929103      1   2\n",
            " [4,] 0.8583744 0.1416256      1   1\n",
            " [5,] 0.7613304 0.2386696      1   2\n",
            " [6,] 0.7276403 0.2723597      1   2\n",
            " [7,] 0.7495156 0.2504844      1   1\n",
            " [8,] 0.5412806 0.4587194      2   2\n",
            " [9,] 0.4186535 0.5813465      2   2\n",
            "[10,] 0.3532846 0.6467154      2   2\n",
            "[11,] 0.3300617 0.6699383      2   2\n",
            "[12,] 0.3436160 0.6563840      2   2\n",
            "[13,] 0.3970811 0.6029189      2   2\n",
            "[14,] 0.5028172 0.4971828      2   1\n",
            "[15,] 0.3725275 0.6274725      2   2\n",
            "[16,] 0.2984670 0.7015330      2   2\n",
            "[17,] 0.2635141 0.7364859      2   2\n",
            "[18,] 0.2595883 0.7404117      2   2\n",
            "[19,] 0.2857819 0.7142181      2   2\n",
            "[20,] 0.3481506 0.6518494      2   2\n"
          ]
        }
      ]
    }
  ]
}