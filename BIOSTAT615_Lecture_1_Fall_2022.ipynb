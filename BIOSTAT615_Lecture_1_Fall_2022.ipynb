{
  "nbformat": 4,
  "nbformat_minor": 0,
  "metadata": {
    "colab": {
      "name": "BIOSTAT615 Lecture 1 - Fall 2022.ipynb",
      "provenance": [],
      "collapsed_sections": [],
      "include_colab_link": true
    },
    "kernelspec": {
      "name": "ir",
      "display_name": "R"
    },
    "language_info": {
      "name": "R"
    }
  },
  "cells": [
    {
      "cell_type": "markdown",
      "metadata": {
        "id": "view-in-github",
        "colab_type": "text"
      },
      "source": [
        "<a href=\"https://colab.research.google.com/github/Jinzhao-Yu/BioStat615/blob/main/BIOSTAT615_Lecture_1_Fall_2022.ipynb\" target=\"_parent\"><img src=\"https://colab.research.google.com/assets/colab-badge.svg\" alt=\"Open In Colab\"/></a>"
      ]
    },
    {
      "cell_type": "markdown",
      "metadata": {
        "id": "CsA81DZ9fzt2"
      },
      "source": [
        "# BIOSTAT615 Lecture 1\n",
        "\n",
        "## Introduction\n",
        "This [Google Colab](https://research.google.com/colaboratory/) notebook contains example code and relevant notes for the [BIOSTAT615](https://sph.umich.edu/admissions/courses/course.php?courseID=BIOSTAT615) class from the [University of Michigan School of Public Health](https://sph.umich.edu/). The instructor recommends \n",
        "\n",
        "## Access Privilege and Copyrights\n",
        "You can view this notebook only through [University of Michigan Google accounts](https://its.umich.edu/communication/collaboration/google). The instructor, Hyun Min Kang, retains all rights provided by copyright law (i.e. [“All rights reserved”](https://en.wikipedia.org/wiki/All_rights_reserved)). You may not reproduce, resell, distribute, publicly perform, create derivative works, translate, transmit, post, republish, exploit, copy or otherwise use our this content for any part of the work without instructor's permission. "
      ]
    },
    {
      "cell_type": "markdown",
      "metadata": {
        "id": "VbYFK_ZRf7jq"
      },
      "source": [
        "## 1. Efficiency matters - A simple example\n",
        "Below is an example illustrating that slight differences in implementation details can make a big difference in computational speed."
      ]
    },
    {
      "cell_type": "code",
      "metadata": {
        "id": "Pij6iJeOfXq8",
        "outputId": "f0f028ed-9b1b-4b11-b577-341ee9d803a0",
        "colab": {
          "base_uri": "https://localhost:8080/",
          "height": 88
        }
      },
      "source": [
        "## sample size is 20 million\n",
        "n = 2e7\n",
        "\n",
        "## system.time() evaluates computational time\n",
        "## method 1 - using for loop \n",
        "system.time({\n",
        "  x=seq(n) \n",
        "  for (i in 1:length(x)) {\n",
        "    x[i]=x[i]^2\n",
        "  }\n",
        "})\n",
        "\n",
        "## method 2 - using vector operation\n",
        "system.time({\n",
        "  x=seq(n)^2\n",
        "})\n",
        "\n",
        "## the above two routines result in same output.\n",
        "## can you guess which one would be faster? by how much?"
      ],
      "execution_count": null,
      "outputs": [
        {
          "output_type": "display_data",
          "data": {
            "text/plain": [
              "   user  system elapsed \n",
              "  1.961   0.119   2.119 "
            ]
          },
          "metadata": {}
        },
        {
          "output_type": "display_data",
          "data": {
            "text/plain": [
              "   user  system elapsed \n",
              "  0.127   0.081   0.212 "
            ]
          },
          "metadata": {}
        }
      ]
    },
    {
      "cell_type": "markdown",
      "metadata": {
        "id": "A-DaXvlvhGrZ"
      },
      "source": [
        "## 2. R storage - A puzzling example"
      ]
    },
    {
      "cell_type": "code",
      "metadata": {
        "id": "tEQO3Lu9g3DM",
        "outputId": "af2be6e9-ab1f-4c0e-903a-23f9218304dd",
        "colab": {
          "base_uri": "https://localhost:8080/"
        }
      },
      "source": [
        "## Before running this code, try to predict what will happen \n",
        "## s is 2 billion\n",
        "s=2000000000\n",
        "\n",
        "## first, print the value of s\n",
        "print(s)\n",
        "\n",
        "## second, print the value of s+s\n",
        "print(s+s)\n",
        "\n",
        "## what do you expect to be printed?"
      ],
      "execution_count": 1,
      "outputs": [
        {
          "output_type": "stream",
          "name": "stdout",
          "text": [
            "[1] 2e+09\n",
            "[1] 4e+09\n"
          ]
        }
      ]
    },
    {
      "cell_type": "code",
      "metadata": {
        "id": "cl2AeMhfhCHT",
        "colab": {
          "base_uri": "https://localhost:8080/"
        },
        "outputId": "3568063c-3206-4f72-83c1-d05f4bc60ea5"
      },
      "source": [
        "## Before running this code, try to predict what will happen \n",
        "## only difference from above is to put L at the end (what does it do?)\n",
        "s=2000000000L\n",
        "\n",
        "## run the same sequence of code as before.\n",
        "print(s)\n",
        "print(s+s)\n",
        "## what do you expect to be printed?"
      ],
      "execution_count": 2,
      "outputs": [
        {
          "output_type": "stream",
          "name": "stdout",
          "text": [
            "[1] 2000000000\n"
          ]
        },
        {
          "output_type": "stream",
          "name": "stderr",
          "text": [
            "Warning message in s + s:\n",
            "“NAs produced by integer overflow”\n"
          ]
        },
        {
          "output_type": "stream",
          "name": "stdout",
          "text": [
            "[1] NA\n"
          ]
        }
      ]
    },
    {
      "cell_type": "code",
      "metadata": {
        "outputId": "5d551f70-84b7-4868-a2f2-ecbbe6ac81f2",
        "colab": {
          "base_uri": "https://localhost:8080/"
        },
        "id": "vLS5B8eZ70n3"
      },
      "source": [
        "s=1000000000L\n",
        "\n",
        "## run the same sequence of code as before.\n",
        "print(s)\n",
        "print(s+s)\n",
        "## what do you expect to be printed?"
      ],
      "execution_count": 3,
      "outputs": [
        {
          "output_type": "stream",
          "name": "stdout",
          "text": [
            "[1] 1000000000\n",
            "[1] 2000000000\n"
          ]
        }
      ]
    },
    {
      "cell_type": "code",
      "metadata": {
        "id": "fqdnvgAQhFPc",
        "outputId": "573c7bec-0c7e-4486-c1ff-0637c5a1aa69",
        "colab": {
          "base_uri": "https://localhost:8080/",
          "height": 34
        }
      },
      "source": [
        "## Let's figure out why the difference happens\n",
        "## by comparing the storage mode of two assigned values\n",
        "\n",
        "## In the first example, s was assigned as number without suffix\n",
        "s=2000000000\n",
        "\n",
        "## Find out how the variable is stored\n",
        "storage.mode(s)"
      ],
      "execution_count": 4,
      "outputs": [
        {
          "output_type": "display_data",
          "data": {
            "text/html": [
              "'double'"
            ],
            "text/markdown": "'double'",
            "text/latex": "'double'",
            "text/plain": [
              "[1] \"double\""
            ]
          },
          "metadata": {}
        }
      ]
    },
    {
      "cell_type": "code",
      "source": [
        "## In the secoond example, s was assigned with suffix L\n",
        "s=2000000000L\n",
        "\n",
        "## Find out how the variable is stored.\n",
        "storage.mode(s)"
      ],
      "metadata": {
        "id": "i_L6Kc00wFU3",
        "outputId": "6e775d81-0417-4330-a268-445ded20aac7",
        "colab": {
          "base_uri": "https://localhost:8080/",
          "height": 34
        }
      },
      "execution_count": 5,
      "outputs": [
        {
          "output_type": "display_data",
          "data": {
            "text/html": [
              "'integer'"
            ],
            "text/markdown": "'integer'",
            "text/latex": "'integer'",
            "text/plain": [
              "[1] \"integer\""
            ]
          },
          "metadata": {}
        }
      ]
    },
    {
      "cell_type": "markdown",
      "source": [
        "**Question:** What difference do you see between the two? How is the storage mode related to the warning messages?"
      ],
      "metadata": {
        "id": "WJh6pzHewSNj"
      }
    },
    {
      "cell_type": "markdown",
      "source": [
        "'double' and 'integer'"
      ],
      "metadata": {
        "id": "Qoo1qrLD8RtE"
      }
    },
    {
      "cell_type": "markdown",
      "metadata": {
        "id": "niCT3ergl3fk"
      },
      "source": [
        "## 3. R storage - limits and precisions"
      ]
    },
    {
      "cell_type": "code",
      "metadata": {
        "id": "tC10ge2VhYw3",
        "outputId": "3f26338c-0ea1-46cc-d1c7-e30170950dcf",
        "colab": {
          "base_uri": "https://localhost:8080/",
          "height": 374
        }
      },
      "source": [
        "## This code simply displays various types of machine precision\n",
        "noquote(format(.Machine))"
      ],
      "execution_count": 7,
      "outputs": [
        {
          "output_type": "display_data",
          "data": {
            "text/plain": [
              "               double.eps            double.neg.eps               double.xmin \n",
              "             2.220446e-16              1.110223e-16             2.225074e-308 \n",
              "              double.xmax               double.base             double.digits \n",
              "            1.797693e+308                         2                        53 \n",
              "          double.rounding              double.guard         double.ulp.digits \n",
              "                        5                         0                       -52 \n",
              "    double.neg.ulp.digits           double.exponent            double.min.exp \n",
              "                      -53                        11                     -1022 \n",
              "           double.max.exp               integer.max               sizeof.long \n",
              "                     1024                2147483647                         8 \n",
              "          sizeof.longlong         sizeof.longdouble            sizeof.pointer \n",
              "                        8                        16                         8 \n",
              "           longdouble.eps        longdouble.neg.eps         longdouble.digits \n",
              "             1.084202e-19              5.421011e-20                        64 \n",
              "      longdouble.rounding          longdouble.guard     longdouble.ulp.digits \n",
              "                        5                         0                       -63 \n",
              "longdouble.neg.ulp.digits       longdouble.exponent        longdouble.min.exp \n",
              "                      -64                        15                    -16382 \n",
              "       longdouble.max.exp \n",
              "                    16384 "
            ]
          },
          "metadata": {}
        }
      ]
    },
    {
      "cell_type": "markdown",
      "source": [
        "**Q1:** Can you tell which value is relevant to the warning message before?\n",
        "\n",
        "`integer_max`: the max that integer can store\n",
        "\n",
        "**Q2:** Can you explain what other variables represent?"
      ],
      "metadata": {
        "id": "eQH5LsyD5y5O"
      }
    },
    {
      "cell_type": "markdown",
      "metadata": {
        "id": "n2Rfl20Ll6xF"
      },
      "source": [
        "## 4. Useful facts on default storage mode"
      ]
    },
    {
      "cell_type": "code",
      "metadata": {
        "id": "Dwad_PedhcAQ",
        "outputId": "33901b23-6109-470e-d0be-d306883d80b3",
        "colab": {
          "base_uri": "https://localhost:8080/",
          "height": 34
        }
      },
      "source": [
        "## what is the default storage mode for vectors?\n",
        "x = c(1,2,3,4,5)\n",
        "storage.mode(x)"
      ],
      "execution_count": 8,
      "outputs": [
        {
          "output_type": "display_data",
          "data": {
            "text/html": [
              "'double'"
            ],
            "text/markdown": "'double'",
            "text/latex": "'double'",
            "text/plain": [
              "[1] \"double\""
            ]
          },
          "metadata": {}
        }
      ]
    },
    {
      "cell_type": "code",
      "source": [
        "## what is the default storage mode for intervals?\n",
        "x = 1:5\n",
        "print(x)\n",
        "storage.mode(x)"
      ],
      "metadata": {
        "id": "a0_VTP3Q2Ndc",
        "outputId": "a6a0229c-4640-4bb2-a471-d1942d6a19a4",
        "colab": {
          "base_uri": "https://localhost:8080/",
          "height": 52
        }
      },
      "execution_count": 9,
      "outputs": [
        {
          "output_type": "stream",
          "name": "stdout",
          "text": [
            "[1] 1 2 3 4 5\n"
          ]
        },
        {
          "output_type": "display_data",
          "data": {
            "text/html": [
              "'integer'"
            ],
            "text/markdown": "'integer'",
            "text/latex": "'integer'",
            "text/plain": [
              "[1] \"integer\""
            ]
          },
          "metadata": {}
        }
      ]
    },
    {
      "cell_type": "code",
      "source": [
        "## what about the results of comparison operator?\n",
        "x = 1:5 > 3\n",
        "print(x) ## do you know what is contained in x?\n",
        "storage.mode(x) "
      ],
      "metadata": {
        "id": "qMvC2rZu2Nl_",
        "outputId": "742d0acd-b9fe-4506-b091-081dde3cf856",
        "colab": {
          "base_uri": "https://localhost:8080/",
          "height": 52
        }
      },
      "execution_count": 10,
      "outputs": [
        {
          "output_type": "stream",
          "name": "stdout",
          "text": [
            "[1] FALSE FALSE FALSE  TRUE  TRUE\n"
          ]
        },
        {
          "output_type": "display_data",
          "data": {
            "text/html": [
              "'logical'"
            ],
            "text/markdown": "'logical'",
            "text/latex": "'logical'",
            "text/plain": [
              "[1] \"logical\""
            ]
          },
          "metadata": {}
        }
      ]
    },
    {
      "cell_type": "code",
      "source": [
        "## what about strings?\n",
        "x = paste0(1:5,collapse=\",\")\n",
        "print(x) ## do you know what is contained in x?\n",
        "storage.mode(x)"
      ],
      "metadata": {
        "id": "ZKXTKwOe2NvY",
        "outputId": "8b444453-33fa-4cb8-e923-cc25cd5d333b",
        "colab": {
          "base_uri": "https://localhost:8080/",
          "height": 52
        }
      },
      "execution_count": 11,
      "outputs": [
        {
          "output_type": "stream",
          "name": "stdout",
          "text": [
            "[1] \"1,2,3,4,5\"\n"
          ]
        },
        {
          "output_type": "display_data",
          "data": {
            "text/html": [
              "'character'"
            ],
            "text/markdown": "'character'",
            "text/latex": "'character'",
            "text/plain": [
              "[1] \"character\""
            ]
          },
          "metadata": {}
        }
      ]
    },
    {
      "cell_type": "code",
      "source": [
        "## what about list?\n",
        "x = list(name=\"Hyun\",score=95,grade=\"A\")\n",
        "print(x)\n",
        "storage.mode(x)"
      ],
      "metadata": {
        "id": "EluOa4EH3b-Q",
        "outputId": "cef317b1-7489-49e9-add7-60f8eae5dca6",
        "colab": {
          "base_uri": "https://localhost:8080/",
          "height": 195
        }
      },
      "execution_count": 12,
      "outputs": [
        {
          "output_type": "stream",
          "name": "stdout",
          "text": [
            "$name\n",
            "[1] \"Hyun\"\n",
            "\n",
            "$score\n",
            "[1] 95\n",
            "\n",
            "$grade\n",
            "[1] \"A\"\n",
            "\n"
          ]
        },
        {
          "output_type": "display_data",
          "data": {
            "text/html": [
              "'list'"
            ],
            "text/markdown": "'list'",
            "text/latex": "'list'",
            "text/plain": [
              "[1] \"list\""
            ]
          },
          "metadata": {}
        }
      ]
    },
    {
      "cell_type": "code",
      "source": [
        "## what about data frame?\n",
        "x = data.frame(\n",
        "  names=c(\"Hyun\",\"Mike\",\"Bhramar\"),\n",
        "  scores=c(77,99,95),\n",
        "  grades=c(\"B+\",\"A+\",\"A\")\n",
        ")\n",
        "print(x)        ## do you know what is stored in x?\n",
        "storage.mode(x) ## do you know what is the storage mode mode of data frame?"
      ],
      "metadata": {
        "id": "YQgMLoEn3OOb",
        "outputId": "3b4c0612-6ccb-4079-b24b-cbf1be4ea948",
        "colab": {
          "base_uri": "https://localhost:8080/",
          "height": 106
        }
      },
      "execution_count": 13,
      "outputs": [
        {
          "output_type": "stream",
          "name": "stdout",
          "text": [
            "    names scores grades\n",
            "1    Hyun     77     B+\n",
            "2    Mike     99     A+\n",
            "3 Bhramar     95      A\n"
          ]
        },
        {
          "output_type": "display_data",
          "data": {
            "text/html": [
              "'list'"
            ],
            "text/markdown": "'list'",
            "text/latex": "'list'",
            "text/plain": [
              "[1] \"list\""
            ]
          },
          "metadata": {}
        }
      ]
    },
    {
      "cell_type": "markdown",
      "metadata": {
        "id": "HXNL86LamAaC"
      },
      "source": [
        "## 5. Floating point - Another puzzling example"
      ]
    },
    {
      "cell_type": "code",
      "metadata": {
        "id": "kqcGiwvOhodn",
        "outputId": "3e176b7c-ebbc-4448-dc23-b73a3e66db31",
        "colab": {
          "base_uri": "https://localhost:8080/"
        }
      },
      "source": [
        "## The value of x is one quadrillion\n",
        "x = 1e15\n",
        "\n",
        "## what do you expect to be printed? why?\n",
        "print(x+1-x)"
      ],
      "execution_count": 14,
      "outputs": [
        {
          "output_type": "stream",
          "name": "stdout",
          "text": [
            "[1] 1\n"
          ]
        }
      ]
    },
    {
      "cell_type": "code",
      "metadata": {
        "id": "GNEfAGu3mKkJ",
        "outputId": "92f50930-07d6-43a3-ad86-a5197228772c",
        "colab": {
          "base_uri": "https://localhost:8080/"
        }
      },
      "source": [
        "## The value of x is ten quadrillion\n",
        "x = 1e16\n",
        "\n",
        "## what do you expect to be printed? why?\n",
        "print(x+1-x)"
      ],
      "execution_count": 15,
      "outputs": [
        {
          "output_type": "stream",
          "name": "stdout",
          "text": [
            "[1] 0\n"
          ]
        }
      ]
    },
    {
      "cell_type": "markdown",
      "source": [
        "**Question:** Can you explain why you see a difference between the two examples?"
      ],
      "metadata": {
        "id": "MNVTGoRz_O-L"
      }
    },
    {
      "cell_type": "markdown",
      "metadata": {
        "id": "ILCt5URtmFGL"
      },
      "source": [
        "## 6. Floating point - More puzzling examples"
      ]
    },
    {
      "cell_type": "markdown",
      "source": [
        "`pnorm(z, mu, s2)` evaluates $\\Pr(Z < z)$ when $Z \\sim \\mathcal{N}(\\mu,s^2)$.\n",
        "\n",
        "Let's evaluate $\\Pr(Z < -9)$ when $Z \\sim \\mathcal{N}(0,1)$"
      ],
      "metadata": {
        "id": "4hCD65ooASXx"
      }
    },
    {
      "cell_type": "code",
      "metadata": {
        "id": "DRiSToEUjvFI",
        "outputId": "1af98251-5390-4b0d-ab28-780d32ae4282",
        "colab": {
          "base_uri": "https://localhost:8080/",
          "height": 34
        }
      },
      "source": [
        "## pnorm() is a CDF for normal distribution\n",
        "## Calculate Pr(Z < -9) when Z ~ N(0,1)\n",
        "pnorm(-9,0,1)"
      ],
      "execution_count": 16,
      "outputs": [
        {
          "output_type": "display_data",
          "data": {
            "text/html": [
              "1.12858840595384e-19"
            ],
            "text/markdown": "1.12858840595384e-19",
            "text/latex": "1.12858840595384e-19",
            "text/plain": [
              "[1] 1.128588e-19"
            ]
          },
          "metadata": {}
        }
      ]
    },
    {
      "cell_type": "markdown",
      "source": [
        "Now, let's evaluate $\\Pr(Z > 9)$ when $Z \\sim \\mathcal{N}(0,1)$ instead.\n",
        "\n",
        "We know that $\\Pr(Z > 9) = 1 - \\Pr(Z < 9)$.  \n",
        "\n",
        "We also know that $\\Pr(Z > 9) = \\Pr(Z < -9)$ because the pdf is symmetric across zero."
      ],
      "metadata": {
        "id": "ymheWg65AvA-"
      }
    },
    {
      "cell_type": "code",
      "source": [
        "pnorm(9,0,1)"
      ],
      "metadata": {
        "id": "5RhwBbenCdvz",
        "outputId": "28d35189-5307-4860-ec07-ab1abae228f1",
        "colab": {
          "base_uri": "https://localhost:8080/",
          "height": 34
        }
      },
      "execution_count": 19,
      "outputs": [
        {
          "output_type": "display_data",
          "data": {
            "text/html": [
              "1"
            ],
            "text/markdown": "1",
            "text/latex": "1",
            "text/plain": [
              "[1] 1"
            ]
          },
          "metadata": {}
        }
      ]
    },
    {
      "cell_type": "code",
      "source": [
        "## To calculate Pr(Z > 9) = 1 - Pr(Z < 9) \n",
        "1-pnorm(9,0,1)\n",
        "## This value should be the same to Pr(Z < -9), is it true?"
      ],
      "metadata": {
        "id": "WK0Ld1u4ALJI",
        "outputId": "1b00c5cf-954e-4f3d-ae42-003b9483cdf1",
        "colab": {
          "base_uri": "https://localhost:8080/",
          "height": 34
        }
      },
      "execution_count": 17,
      "outputs": [
        {
          "output_type": "display_data",
          "data": {
            "text/html": [
              "0"
            ],
            "text/markdown": "0",
            "text/latex": "0",
            "text/plain": [
              "[1] 0"
            ]
          },
          "metadata": {}
        }
      ]
    },
    {
      "cell_type": "code",
      "source": [
        "## Alternative, we can calculate Pr(Z > 9) directly \n",
        "pnorm(9,0,1,lower.tail=FALSE)\n",
        "## Is this value the same to Pr(Z < -9)?"
      ],
      "metadata": {
        "id": "frqkQjZI_1cb",
        "outputId": "17d6264d-f94b-4a6e-f9ea-3a509807dbbf",
        "colab": {
          "base_uri": "https://localhost:8080/",
          "height": 34
        }
      },
      "execution_count": 18,
      "outputs": [
        {
          "output_type": "display_data",
          "data": {
            "text/html": [
              "1.12858840595384e-19"
            ],
            "text/markdown": "1.12858840595384e-19",
            "text/latex": "1.12858840595384e-19",
            "text/plain": [
              "[1] 1.128588e-19"
            ]
          },
          "metadata": {}
        }
      ]
    },
    {
      "cell_type": "markdown",
      "source": [
        "Finally, let's evaluate $Pr(Z < -40)$ when $Z \\sim \\mathcal{N}(0,1)$."
      ],
      "metadata": {
        "id": "943btiHmJFoy"
      }
    },
    {
      "cell_type": "code",
      "source": [
        "## To calculate Pr(Z < -40)\n",
        "pnorm(-40,0,1)\n",
        "## what did you expect to be printed?\n",
        "## why do you think that you see the outcome below?"
      ],
      "metadata": {
        "id": "4J9phz5aJBrW",
        "outputId": "96ed27c6-47d7-4c18-c650-173d7925d6d9",
        "colab": {
          "base_uri": "https://localhost:8080/",
          "height": 34
        }
      },
      "execution_count": 20,
      "outputs": [
        {
          "output_type": "display_data",
          "data": {
            "text/html": [
              "0"
            ],
            "text/markdown": "0",
            "text/latex": "0",
            "text/plain": [
              "[1] 0"
            ]
          },
          "metadata": {}
        }
      ]
    },
    {
      "cell_type": "code",
      "metadata": {
        "id": "wCXs2qSQmTPP",
        "outputId": "c5284873-343a-4e74-ffe6-aece7dc3bd6c",
        "colab": {
          "base_uri": "https://localhost:8080/",
          "height": 34
        }
      },
      "source": [
        "## Alternatively, you can calculate Pr(Z < -40) more precisely\n",
        "pnorm(-40,0,1,log.p=TRUE)\n",
        "## how do you interpret the result?"
      ],
      "execution_count": 21,
      "outputs": [
        {
          "output_type": "display_data",
          "data": {
            "text/html": [
              "-804.608442013754"
            ],
            "text/markdown": "-804.608442013754",
            "text/latex": "-804.608442013754",
            "text/plain": [
              "[1] -804.6084"
            ]
          },
          "metadata": {}
        }
      ]
    },
    {
      "cell_type": "markdown",
      "metadata": {
        "id": "ep0Xk9kqnFhM"
      },
      "source": [
        "## 7. Memory allocation for different data types"
      ]
    },
    {
      "cell_type": "code",
      "metadata": {
        "id": "QhXFrIWq2RtK"
      },
      "source": [
        "## function print_type_size(): \n",
        "##   takes a variable and prints the storage mode and memory allocated.\n",
        "print_type_size <- function(obj) {\n",
        "  cat(paste0(\"R memory allocated for \", storage.mode(obj), \n",
        "             \" of length \", length(obj), \" is \", object.size(obj), \" bytes.\\n\"))\n",
        "}"
      ],
      "execution_count": 22,
      "outputs": []
    },
    {
      "cell_type": "code",
      "source": [
        "## in each sample, we will allocate 1K elements\n",
        "vec_size = 1024L"
      ],
      "metadata": {
        "id": "MAwa5QJ_Mgre"
      },
      "execution_count": 23,
      "outputs": []
    },
    {
      "cell_type": "code",
      "source": [
        "## what do you expect to be printed?\n",
        "numeric_vec = rep(1.0,length=vec_size)\n",
        "print_type_size(numeric_vec)"
      ],
      "metadata": {
        "id": "5o8fvOY8Moca",
        "outputId": "169abe17-84bd-4766-a314-26ac8146eeb8",
        "colab": {
          "base_uri": "https://localhost:8080/"
        }
      },
      "execution_count": 24,
      "outputs": [
        {
          "output_type": "stream",
          "name": "stdout",
          "text": [
            "R memory allocated for double of length 1024 is 8240 bytes.\n"
          ]
        }
      ]
    },
    {
      "cell_type": "code",
      "source": [
        "## what do you expect to be printed?\n",
        "integer_vec = rep(1L,length=vec_size)\n",
        "print_type_size(integer_vec)"
      ],
      "metadata": {
        "id": "mOKFgghgM5R0",
        "outputId": "9dc6ef75-766e-4e28-8357-94a6760bb19a",
        "colab": {
          "base_uri": "https://localhost:8080/"
        }
      },
      "execution_count": 25,
      "outputs": [
        {
          "output_type": "stream",
          "name": "stdout",
          "text": [
            "R memory allocated for integer of length 1024 is 4144 bytes.\n"
          ]
        }
      ]
    },
    {
      "cell_type": "code",
      "source": [
        "## what do you expect to be printed?\n",
        "logical_vec = rep(TRUE,length=vec_size)\n",
        "print_type_size(logical_vec)"
      ],
      "metadata": {
        "id": "jdO4FS72NAmw",
        "outputId": "d8b6860f-f010-4af7-c7c4-ad1c273e934d",
        "colab": {
          "base_uri": "https://localhost:8080/"
        }
      },
      "execution_count": 26,
      "outputs": [
        {
          "output_type": "stream",
          "name": "stdout",
          "text": [
            "R memory allocated for logical of length 1024 is 4144 bytes.\n"
          ]
        }
      ]
    },
    {
      "cell_type": "code",
      "source": [
        "## what do you expect to be printed?\n",
        "A_list = as.list(numeric_vec)\n",
        "print_type_size(A_list)"
      ],
      "metadata": {
        "id": "RfERXkmANB5b",
        "outputId": "c2ffac6c-0078-4870-a16c-b4e9d3047184",
        "colab": {
          "base_uri": "https://localhost:8080/"
        }
      },
      "execution_count": 27,
      "outputs": [
        {
          "output_type": "stream",
          "name": "stdout",
          "text": [
            "R memory allocated for list of length 1024 is 65584 bytes.\n"
          ]
        }
      ]
    },
    {
      "cell_type": "markdown",
      "metadata": {
        "id": "L0wIWz5FnMRv"
      },
      "source": [
        "## 8. Binary representation of non-negative integers"
      ]
    },
    {
      "cell_type": "code",
      "metadata": {
        "id": "x2snfjDq4l6q"
      },
      "source": [
        "## function print_binary_integer_16bit():\n",
        "##   takes an integer value (0 to 65536) and print as binary string\n",
        "## NOTE: You do not need to understand the details of this function.\n",
        "print_binary_int16 <- function(strval) {\n",
        "  val = as.integer(strval) \n",
        "  if ( is.na(val) || val < 0 || val > 65536L ){\n",
        "    cat(paste0(strval, \" is not a valid integer between 0 and 65536!\\n\"))\n",
        "  } else {\n",
        "    ## create a sequence of 2^16, ..., 2, 1\n",
        "    bases = bitwShiftL(1L,seq(15L,0L,by=-1L))\n",
        "    ## compute the binary value\n",
        "    binary_val = ifelse(bitwAnd(val,bases)>0,1L,0L)\n",
        "    ## print out the result\n",
        "    cat(binary_val,\"\\n\",sep=\"\")\n",
        "  }\n",
        "}"
      ],
      "execution_count": 28,
      "outputs": []
    },
    {
      "cell_type": "code",
      "source": [
        "# Obtain an integer from keyboard, and try the method\n",
        "x <- readline(\"Type an integer: \")\n",
        "print_binary_int16(x)"
      ],
      "metadata": {
        "id": "rslvOI4uOP3M",
        "outputId": "d39e0073-3304-4d3c-d65f-0a33caa966ad",
        "colab": {
          "base_uri": "https://localhost:8080/"
        }
      },
      "execution_count": 31,
      "outputs": [
        {
          "output_type": "stream",
          "name": "stdout",
          "text": [
            "Type an integer: 35394\n",
            "1000101001000010\n"
          ]
        }
      ]
    },
    {
      "cell_type": "code",
      "metadata": {
        "id": "2zfg1gwV5MSt"
      },
      "source": [
        "## function print_binary_int32():\n",
        "##   takes a 32-bit integer value (0 to 217483647) and print as binary string\n",
        "## NOTE: You do not need to understand the details of this function.\n",
        "print_binary_int32 <- function(strval) {\n",
        "  val = as.integer(strval)\n",
        "  if ( is.na(val) || val < 0){\n",
        "    cat(paste0(strval, \" is not a valid integer between 0 and 217483657!\\n\"))\n",
        "  } else {  \n",
        "    ## use intToBits() function to convert integer to 32 bitwise arrays \n",
        "    cat(paste0(as.integer(rev(intToBits(val))),collapse=\"\"))\n",
        "    cat(\"\\n\")\n",
        "  }\n",
        "}"
      ],
      "execution_count": 32,
      "outputs": []
    },
    {
      "cell_type": "code",
      "metadata": {
        "id": "YdQSBz6okES2",
        "outputId": "73f1c4e4-e3f2-406f-a166-c84f73ea321b",
        "colab": {
          "base_uri": "https://localhost:8080/"
        }
      },
      "source": [
        "# Obtain an integer from keyboard, and try the method\n",
        "x <- readline(\"Type an integer: \")\n",
        "print_binary_int32(x)"
      ],
      "execution_count": 33,
      "outputs": [
        {
          "output_type": "stream",
          "name": "stdout",
          "text": [
            "Type an integer: 46494655\n",
            "00000010110001010111001110111111\n"
          ]
        }
      ]
    },
    {
      "cell_type": "code",
      "source": [
        "## function print_binary_float64():\n",
        "##   takes a 64-bit numeric value and print as binary string\n",
        "## NOTE: You do not need to understand the details of this function.\n",
        "## See https://en.wikipedia.org/wiki/Double-precision_floating-point_format to understand more details\n",
        "print_binary_float64 <- function(strval) {\n",
        "  val = as.double(strval)\n",
        "  if ( is.na(val) ){\n",
        "    cat(paste0(strval, \" is not a valid numeric value\\n\"))\n",
        "  } else {  \n",
        "    ## use numToBits() function to convert integer to 32 bitwise arrays \n",
        "    arr = as.integer(rev(numToBits(val)))\n",
        "    cat(paste0(arr[1],collapse=\"\"))\n",
        "    cat(\" \")\n",
        "    cat(paste0(arr[2:12],collapse=\"\"))\n",
        "    cat(\" \")\n",
        "    cat(paste0(arr[13:64],collapse=\"\"))\n",
        "    cat(\"\\n\")\n",
        "  }\n",
        "}"
      ],
      "metadata": {
        "id": "kzhVPGLRRA8j"
      },
      "execution_count": 34,
      "outputs": []
    },
    {
      "cell_type": "code",
      "source": [
        "# Obtain an numeric value from keyboard, and try the method\n",
        "x <- readline(\"Type an numeric value: \")\n",
        "print_binary_float64(x)"
      ],
      "metadata": {
        "id": "i-_4f3moSAaT",
        "outputId": "0762c8f3-15dd-46d7-eb0e-b494547fd8e8",
        "colab": {
          "base_uri": "https://localhost:8080/"
        }
      },
      "execution_count": 35,
      "outputs": [
        {
          "output_type": "stream",
          "name": "stdout",
          "text": [
            "Type an numeric value: 5787677558798\n",
            "0 10000101001 0101000011100011000111011100001000000011100000000000\n"
          ]
        }
      ]
    }
  ]
}