{
  "nbformat": 4,
  "nbformat_minor": 0,
  "metadata": {
    "colab": {
      "provenance": [],
      "collapsed_sections": [],
      "include_colab_link": true
    },
    "kernelspec": {
      "name": "ir",
      "display_name": "R"
    },
    "language_info": {
      "name": "R"
    }
  },
  "cells": [
    {
      "cell_type": "markdown",
      "metadata": {
        "id": "view-in-github",
        "colab_type": "text"
      },
      "source": [
        "<a href=\"https://colab.research.google.com/github/Jinzhao-Yu/BioStat615/blob/main/BIOSTAT615_Lecture_5_Fall_2022.ipynb\" target=\"_parent\"><img src=\"https://colab.research.google.com/assets/colab-badge.svg\" alt=\"Open In Colab\"/></a>"
      ]
    },
    {
      "cell_type": "markdown",
      "metadata": {
        "id": "9zJQOHO0oqhd"
      },
      "source": [
        "# BIOSTAT615 Lecture 5 - R"
      ]
    },
    {
      "cell_type": "code",
      "metadata": {
        "id": "9qmltro0c-x2"
      },
      "source": [
        "## load libraries needed\n",
        "library(Matrix)\n",
        "library(ggplot2)"
      ],
      "execution_count": null,
      "outputs": []
    },
    {
      "cell_type": "markdown",
      "metadata": {
        "id": "NWst1HtPFo2G"
      },
      "source": [
        "## 1. Using `Matrix` R package\n"
      ]
    },
    {
      "cell_type": "code",
      "metadata": {
        "id": "M_PuwmS6FoB_"
      },
      "source": [
        "## Create a 2x5 dense matrix \n",
        "A = matrix(c(0,-1,-1,-1,1,0,0,0,0,-2),2,5)\n",
        "## A = matrix(c(-1,0,0,0,-1,0,0,-1,0,0,0,0,0,1,0,0,0,0,0,0,-2),3,7) ## Another 3x7 example with more zeros\n",
        "print(A)"
      ],
      "execution_count": null,
      "outputs": []
    },
    {
      "cell_type": "code",
      "metadata": {
        "id": "1xOTate5HdKM"
      },
      "source": [
        "## Convert the matrix into various sparse representations\n",
        "M_dgr = as(A,\"RsparseMatrix\") # Convert to CSR matrix\n",
        "M_dgc = as(A,\"CsparseMatrix\") # Convert to CSC matrix\n",
        "M_dgt = as(A,\"TsparseMatrix\") # Convert to sparse triplets"
      ],
      "execution_count": null,
      "outputs": []
    },
    {
      "cell_type": "code",
      "metadata": {
        "id": "E78AVpydGrZq"
      },
      "source": [
        "## print the structure of CSR matrix\n",
        "print(M_dgr@p) # 0-based row pointers\n",
        "print(M_dgr@j) # 0-based column indices\n",
        "print(M_dgr@x) # Actual non-zero values"
      ],
      "execution_count": null,
      "outputs": []
    },
    {
      "cell_type": "code",
      "metadata": {
        "id": "B_v5PhArGODg"
      },
      "source": [
        "# print the structure of CSC matrix\n",
        "print(M_dgc@p) # 0-based column pointers\n",
        "print(M_dgc@i) # 0-based row indices\n",
        "print(M_dgc@x) # Actual non-zero values"
      ],
      "execution_count": null,
      "outputs": []
    },
    {
      "cell_type": "code",
      "metadata": {
        "id": "EcfE_NaLG7m1"
      },
      "source": [
        "# print the structure of triplet-sparse-matrix\n",
        "print(M_dgt@i) # 0-based row indices\n",
        "print(M_dgt@j) # 0-based column indices\n",
        "print(M_dgt@x) # Actual non-zero values"
      ],
      "execution_count": null,
      "outputs": []
    },
    {
      "cell_type": "markdown",
      "metadata": {
        "id": "sMnBenTwCwEI"
      },
      "source": [
        "## 2. Memory cost for sparse matices\n"
      ]
    },
    {
      "cell_type": "markdown",
      "source": [
        "Let's create a sparse matrix with a known sparsity.\n",
        "\n",
        "If we create a $10,000 \\times 10,000$ matrix with $5,000$ non-zero elements, what is the sparsity of the matrix?"
      ],
      "metadata": {
        "id": "mTMPXfxjWMgE"
      }
    },
    {
      "cell_type": "code",
      "metadata": {
        "id": "9wUHrrzPc0Hq"
      },
      "source": [
        "## create a large sparse matrix\n",
        "dims = c(10000,10000) ## total dimension : 10k by 10k\n",
        "nums = 5000 ## number of positive elements = 5k \n",
        "## nums = 50000 ## number of positive elements = 50k "
      ],
      "execution_count": null,
      "outputs": []
    },
    {
      "cell_type": "code",
      "source": [
        "i = sample(1:dims[1],nums,replace=TRUE) # row index\n",
        "j = sample(1:dims[2],nums,replace=TRUE) # column index\n",
        "x = sample(c(-2,-1,1,2),nums,replace=TRUE)      # values\n",
        "M_dgc = sparseMatrix(i=i,j=j,x=x,dims=dims) \n",
        "print(object.size(M_dgc),unit=\"Kb\")"
      ],
      "metadata": {
        "id": "V8DhJ19lUtlQ"
      },
      "execution_count": null,
      "outputs": []
    },
    {
      "cell_type": "code",
      "metadata": {
        "id": "QbzqJK2zdpkm"
      },
      "source": [
        "#convert CSC to CSR\n",
        "M_dgr = as(M_dgc,\"RsparseMatrix\")\n",
        "print(object.size(M_dgr),unit=\"Kb\")"
      ],
      "execution_count": null,
      "outputs": []
    },
    {
      "cell_type": "code",
      "metadata": {
        "id": "Ckybko0Xd0Cb"
      },
      "source": [
        "#convert CSC to COO\n",
        "M_dgt = as(M_dgc,\"TsparseMatrix\")\n",
        "print(object.size(M_dgt),unit=\"Kb\")"
      ],
      "execution_count": null,
      "outputs": []
    },
    {
      "cell_type": "code",
      "metadata": {
        "id": "S-__a-EAd5zU"
      },
      "source": [
        "#convert CSC to dense\n",
        "M_dense = as.matrix(M_dgc)\n",
        "print(object.size(M_dense),unit=\"Mb\")"
      ],
      "execution_count": null,
      "outputs": []
    },
    {
      "cell_type": "markdown",
      "metadata": {
        "id": "4fs2DT-7C1Uy"
      },
      "source": [
        "## 3. Compute cost for sparse matrices"
      ]
    },
    {
      "cell_type": "code",
      "metadata": {
        "id": "DM3NaQRheHZu"
      },
      "source": [
        "## Matrix Vector Multiplications\n",
        "## Calculate rowSums \n",
        "ones = rep(1,length=dims[2])\n",
        "system.time(a_dgc <- M_dgc%*%ones)\n",
        "system.time(a_dgr <- M_dgr%*%ones)\n",
        "system.time(a_dgt <- M_dgt%*%ones)\n",
        "system.time(a_dense <- M_dense%*%ones)"
      ],
      "execution_count": null,
      "outputs": []
    },
    {
      "cell_type": "code",
      "metadata": {
        "id": "bIyRuL2XjkuD"
      },
      "source": [
        "## Matrix-Matrix multiplication\n",
        "## Calculate t(M) %*% M\n",
        "system.time(X_dgc <- crossprod(M_dgc))\n",
        "system.time(X_dgr <- crossprod(M_dgr))\n",
        "system.time(X_dgt <- crossprod(M_dgt))\n",
        "system.time(X_dense <- crossprod(M_dense))"
      ],
      "execution_count": null,
      "outputs": []
    },
    {
      "cell_type": "code",
      "metadata": {
        "id": "uzQa09mGjuDa"
      },
      "source": [
        "## Matrix-Matrix multiplication\n",
        "## Calculate cholesky decomposition \n",
        "## (after adding a diagnoal offset to make it positive definite)\n",
        "system.time(chol_dgc <- chol(X_dgc+.sparseDiagonal(dims[2])))\n",
        "system.time(chol_dgr <- chol(X_dgr+.sparseDiagonal(dims[2])))\n",
        "system.time(chol_dgt <- chol(X_dgt+.sparseDiagonal(dims[2])))\n",
        "system.time(chol_dense <- chol(X_dense+diag(dims[2])))"
      ],
      "execution_count": null,
      "outputs": []
    },
    {
      "cell_type": "markdown",
      "metadata": {
        "id": "v9C9zluPhtkj"
      },
      "source": [
        "## 4. Solve linear systems with sparse matrix"
      ]
    },
    {
      "cell_type": "markdown",
      "source": [
        "Recall from Lecture 4\n",
        "\n",
        "Define \n",
        "$$\\begin{align}\n",
        "A & = X^T X = U^TU \\\\\n",
        "\\mathbf{b} & = X^T\\mathbf{y}\n",
        "\\end{align}$$\n",
        "\n",
        "To solve $\\mathbf{y} = X\\boldsymbol{\\beta}$, we have \n",
        "$$\\begin{align}\n",
        "\\mathbf{b} & = X^T\\mathbf{y} = X^TX\\boldsymbol{\\hat{\\beta}} = U^TU\\boldsymbol{\\hat{\\beta}} \n",
        "\\end{align}$$\n",
        "\n",
        "Then, we solve\n",
        "$$\n",
        "    U^T \\mathbf{z} = \\mathbf{b}\\\\\n",
        "    U\\hat{\\boldsymbol{\\beta}} = \\mathbf{z}\n",
        "$$"
      ],
      "metadata": {
        "id": "jgQOzE_PX6w6"
      }
    },
    {
      "cell_type": "code",
      "metadata": {
        "id": "05DBdfIPvxI0"
      },
      "source": [
        "# fit a linear regression with sparse design matrices\n",
        "sparse.lm = function(X,Y){\n",
        "  p = ncol(X)\n",
        "  n = nrow(X)\n",
        "  tXX = crossprod(X)      ## calculate t(X) %*% X\n",
        "  tXY <- crossprod(X,Y)   ## calculate b = t(X) %*% Y\n",
        "  U <- chol(tXX)          ## t(X) %*% X == t(U) %*% U\n",
        "\n",
        "  ## Even for sparse matrix, forwardsolve and backsolve works!!\n",
        "  z <- forwardsolve(U,tXY,upper.tri=TRUE,transpose=TRUE)  ## solve t(U) %*% z = b\n",
        "  return(backsolve(U,z))  ## solve U %*% beta = z\n",
        "}"
      ],
      "execution_count": null,
      "outputs": []
    },
    {
      "cell_type": "markdown",
      "source": [
        "Let's simulate an example with $\\boldsymbol{\\beta}$ having non-zero elements in first 10 elements."
      ],
      "metadata": {
        "id": "YYfEINEFeWz0"
      }
    },
    {
      "cell_type": "code",
      "metadata": {
        "id": "3DqJu44mkBgK"
      },
      "source": [
        "## Simulate sparse a design matrix\n",
        "set.seed(1000L)\n",
        "n = 1000000L\n",
        "p = 1000L\n",
        "q = 10L\n",
        "R2 = 0.9\n",
        "\n",
        "## spare matrix of 1M rows and 1K columns, with 10k non-zero elements\n",
        "X = rsparsematrix(nrow = n,ncol = p,nnz = 10*p)\n",
        "\n",
        "## true effect sizes are non-zero for first 10 elements (half positive, half negative)\n",
        "beta = sample(c(runif(q/2,min=2,max=5),runif(q/2,min=-5,max=-2),rep(0,p-q)))\n",
        "\n",
        "## simulate y = X %*% \\beta + e, each explaining 90% and 10% of variance\n",
        "mu = X%*%beta \n",
        "sigma = sqrt(var(mu[,1])/R2*(1-R2))\n",
        "Y = mu + rnorm(n,sd=sigma)\n",
        "\n",
        "## Solve the linear system with spare matrix\n",
        "system.time(beta_est <- sparse.lm(X,Y))"
      ],
      "execution_count": null,
      "outputs": []
    },
    {
      "cell_type": "code",
      "metadata": {
        "id": "qJ8Dr9B9v0ZN"
      },
      "source": [
        "## visualize true and estimated effect sizes\n",
        "library(ggplot2)\n",
        "df = data.frame(beta_est=beta_est,beta_true=beta)\n",
        "options(repr.plot.width=6, repr.plot.height=6) \n",
        "theme_set(theme_gray(base_size = 20))\n",
        "ggplot(df) + aes(x=beta_true, y=beta_est) + geom_point(size=3,shape=1) + geom_abline(slope=1,intercept=0,color='red')"
      ],
      "execution_count": null,
      "outputs": []
    },
    {
      "cell_type": "markdown",
      "metadata": {
        "id": "4NrkpAYjnJWZ"
      },
      "source": [
        "## 5. Real-world examples of sparse matrices"
      ]
    },
    {
      "cell_type": "markdown",
      "source": [
        "Let's load some real single cell RNA-seq data stored in sparse representation.\n",
        "\n",
        "This [test matrix file](https://raw.githubusercontent.com/satijalab/seurat/master/tests/testdata/matrix.mtx) suggests that there are 240 genes and 80 cells, and 4,814 (25%) elements have non-zero values.\n",
        "\n",
        "The file is stored in COO(Tsparsematrix) format following the [MatrixMarket exchange format](https://math.nist.gov/MatrixMarket/formats.html)."
      ],
      "metadata": {
        "id": "OQqtDUhQfweK"
      }
    },
    {
      "cell_type": "code",
      "source": [
        "cat(readLines(\"https://raw.githubusercontent.com/satijalab/seurat/master/tests/testdata/matrix.mtx\",n=10),sep=\"\\n\")"
      ],
      "metadata": {
        "id": "RgyEcWYaf1i3"
      },
      "execution_count": null,
      "outputs": []
    },
    {
      "cell_type": "markdown",
      "source": [
        "The information about 240 rows (genes) looks is stored in [this gene table file](https://raw.githubusercontent.com/satijalab/seurat/master/tests/testdata/genes.tsv)"
      ],
      "metadata": {
        "id": "HXqaNwi8iFD6"
      }
    },
    {
      "cell_type": "code",
      "source": [
        "cat(readLines(\"https://raw.githubusercontent.com/satijalab/seurat/master/tests/testdata/genes.tsv\",n=10),sep=\"\\n\")"
      ],
      "metadata": {
        "id": "aRA7qCvKgRku"
      },
      "execution_count": null,
      "outputs": []
    },
    {
      "cell_type": "markdown",
      "source": [
        "The sparse matrix stored in [MatrixMarketm exchange format](https://math.nist.gov/MatrixMarket/formats.html) can be loaded with `Matrix::readMM()` function."
      ],
      "metadata": {
        "id": "iqjknQ3riL76"
      }
    },
    {
      "cell_type": "code",
      "metadata": {
        "id": "Q8rgciKukiJ-"
      },
      "source": [
        "## read the sparse matrix\n",
        "mtx = readMM(\"https://raw.githubusercontent.com/satijalab/seurat/master/tests/testdata/matrix.mtx\")\n",
        "\n",
        "## read the gene information\n",
        "genes = read.table(\"https://raw.githubusercontent.com/satijalab/seurat/master/tests/testdata/genes.tsv\")"
      ],
      "execution_count": null,
      "outputs": []
    },
    {
      "cell_type": "code",
      "source": [
        "## print the dimensions\n",
        "print(dim(mtx))\n",
        "print(dim(genes))\n",
        "## peek the contents of the files\n",
        "print(mtx[1:5,1:5])\n",
        "print(head(genes))"
      ],
      "metadata": {
        "id": "Yp1uztcVjMha"
      },
      "execution_count": null,
      "outputs": []
    },
    {
      "cell_type": "code",
      "metadata": {
        "id": "6UCWxa07qoU1"
      },
      "source": [
        "## summary(mtx) returns non-zero elements with its indices\n",
        "mtx.df = summary(mtx)\n",
        "print(head(mtx.df))"
      ],
      "execution_count": null,
      "outputs": []
    },
    {
      "cell_type": "code",
      "source": [
        "## add a gene name column corresponding to gene index\n",
        "mtx.df$gene = genes$V2[mtx.df$i]\n",
        "print(head(mtx.df))"
      ],
      "metadata": {
        "id": "bksJSla5jws9"
      },
      "execution_count": null,
      "outputs": []
    },
    {
      "cell_type": "code",
      "metadata": {
        "id": "C-p6qLz3k_iR"
      },
      "source": [
        "## Visualize non-zero elements using geom_raster()\n",
        "options(repr.plot.width=20, repr.plot.height=5) \n",
        "theme_set(theme_gray(base_size = 10))\n",
        "ggplot(mtx.df) + aes(x=gene,y=j) + geom_raster(aes(fill=log10(x+1))) +\n",
        "  scale_fill_gradient(low=\"grey90\", high=\"red\") +\n",
        "  labs(x=\"Gene Names\",y=\"Cell Index\",fill=\"log10(Counts)\") +\n",
        "  theme(axis.text.x = element_text(angle = 90, vjust = 0.5, hjust=1))"
      ],
      "execution_count": null,
      "outputs": []
    }
  ]
}