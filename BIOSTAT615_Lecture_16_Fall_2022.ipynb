{
  "nbformat": 4,
  "nbformat_minor": 0,
  "metadata": {
    "colab": {
      "provenance": [],
      "include_colab_link": true
    },
    "kernelspec": {
      "name": "ir",
      "display_name": "R"
    },
    "language_info": {
      "name": "R"
    }
  },
  "cells": [
    {
      "cell_type": "markdown",
      "metadata": {
        "id": "view-in-github",
        "colab_type": "text"
      },
      "source": [
        "<a href=\"https://colab.research.google.com/github/Jinzhao-Yu/BioStat615/blob/main/BIOSTAT615_Lecture_16_Fall_2022.ipynb\" target=\"_parent\"><img src=\"https://colab.research.google.com/assets/colab-badge.svg\" alt=\"Open In Colab\"/></a>"
      ]
    },
    {
      "cell_type": "markdown",
      "metadata": {
        "id": "Vjo-ydKOE-UY"
      },
      "source": [
        "# BIOSTAT615 Lecture 16 - R"
      ]
    },
    {
      "cell_type": "markdown",
      "metadata": {
        "id": "GK12zTt3E-UZ"
      },
      "source": [
        "## 1. Fibonacci Numbers"
      ]
    },
    {
      "cell_type": "code",
      "metadata": {
        "id": "Hh8HS1TaE-UZ"
      },
      "source": [
        "#' A recusive implementation for fibonacci numbers\n",
        "fib.v1 = function(n) {\n",
        "  if ( n < 2 ) {\n",
        "    return (n)\n",
        "  } else {\n",
        "    return (fib.v1(n-1) + fib.v1(n-2))\n",
        "  }\n",
        "}"
      ],
      "execution_count": 1,
      "outputs": []
    },
    {
      "cell_type": "code",
      "metadata": {
        "id": "Fa1sTpLVE-Ua",
        "outputId": "010d0d20-8f63-42dd-db68-79971cbcf416",
        "colab": {
          "base_uri": "https://localhost:8080/",
          "height": 71
        }
      },
      "source": [
        "system.time(print(fib.v1(30)))"
      ],
      "execution_count": 2,
      "outputs": [
        {
          "output_type": "stream",
          "name": "stdout",
          "text": [
            "[1] 832040\n"
          ]
        },
        {
          "output_type": "display_data",
          "data": {
            "text/plain": [
              "   user  system elapsed \n",
              "  1.620   0.016   2.207 "
            ]
          },
          "metadata": {}
        }
      ]
    },
    {
      "cell_type": "code",
      "metadata": {
        "id": "tqF1Yb5BE-Ua",
        "outputId": "73edc2d9-6cf8-41d6-f713-5e1092a7f566",
        "colab": {
          "base_uri": "https://localhost:8080/",
          "height": 71
        }
      },
      "source": [
        "system.time(print(fib.v1(35)))"
      ],
      "execution_count": 3,
      "outputs": [
        {
          "output_type": "stream",
          "name": "stdout",
          "text": [
            "[1] 9227465\n"
          ]
        },
        {
          "output_type": "display_data",
          "data": {
            "text/plain": [
              "   user  system elapsed \n",
              " 16.199   0.087  18.217 "
            ]
          },
          "metadata": {}
        }
      ]
    },
    {
      "cell_type": "markdown",
      "source": [
        "## 2. A non-redundant Fibonacci"
      ],
      "metadata": {
        "id": "DE5LQOnBMFt6"
      }
    },
    {
      "cell_type": "code",
      "metadata": {
        "id": "8Vdr3POTE-Ua"
      },
      "source": [
        "#' A non-recusive implementation for fibonacci numbers\n",
        "fib.v2 = function(n) {\n",
        "  fibs = integer(length=n)\n",
        "  fibs[1] = 1\n",
        "  fibs[2] = 1\n",
        "  for(i in seq(3,n,1)) {\n",
        "    fibs[i] = fibs[i-1] + fibs[i-2]\n",
        "  }\n",
        "  return(fibs[n])\n",
        "}"
      ],
      "execution_count": 4,
      "outputs": []
    },
    {
      "cell_type": "code",
      "metadata": {
        "id": "fTpUngeLE-Ua",
        "outputId": "4dfb2e07-1c0b-4d52-a03a-8e97283c4b9c",
        "colab": {
          "base_uri": "https://localhost:8080/",
          "height": 71
        }
      },
      "source": [
        "system.time(print(fib.v2(30)))"
      ],
      "execution_count": 5,
      "outputs": [
        {
          "output_type": "stream",
          "name": "stdout",
          "text": [
            "[1] 832040\n"
          ]
        },
        {
          "output_type": "display_data",
          "data": {
            "text/plain": [
              "   user  system elapsed \n",
              "  0.006   0.000   0.006 "
            ]
          },
          "metadata": {}
        }
      ]
    },
    {
      "cell_type": "code",
      "metadata": {
        "id": "MTn3L-AJE-Ub",
        "outputId": "f25208c6-74b6-47c5-b749-d4b6c1c63e35",
        "colab": {
          "base_uri": "https://localhost:8080/",
          "height": 71
        }
      },
      "source": [
        "system.time(print(fib.v2(35)))"
      ],
      "execution_count": 6,
      "outputs": [
        {
          "output_type": "stream",
          "name": "stdout",
          "text": [
            "[1] 9227465\n"
          ]
        },
        {
          "output_type": "display_data",
          "data": {
            "text/plain": [
              "   user  system elapsed \n",
              "  0.001   0.000   0.001 "
            ]
          },
          "metadata": {}
        }
      ]
    },
    {
      "cell_type": "markdown",
      "metadata": {
        "id": "LzaITjUdhusf"
      },
      "source": [
        "## 3. Manhattan-Tourist Problem"
      ]
    },
    {
      "cell_type": "code",
      "metadata": {
        "id": "5hHsEmomJosn"
      },
      "source": [
        "#' Manhattan-Tourist Problem - dynamic programming\n",
        "#' @param hcost : n * (m-1) matrix for horizontal move cost\n",
        "#' @param vcost : (n-1) * m matrix for vertical move cost\n",
        "#' @return optimal cost to (row,col) \n",
        "MTP.v1 = function(hcost, vcost) {\n",
        "  n = nrow(hcost)\n",
        "  m = ncol(vcost)\n",
        "  stopifnot(m - 1 == ncol(hcost))\n",
        "  stopifnot(n - 1 == nrow(vcost))\n",
        "  optCost = matrix(NA, n, m)\n",
        "  optMove = matrix(-1, n, m)\n",
        "  for(i in 1:n) {\n",
        "    for(j in 1:m) {\n",
        "      if ( i == 1 ) {\n",
        "        if ( j == 1 ) {     ## i == 1, j == 1\n",
        "          optCost[i,j] = 0\n",
        "        } else {            ## i == 1, j > 1\n",
        "          optCost[i,j] = optCost[i,j-1] + hcost[i,j-1]\n",
        "          optMove[i,j] = 0\n",
        "        }\n",
        "      } else if ( j == 1 ) { ## i > 1, j == 1\n",
        "          optCost[i,j] = optCost[i-1,j] + vcost[i-1,j]\n",
        "          optMove[i,j] = 1\n",
        "      } else {\n",
        "          h = optCost[i,j-1] + hcost[i,j-1]\n",
        "          v = optCost[i-1,j] + vcost[i-1,j]\n",
        "          if ( h > v ) {\n",
        "            optMove[i,j] <- 1 ## optimal move is vertical\n",
        "            optCost[i,j] <- v\n",
        "          } else {\n",
        "            optMove[i,j] <- 0 ## optimal move is horizontal\n",
        "            optCost[i,j] <- h\n",
        "          }\n",
        "      }\n",
        "    }\n",
        "  }\n",
        "  return( list(cost=optCost,move=optMove) )\n",
        "}"
      ],
      "execution_count": 7,
      "outputs": []
    },
    {
      "cell_type": "code",
      "metadata": {
        "id": "78a1yH8YMIEo",
        "outputId": "fe7dad2c-96e7-40c2-c5db-6f85ffcf41e2",
        "colab": {
          "base_uri": "https://localhost:8080/"
        }
      },
      "source": [
        "hcost = matrix(c(4,7,6,1,1,2,4,8,6,5,0,5,1,4,8,7,9,0,7,5),5,4)\n",
        "vcost = matrix(c(0,9,1,3,6,7,8,6,6,1,4,6,2,0,8,0,4,6,9,7),4,5)\n",
        "print(hcost)\n",
        "print(vcost)"
      ],
      "execution_count": 8,
      "outputs": [
        {
          "output_type": "stream",
          "name": "stdout",
          "text": [
            "     [,1] [,2] [,3] [,4]\n",
            "[1,]    4    2    0    7\n",
            "[2,]    7    4    5    9\n",
            "[3,]    6    8    1    0\n",
            "[4,]    1    6    4    7\n",
            "[5,]    1    5    8    5\n",
            "     [,1] [,2] [,3] [,4] [,5]\n",
            "[1,]    0    6    6    2    4\n",
            "[2,]    9    7    1    0    6\n",
            "[3,]    1    8    4    8    9\n",
            "[4,]    3    6    6    0    7\n"
          ]
        }
      ]
    },
    {
      "cell_type": "code",
      "metadata": {
        "id": "I7q49m-qMgLU",
        "outputId": "206c9be8-fa20-43e3-ae45-9b9b77c5d902",
        "colab": {
          "base_uri": "https://localhost:8080/"
        }
      },
      "source": [
        "print(rst <- MTP.v1(hcost, vcost))"
      ],
      "execution_count": 9,
      "outputs": [
        {
          "output_type": "stream",
          "name": "stdout",
          "text": [
            "$cost\n",
            "     [,1] [,2] [,3] [,4] [,5]\n",
            "[1,]    0    4    6    6   13\n",
            "[2,]    0    7   11    8   17\n",
            "[3,]    9   14   12    8    8\n",
            "[4,]   10   11   16   16   17\n",
            "[5,]   13   14   19   16   21\n",
            "\n",
            "$move\n",
            "     [,1] [,2] [,3] [,4] [,5]\n",
            "[1,]   -1    0    0    0    0\n",
            "[2,]    1    0    0    1    0\n",
            "[3,]    1    1    1    1    0\n",
            "[4,]    1    0    1    1    1\n",
            "[5,]    1    0    0    1    0\n",
            "\n"
          ]
        }
      ]
    },
    {
      "cell_type": "markdown",
      "source": [
        "## 4. Backtracking in the Manhattan Tourist Problem"
      ],
      "metadata": {
        "id": "6ZUn4m0YMpKR"
      }
    },
    {
      "cell_type": "code",
      "metadata": {
        "id": "mp7aTDGSeAnk"
      },
      "source": [
        "#' MTP.path() - backtrack optimal patch\n",
        "#' @param cost - optimal cost output of MTP\n",
        "#' @param move - optimal move output of MTP\n",
        "#' @return A dataframe with (row, col, cost) in each step\n",
        "MTP.path = function(cost, move) {\n",
        "  m = nrow(move)\n",
        "  n = ncol(move)\n",
        "  k = m + n - 1 ## total number of moves needed\n",
        "  df = data.frame(row=rep(NA,k),col=rep(NA,k),cost=rep(NA,k))\n",
        "  x = m; y = n\n",
        "  for(i in seq(k,1,-1)) { # backtrack from destination\n",
        "    df[i,] = c(x,y,cost[x,y])\n",
        "    if ( move[x,y] == 1 ) { # vertical move\n",
        "      x = x-1\n",
        "    } else {  # horizontal move\n",
        "      y = y-1\n",
        "    }\n",
        "  }\n",
        "  return(df)\n",
        "}"
      ],
      "execution_count": 10,
      "outputs": []
    },
    {
      "cell_type": "code",
      "metadata": {
        "id": "e9AILkrDSKdl",
        "outputId": "7c5eecbc-b26d-45ca-ee5b-83ae86020504",
        "colab": {
          "base_uri": "https://localhost:8080/"
        }
      },
      "source": [
        "print(MTP.path(rst$cost,rst$move))"
      ],
      "execution_count": 11,
      "outputs": [
        {
          "output_type": "stream",
          "name": "stdout",
          "text": [
            "  row col cost\n",
            "1   1   1    0\n",
            "2   1   2    4\n",
            "3   1   3    6\n",
            "4   1   4    6\n",
            "5   2   4    8\n",
            "6   3   4    8\n",
            "7   4   4   16\n",
            "8   5   4   16\n",
            "9   5   5   21\n"
          ]
        }
      ]
    },
    {
      "cell_type": "markdown",
      "metadata": {
        "id": "B_W8OnFbW6eO"
      },
      "source": [
        "## 5. Edit Distance Problem"
      ]
    },
    {
      "cell_type": "code",
      "metadata": {
        "id": "6CUzho2iW5r1"
      },
      "source": [
        "#' edit.distance() - Align two strings\n",
        "#' @param s1, s2 - two strings to align\n",
        "#' @param gapcost - penalty for insertion/deletion\n",
        "#' @param subcost - penalty for substitution\n",
        "edit.distance = function(s1, s2, gapcost=1, subcost=1) {\n",
        "  x = c(\"\",strsplit(s1,\"\")[[1]])  ## split by chracter after an empty string\n",
        "  y = c(\"\",strsplit(s2,\"\")[[1]])\n",
        "  n = length(x); m = length(y)    ## n, m are the length of strings\n",
        "  cost = matrix(NA,n,m)           ## penalty for optimal path\n",
        "  move = matrix(NA,n,m)     ## -1:deletion, 0:match/substitution 1:insertion\n",
        "  for(i in 1:n) {\n",
        "    for(j in 1:m) {\n",
        "      if ( i == 1 ) {\n",
        "        if ( j == 1 ) { ## i=1,j=1\n",
        "          cost[i,j] = 0\n",
        "        } else {        ## i=1,j>1\n",
        "          cost[i,j] = cost[i,j-1] + gapcost\n",
        "          move[i,j] = 1 ## insertion\n",
        "        }\n",
        "      } else if ( j == 1 ) {  ## i>1,j==1\n",
        "        cost[i,j] = cost[i-1,j] + gapcost\n",
        "        move[i,j] = -1 ## deletion\n",
        "      } else {    ## i>1,j>1\n",
        "        icost = cost[i,j-1] + gapcost ## cost for insertion\n",
        "        dcost = cost[i-1,j] + gapcost ## cost for deletion\n",
        "        scost = cost[i-1,j-1] + (x[i] != y[j]) * subcost ## cost for match/subst\n",
        "        cost[i,j] = min(c(dcost,scost,icost)) ## pick the minimum cost\n",
        "        move[i,j] = which.min(c(dcost, scost, icost))-2 ## pick minimum path\n",
        "      }\n",
        "    }\n",
        "  }\n",
        "  ## construct alignment\n",
        "  i = n; j = m;   ## indices to backtrack\n",
        "  ax = c(); ay = c(); edit = c()  ## aligned strings\n",
        "  while((i > 1) || (j > 1)) {\n",
        "    if ( move[i,j] == 0 ) { ## match or substitution\n",
        "      ax = c(x[i],ax) \n",
        "      ay = c(y[j],ay)\n",
        "      edit = c( ifelse(x[i]==y[j],\".\",\"S\"), edit)\n",
        "      i = i-1\n",
        "      j = j-1\n",
        "    } else if ( move[i,j] > 0 ) { ## insertion\n",
        "      ax = c(\"-\",ax)\n",
        "      ay = c(y[j],ay)\n",
        "      j = j-1\n",
        "      edit = c(\"I\", edit)\n",
        "    } else {             ## deletion\n",
        "      ax = c(x[i],ax)\n",
        "      ay = c(\"-\",ay)\n",
        "      i = i-1\n",
        "      edit = c(\"D\", edit)\n",
        "    }\n",
        "  }\n",
        "  return(list(cost=cost,move=move,alignd.x=paste0(ax,collapse=\"\"),\n",
        "              aligned.y=paste0(ay,collapse=\"\"),edit.op=paste0(edit,collapse=\"\")))\n",
        "}"
      ],
      "execution_count": 12,
      "outputs": []
    },
    {
      "cell_type": "code",
      "metadata": {
        "id": "5Tp_K7XxYFn2",
        "outputId": "a640f725-9d3c-44f0-9d2c-11a4fca2c424",
        "colab": {
          "base_uri": "https://localhost:8080/"
        }
      },
      "source": [
        "print(edit.distance(\"FOOD\",\"MONEY\"))"
      ],
      "execution_count": 13,
      "outputs": [
        {
          "output_type": "stream",
          "name": "stdout",
          "text": [
            "$cost\n",
            "     [,1] [,2] [,3] [,4] [,5] [,6]\n",
            "[1,]    0    1    2    3    4    5\n",
            "[2,]    1    1    2    3    4    5\n",
            "[3,]    2    2    1    2    3    4\n",
            "[4,]    3    3    2    2    3    4\n",
            "[5,]    4    4    3    3    3    4\n",
            "\n",
            "$move\n",
            "     [,1] [,2] [,3] [,4] [,5] [,6]\n",
            "[1,]   NA    1    1    1    1    1\n",
            "[2,]   -1    0    0    0    0    0\n",
            "[3,]   -1   -1    0    1    1    1\n",
            "[4,]   -1   -1   -1    0    0    0\n",
            "[5,]   -1   -1   -1   -1    0    0\n",
            "\n",
            "$alignd.x\n",
            "[1] \"FO-OD\"\n",
            "\n",
            "$aligned.y\n",
            "[1] \"MONEY\"\n",
            "\n",
            "$edit.op\n",
            "[1] \"S.ISS\"\n",
            "\n"
          ]
        }
      ]
    },
    {
      "cell_type": "code",
      "metadata": {
        "id": "r0K0ioJka0R0",
        "outputId": "cef578a7-4d34-44ef-dc35-aa2266f29086",
        "colab": {
          "base_uri": "https://localhost:8080/"
        }
      },
      "source": [
        "print(edit.distance(\"ALTRUISTIC\",\"ALGORITHM\"))"
      ],
      "execution_count": 14,
      "outputs": [
        {
          "output_type": "stream",
          "name": "stdout",
          "text": [
            "$cost\n",
            "      [,1] [,2] [,3] [,4] [,5] [,6] [,7] [,8] [,9] [,10]\n",
            " [1,]    0    1    2    3    4    5    6    7    8     9\n",
            " [2,]    1    0    1    2    3    4    5    6    7     8\n",
            " [3,]    2    1    0    1    2    3    4    5    6     7\n",
            " [4,]    3    2    1    1    2    3    4    4    5     6\n",
            " [5,]    4    3    2    2    2    2    3    4    5     6\n",
            " [6,]    5    4    3    3    3    3    3    4    5     6\n",
            " [7,]    6    5    4    4    4    4    3    4    5     6\n",
            " [8,]    7    6    5    5    5    5    4    4    5     6\n",
            " [9,]    8    7    6    6    6    6    5    4    5     6\n",
            "[10,]    9    8    7    7    7    7    6    5    5     6\n",
            "[11,]   10    9    8    8    8    8    7    6    6     6\n",
            "\n",
            "$move\n",
            "      [,1] [,2] [,3] [,4] [,5] [,6] [,7] [,8] [,9] [,10]\n",
            " [1,]   NA    1    1    1    1    1    1    1    1     1\n",
            " [2,]   -1    0    1    1    1    1    1    1    1     1\n",
            " [3,]   -1   -1    0    1    1    1    1    1    1     1\n",
            " [4,]   -1   -1   -1    0    0    0    0    0    1     1\n",
            " [5,]   -1   -1   -1   -1    0    0    1    1    0     0\n",
            " [6,]   -1   -1   -1   -1   -1   -1    0    0    0     0\n",
            " [7,]   -1   -1   -1   -1   -1   -1    0    0    0     0\n",
            " [8,]   -1   -1   -1   -1   -1   -1   -1    0    0     0\n",
            " [9,]   -1   -1   -1   -1   -1   -1   -1    0    0     0\n",
            "[10,]   -1   -1   -1   -1   -1   -1   -1   -1    0     0\n",
            "[11,]   -1   -1   -1   -1   -1   -1   -1   -1   -1     0\n",
            "\n",
            "$alignd.x\n",
            "[1] \"AL-TRUISTIC\"\n",
            "\n",
            "$aligned.y\n",
            "[1] \"ALGOR-I-THM\"\n",
            "\n",
            "$edit.op\n",
            "[1] \"..IS.D.D.SS\"\n",
            "\n"
          ]
        }
      ]
    },
    {
      "cell_type": "code",
      "metadata": {
        "id": "VHFav9UxgDaU",
        "outputId": "957db82e-548c-421b-e39c-7ce5899f458d",
        "colab": {
          "base_uri": "https://localhost:8080/"
        }
      },
      "source": [
        "print(edit.distance(\"AGTGTCGG\",\"GTCGGA\"))"
      ],
      "execution_count": 15,
      "outputs": [
        {
          "output_type": "stream",
          "name": "stdout",
          "text": [
            "$cost\n",
            "      [,1] [,2] [,3] [,4] [,5] [,6] [,7]\n",
            " [1,]    0    1    2    3    4    5    6\n",
            " [2,]    1    1    2    3    4    5    5\n",
            " [3,]    2    1    2    3    3    4    5\n",
            " [4,]    3    2    1    2    3    4    5\n",
            " [5,]    4    3    2    2    2    3    4\n",
            " [6,]    5    4    3    3    3    3    4\n",
            " [7,]    6    5    4    3    4    4    4\n",
            " [8,]    7    6    5    4    3    4    5\n",
            " [9,]    8    7    6    5    4    3    4\n",
            "\n",
            "$move\n",
            "      [,1] [,2] [,3] [,4] [,5] [,6] [,7]\n",
            " [1,]   NA    1    1    1    1    1    1\n",
            " [2,]   -1    0    0    0    0    0    0\n",
            " [3,]   -1    0    0    0    0    0    1\n",
            " [4,]   -1   -1    0    1    1    0    0\n",
            " [5,]   -1   -1   -1    0    0    0    1\n",
            " [6,]   -1   -1   -1   -1   -1    0    0\n",
            " [7,]   -1   -1   -1    0   -1   -1    0\n",
            " [8,]   -1   -1   -1   -1    0    0   -1\n",
            " [9,]   -1   -1   -1   -1   -1    0    1\n",
            "\n",
            "$alignd.x\n",
            "[1] \"AGTGTCGG-\"\n",
            "\n",
            "$aligned.y\n",
            "[1] \"-GT--CGGA\"\n",
            "\n",
            "$edit.op\n",
            "[1] \"D..DD...I\"\n",
            "\n"
          ]
        }
      ]
    }
  ]
}