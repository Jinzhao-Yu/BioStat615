{
  "nbformat": 4,
  "nbformat_minor": 0,
  "metadata": {
    "colab": {
      "provenance": [],
      "include_colab_link": true
    },
    "kernelspec": {
      "name": "ir",
      "display_name": "R"
    },
    "language_info": {
      "name": "R"
    }
  },
  "cells": [
    {
      "cell_type": "markdown",
      "metadata": {
        "id": "view-in-github",
        "colab_type": "text"
      },
      "source": [
        "<a href=\"https://colab.research.google.com/github/Jinzhao-Yu/BioStat615/blob/main/BIOSTAT615_Lecture_12_Fall_2022.ipynb\" target=\"_parent\"><img src=\"https://colab.research.google.com/assets/colab-badge.svg\" alt=\"Open In Colab\"/></a>"
      ]
    },
    {
      "cell_type": "markdown",
      "metadata": {
        "id": "etFanzwvmJow"
      },
      "source": [
        "# BIOSTAT615 Lecture 12 - R"
      ]
    },
    {
      "cell_type": "markdown",
      "metadata": {
        "id": "nKO8zpHkmN9I"
      },
      "source": [
        "## 1. Estimation of Mean Squared Error"
      ]
    },
    {
      "cell_type": "code",
      "metadata": {
        "id": "G2KSxrYOjUjs"
      },
      "source": [
        "#' est.MSE() - Esitmate MSE \n",
        "#' @param reps - Number of repetitions to get MSE\n",
        "#' @param sample_size - Sample size per simulation\n",
        "#' @param true_par - True parameter\n",
        "#' @param simulator - Function to simulate data\n",
        "#' @param estimator - Function to estimate parameter from data \n",
        "#' @return - Mean squared error\n",
        "est.MSE <- function(reps,sample_size,true_par,simulator,estimator,...){\n",
        "    MSE <- rep(0,length=reps)\n",
        "    for(i in 1:reps){               ## repeat [reps] times\n",
        "      dat <- simulator(sample_size,true_par)  ## simulate data\n",
        "      est_par <- estimator(dat,...) ## ... allows other parameters\n",
        "      MSE[i] <- mean((est_par-true_par)^2)\n",
        "    }\n",
        "    return(mean(MSE))\n",
        "}"
      ],
      "execution_count": 1,
      "outputs": []
    },
    {
      "cell_type": "code",
      "metadata": {
        "id": "S1MTyt8_ja79"
      },
      "source": [
        "#' trimmed estimator of mean\n",
        "#' @param x - data\n",
        "#' @param k - Number of outliers to remove\n",
        "#' @return Trimmed estimate of mean removing 2k extreme samples\n",
        "trim.mean <- function(x,k=5){\n",
        "  x <- sort(x)\n",
        "  return(mean(x[(k+1):(length(x)-k)]))\n",
        "}"
      ],
      "execution_count": 2,
      "outputs": []
    },
    {
      "cell_type": "code",
      "metadata": {
        "id": "mBWyKbrdjcON",
        "outputId": "54a60739-c2a4-42df-992a-a3d52b309f95",
        "colab": {
          "base_uri": "https://localhost:8080/"
        }
      },
      "source": [
        "# Example 1 - normal distribution\n",
        "set.seed(1000)  # for reproducibility\n",
        "MSE_0 <- est.MSE(reps=100000,sample_size=20,true_par=0,\n",
        "                 simulator=rnorm,estimator=trim.mean,k = 0)\n",
        "MSE_1 <- est.MSE(reps=100000,sample_size=20,true_par=0,\n",
        "                 simulator=rnorm,estimator=trim.mean,k = 5)\n",
        "print(MSE_0) # regular sample mean\n",
        "print(MSE_1) # trimed mean with k  = 5"
      ],
      "execution_count": 3,
      "outputs": [
        {
          "output_type": "stream",
          "name": "stdout",
          "text": [
            "[1] 0.04972787\n",
            "[1] 0.05949043\n"
          ]
        }
      ]
    },
    {
      "cell_type": "code",
      "metadata": {
        "id": "14OpKo-cjdu6"
      },
      "source": [
        "#' rmixnorm() ~ (1-p)N(mu,var0) + pN(0,var1)\n",
        "#' @param n - number of random samples\n",
        "#' @param mu - the intended mean\n",
        "#' @param prob - proportion of non-outliers\n",
        "#' @return Simulated random values\n",
        "rmixnorm <- function(n,mu=0,var0=1,var1=1000,prob=0.9){\n",
        "  idx <- which(runif(n) < prob)\n",
        "  r <- rep(NA,length=n)\n",
        "  r[idx] <- rnorm(length(idx),mean=mu,sd=sqrt(var0))    ## N(mu,var0)\n",
        "  r[-idx] <- rnorm(n-length(idx),mean=mu,sd=sqrt(var1)) ## N(mu,var1)\n",
        "  return(r)\n",
        "}"
      ],
      "execution_count": 4,
      "outputs": []
    },
    {
      "cell_type": "code",
      "metadata": {
        "id": "lX6NJNBTjfJm",
        "outputId": "3daca366-261d-4fce-cfce-9100b8a1a655",
        "colab": {
          "base_uri": "https://localhost:8080/"
        }
      },
      "source": [
        "# Example 2 - Mixture of normal\n",
        "set.seed(1000)  # for reproducibility\n",
        "MSE <- rep(NA,length=10)\n",
        "for(k in 1:10){\n",
        "  MSE[k] <- est.MSE(reps=10000,sample_size=20,true_par=0,\n",
        "                 simulator=rmixnorm,estimator=trim.mean,k=k-1)\n",
        "}\n",
        "names(MSE) = paste(\"k =\",0:9)\n",
        "print(MSE)"
      ],
      "execution_count": 5,
      "outputs": [
        {
          "output_type": "stream",
          "name": "stdout",
          "text": [
            "     k = 0      k = 1      k = 2      k = 3      k = 4      k = 5      k = 6 \n",
            "5.05832839 1.37663759 0.32167508 0.12135894 0.08156617 0.07774524 0.07953943 \n",
            "     k = 7      k = 8      k = 9 \n",
            "0.08515286 0.09048951 0.09318956 \n"
          ]
        }
      ]
    },
    {
      "cell_type": "markdown",
      "metadata": {
        "id": "rV4llRgZmQ3c"
      },
      "source": [
        "## 2. Estimation of Confidence Level"
      ]
    },
    {
      "cell_type": "code",
      "metadata": {
        "id": "Zc6QG8UKjhOi"
      },
      "source": [
        "#' est.CL() - Esitmate Confidence Level\n",
        "#' @param reps - Number of repetitions to get CL\n",
        "#' @param sample_size - Sample size per simulation\n",
        "#' @param true_par - True parameter\n",
        "#' @param simulator - Function to simulate data\n",
        "#' @param create.CI - Function to estimate confidence interval as vector of size 2 \n",
        "#' @return - Mean estimator of confidence level\n",
        "est.CL <- function(reps,sample_size,true_par,simulator,create.CI,...){\n",
        "  CL <- rep(0,length=reps)  \n",
        "  for(i in 1:reps){\n",
        "    dat <- simulator(sample_size,true_par) ## simulate the data\n",
        "    CI <- create.CI(dat,...)  ## create confidence interval\n",
        "    ## calculate confidence level\n",
        "    CL[i] <- as.numeric((CI[1] <= true_par) & (true_par <= CI[2])) \n",
        "  }\n",
        "  return(mean(CL))\n",
        "}"
      ],
      "execution_count": 6,
      "outputs": []
    },
    {
      "cell_type": "code",
      "metadata": {
        "id": "CGA0u-g6jj0m"
      },
      "source": [
        "#' var.CI() - one-sided CI estimator\n",
        "#' @param x - observed data\n",
        "#' @param alpha - rejection probability under the null\n",
        "#' @return A vector with (lower=0, upper) confidence interval\n",
        "var.CI <- function(x,alpha=0.05){\n",
        "  n <- length(x)\n",
        "  U <- (n-1) * var(x) / qchisq(alpha, df=n-1)\n",
        "  L <- 0\n",
        "  return(c(L=L,U=U)) \n",
        "}"
      ],
      "execution_count": 7,
      "outputs": []
    },
    {
      "cell_type": "code",
      "metadata": {
        "colab": {
          "base_uri": "https://localhost:8080/"
        },
        "id": "mMDqRqddjnAQ",
        "outputId": "c3f4e86e-8b1e-4d4d-fed1-ea17351493ef"
      },
      "source": [
        "# N(0,1)\n",
        "CL_1 <- est.CL(reps=50000,sample_size=200,\n",
        "               true_par=1,\n",
        "               simulator=function(x,s) rnorm(x,sd=sqrt(s)),\n",
        "               create.CI=var.CI)\n",
        "print(CL_1,digits=8)"
      ],
      "execution_count": 8,
      "outputs": [
        {
          "output_type": "stream",
          "name": "stdout",
          "text": [
            "[1] 0.95018\n"
          ]
        }
      ]
    },
    {
      "cell_type": "code",
      "metadata": {
        "id": "BDDG_O0dhZ3m",
        "outputId": "becf0e54-f6dc-434b-dbce-0850125f4f7c",
        "colab": {
          "base_uri": "https://localhost:8080/"
        }
      },
      "source": [
        "# N(0,5)\n",
        "CL_2 <- est.CL(reps=50000,sample_size=200,\n",
        "               true_par=5,\n",
        "               simulator=function(x,s) rnorm(x,sd=sqrt(s)),\n",
        "               create.CI=var.CI)\n",
        "print(CL_2,digits=8)"
      ],
      "execution_count": 9,
      "outputs": [
        {
          "output_type": "stream",
          "name": "stdout",
          "text": [
            "[1] 0.95176\n"
          ]
        }
      ]
    },
    {
      "cell_type": "code",
      "metadata": {
        "id": "W9CHlliun3GK",
        "outputId": "c1ac83ed-046b-45a3-a3ef-298115c8917c",
        "colab": {
          "base_uri": "https://localhost:8080/"
        }
      },
      "source": [
        "# 0.9*N(0,1) + 0.1*N(0,1000)\n",
        "CL_3 <- est.CL(reps=50000,sample_size=200,\n",
        "               true_par=1,\n",
        "               simulator=function(x,s) rmixnorm(x,var0=s),\n",
        "               create.CI=var.CI)\n",
        "print(CL_3,digits=8)"
      ],
      "execution_count": 10,
      "outputs": [
        {
          "output_type": "stream",
          "name": "stdout",
          "text": [
            "[1] 1\n"
          ]
        }
      ]
    },
    {
      "cell_type": "markdown",
      "metadata": {
        "id": "sMZ0wf5yqUOD"
      },
      "source": [
        "## 3. Type I error and power"
      ]
    },
    {
      "cell_type": "code",
      "metadata": {
        "id": "NFAjFOtPjoPZ"
      },
      "source": [
        "#' rej.prob() - Estimate Type I error and Power\n",
        "#' @param reps - Number of repetitions to get power/type I error\n",
        "#' @param sample_size - Sample size per simulation\n",
        "#' @param true_par - True parameter\n",
        "#' @param simulator - Function to simulate data\n",
        "#' @param test.fun - Function to test the null hypothesis \n",
        "#' @return - Power/Type I Error estimates\n",
        "rej.prob <- function(reps,sample_size,true_par,simulator,test.fun,...){\n",
        "  phi = rep(NA,length=reps)\n",
        "  for(j in 1:reps){\n",
        "    dat <- simulator(sample_size,true_par)\n",
        "    phi[j] <- test.fun(dat,...) \n",
        "  }\n",
        "  return(mean(phi))\n",
        "}"
      ],
      "execution_count": 11,
      "outputs": []
    },
    {
      "cell_type": "code",
      "metadata": {
        "id": "dS38qT6mjqU4"
      },
      "source": [
        "#' t.test.fun() - 1-side t-test with H1: mu>mu0\n",
        "#' @param x - Observed data\n",
        "#' @param mu0 - null parameter\n",
        "#' @param alpha - Type I error rate\n",
        "#' @return Logical vector to test accept/reject of H0\n",
        "t.test.fun <- function(x,mu0=500,alpha=0.05){\n",
        "  n <- length(x)\n",
        "  T.stat <- sqrt(n)*(mean(x)-mu0)/sd(x)\n",
        "  return(T.stat > qt(1-alpha,df=n-1))\n",
        "}"
      ],
      "execution_count": 12,
      "outputs": []
    },
    {
      "cell_type": "code",
      "metadata": {
        "colab": {
          "base_uri": "https://localhost:8080/"
        },
        "id": "cfkqbjr_jryT",
        "outputId": "b6f0a3a4-8f46-4343-d1c5-b5ad86880674"
      },
      "source": [
        "typeIerr = rej.prob(reps=50000,sample_size=20,true_par=500,simulator=rnorm,\n",
        "                     test.fun = t.test.fun)\n",
        "print(typeIerr)"
      ],
      "execution_count": 13,
      "outputs": [
        {
          "output_type": "stream",
          "name": "stdout",
          "text": [
            "[1] 0.04988\n"
          ]
        }
      ]
    },
    {
      "cell_type": "code",
      "metadata": {
        "colab": {
          "base_uri": "https://localhost:8080/"
        },
        "id": "tiSi3hRkjtN-",
        "outputId": "dc06f080-4c72-477d-b3fa-215d5b2c5298"
      },
      "source": [
        "power = rej.prob(reps=50000,sample_size=20,true_par=500.5,simulator=rnorm,\n",
        "                     test.fun = t.test.fun)\n",
        "print(power)"
      ],
      "execution_count": 14,
      "outputs": [
        {
          "output_type": "stream",
          "name": "stdout",
          "text": [
            "[1] 0.69734\n"
          ]
        }
      ]
    },
    {
      "cell_type": "code",
      "metadata": {
        "id": "PUupFfb1juyK"
      },
      "source": [
        "mu_list = seq(500,502,length=50)\n",
        "power_curve <- sapply(mu_list,function(theta) \n",
        "  rej.prob(reps=10000,sample_size=20,true_par=theta,simulator=rnorm,\n",
        "           test.fun = t.test.fun))"
      ],
      "execution_count": 15,
      "outputs": []
    },
    {
      "cell_type": "code",
      "metadata": {
        "id": "2aZ4jK3gjwd2",
        "outputId": "0da9d52d-2f9e-4cd0-e780-220b5d43c03f",
        "colab": {
          "base_uri": "https://localhost:8080/",
          "height": 437
        }
      },
      "source": [
        "plot(mu_list,power_curve,type=\"l\",lwd=2,\n",
        "     xlab=expression(mu),ylab=\"power\")"
      ],
      "execution_count": 16,
      "outputs": [
        {
          "output_type": "display_data",
          "data": {
            "text/plain": [
              "plot without title"
            ],
            "image/png": "[encoded data removed]"
          },
          "metadata": {
            "image/png": {
              "width": 420,
              "height": 420
            }
          }
        }
      ]
    }
  ]
}