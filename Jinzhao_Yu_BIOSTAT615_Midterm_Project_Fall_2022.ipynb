{
  "nbformat": 4,
  "nbformat_minor": 0,
  "metadata": {
    "colab": {
      "provenance": [],
      "include_colab_link": true
    },
    "kernelspec": {
      "name": "ir",
      "display_name": "R"
    },
    "language_info": {
      "name": "R"
    }
  },
  "cells": [
    {
      "cell_type": "markdown",
      "metadata": {
        "id": "view-in-github",
        "colab_type": "text"
      },
      "source": [
        "<a href=\"https://colab.research.google.com/github/Jinzhao-Yu/BioStat615/blob/main/Jinzhao_Yu_BIOSTAT615_Midterm_Project_Fall_2022.ipynb\" target=\"_parent\"><img src=\"https://colab.research.google.com/assets/colab-badge.svg\" alt=\"Open In Colab\"/></a>"
      ]
    },
    {
      "cell_type": "markdown",
      "metadata": {
        "id": "kiAtZF-dHHBz"
      },
      "source": [
        "# Jinzhao Yu - BIOSTAT615 Midterm Project - Fall 2022"
      ]
    },
    {
      "cell_type": "markdown",
      "metadata": {
        "id": "29hcNSQSXKhU"
      },
      "source": [
        "## Introduction\n",
        "\n",
        "This midterm project aims to implement methods to <u>***classify*** </u> and <u>***cluster***</u> widely known hand-written digit database, called MNIST database. \n",
        "\n",
        "This document describes how you can read MNIST dataset in R, and how you can implement your own classification and clustering tasks. \n",
        "\n",
        "To complete your midterm project, you will need to take the following steps:\n",
        "1. Copy this document for your own version for editing\n",
        "2. Rename the document title to start with your own name: for example \"John Doe - BIOSTAT615 Midterm Project - Fall 2022\".\n",
        "3. Read this document carefully to understand what are required and recommended tasks\n",
        "4. Complete the required (and optional) tasks\n",
        "5. Write your own report in your copy of notebook directly\n",
        "6. Share your copy of the notebook with instructors (hmkang@umich.edu , cywww@umich.edu) as viewers (***make sure that you do not share it with anyone else***), and submit the URL to the notebook in Canvas.\n",
        "\n",
        "You should be able to use Markdown language to write your own report. See [Markdown Guide](https://colab.research.google.com/notebooks/markdown_guide.ipynb) to learn how to modify your copy of this report using Markdown. You may also want to read [LaTeX Tutorial](https://en.wikibooks.org/wiki/LaTeX/Mathematics) to learn how to write mathematical equations in your report. Alternatively, you may import equations as external images if you prefer.\n",
        "\n",
        "***The parts you need to complete are underlined. <u>Please make sure that you filled in all underlined parts</u>***"
      ]
    },
    {
      "cell_type": "markdown",
      "metadata": {
        "id": "JNMPLzUBXG8w"
      },
      "source": [
        "## Background\n",
        "\n",
        "This section introduces what the MNIST dataset looks like, and explains how you can use them for your project.\n",
        "\n",
        "### Preambles\n",
        "\n",
        "First, let's try to load some R packages we will use for some of the example exercises."
      ]
    },
    {
      "cell_type": "code",
      "metadata": {
        "id": "MW9cajZgxcPr"
      },
      "source": [
        "if (!require(\"tictoc\")) {\n",
        "    install.packages(\"tictoc\")\n",
        "}\n",
        "library(ggplot2)\n",
        "library(dplyr)\n",
        "library(tictoc)"
      ],
      "execution_count": 12,
      "outputs": []
    },
    {
      "cell_type": "markdown",
      "metadata": {
        "id": "v3tym2Lcq5v-"
      },
      "source": [
        "### Loading MNIST dataset\n",
        "\n",
        "[MNIST](http://yann.lecun.com/exdb/mnist/) is a widely recognized databases of handwritten digits, containing thousands of labeled images in a standardized form. This data has been one of the gold-standard dataset to evaluate various machine learning methods. In this project, we will NOT require implement any machine learning or deep learning methods, but will use these data as an easy-to-visualize high-dimensional data. \n",
        "\n",
        "The code fragment below will load train (n=60,000) and test (n=10,000) images and labels (0 to 9), and visualize the images to improve your understanding. First, we will download these data from the web "
      ]
    },
    {
      "cell_type": "code",
      "metadata": {
        "id": "3vEZcgrKcRLX"
      },
      "source": [
        "## DO NOT MODIFY THIS CELL\n",
        "## set up the location of MNIST files\n",
        "baseUrl = \"http://yann.lecun.com/exdb/mnist/\"\n",
        "trainXf = \"train-images-idx3-ubyte.gz\"  ## train images\n",
        "trainYf = \"train-labels-idx1-ubyte.gz\"  ## train labels\n",
        "testXf = \"t10k-images-idx3-ubyte.gz\"    ## test images\n",
        "testYf = \"t10k-labels-idx1-ubyte.gz\"    ## test labels"
      ],
      "execution_count": 13,
      "outputs": []
    },
    {
      "cell_type": "code",
      "metadata": {
        "id": "tpYRV0FHdPkm"
      },
      "source": [
        "## DO NOT MODIFY THIS CELL\n",
        "## Download MNIST data\n",
        "filenames = c(trainXf, trainYf, testXf, testYf)\n",
        "for(fn in filenames) { \n",
        "  if ( !file.exists(fn) ) { ## skip download if already exists\n",
        "    system(paste0(\"wget \",baseUrl, fn),intern=TRUE)\n",
        "  }\n",
        "}"
      ],
      "execution_count": 14,
      "outputs": []
    },
    {
      "cell_type": "code",
      "metadata": {
        "colab": {
          "base_uri": "https://localhost:8080/"
        },
        "id": "Pl_BpFBrfWvy",
        "outputId": "85a01c3c-9737-487e-c5d3-c0d4f5564c7e"
      },
      "source": [
        "## DO NOT MODIFY THIS CELL\n",
        "## verify the downloaded files\n",
        "print(system(\"ls -l\",intern=TRUE))\n",
        "## Below is what you are expected to see when run this cell"
      ],
      "execution_count": 15,
      "outputs": [
        {
          "output_type": "stream",
          "name": "stdout",
          "text": [
            "[1] \"total 11340\"                                                           \n",
            "[2] \"drwxr-xr-x 1 root root    4096 Nov 14 14:32 sample_data\"               \n",
            "[3] \"-rw-r--r-- 1 root root 1648877 Jul 21  2000 t10k-images-idx3-ubyte.gz\" \n",
            "[4] \"-rw-r--r-- 1 root root    4542 Jul 21  2000 t10k-labels-idx1-ubyte.gz\" \n",
            "[5] \"-rw-r--r-- 1 root root 9912422 Jul 21  2000 train-images-idx3-ubyte.gz\"\n",
            "[6] \"-rw-r--r-- 1 root root   28881 Jul 21  2000 train-labels-idx1-ubyte.gz\"\n"
          ]
        }
      ]
    },
    {
      "cell_type": "markdown",
      "metadata": {
        "id": "mXRucF9Pfq0U"
      },
      "source": [
        "The download data is a binary file, and it follows a specific format described in the [original web site](http://yann.lecun.com/exdb/mnist/). To help you get started with this data, an example function to load this data is provided below. You do not have to understand how this function works. "
      ]
    },
    {
      "cell_type": "code",
      "metadata": {
        "id": "umjX2RpCh2Ke"
      },
      "source": [
        "## DO NOT MODIFY THIS CELL\n",
        "#' readMNIST() - Function to read MNIST images/labels\n",
        "#' @param filename - Path to the local binary file\n",
        "#' @return 1-d (label) or 3-d (images) arrays of MNIST data\n",
        "readMNIST = function(filename) {\n",
        "  con = gzfile(filename,\"rb\")\n",
        "  hdr = readBin(con, integer(), n=2, endian=\"big\") ## read one byte to figure out file type\n",
        "  if ( hdr[1] == 2051 ) {         ## 2051 is a magic number for image files\n",
        "    nxy = readBin(con, integer(), n=2, endian=\"big\")  \n",
        "    return ( array( readBin(con, integer(), signed=FALSE, size=1, n=hdr[2]*nxy[1]*nxy[2], endian=\"big\"), dim=c(nxy[1],nxy[2],hdr[2]) ) )\n",
        "  } else if ( hdr[1] == 2049 ) {  ## 2049 is a magic number for label files\n",
        "    return ( readBin(con, integer(), signed=FALSE, size=1, n=hdr[2], endian=\"big\") )\n",
        "  } else {\n",
        "    stop(paste0(\"Cannot recognize the magic number \", hdr[1]))\n",
        "  }\n",
        "}"
      ],
      "execution_count": 16,
      "outputs": []
    },
    {
      "cell_type": "code",
      "metadata": {
        "colab": {
          "base_uri": "https://localhost:8080/"
        },
        "id": "Q6XpADxxo_jF",
        "outputId": "79401f48-7d76-4a95-c42a-87f1fa457735"
      },
      "source": [
        "## DO NOT MODIFY THIS CELL\n",
        "train.X = readMNIST(trainXf)  ## read training images\n",
        "train.Y = readMNIST(trainYf)  ## read training labels\n",
        "print(dim(train.X))           ## print the dimension of training images (3-d array)\n",
        "print(length(train.Y))        ## print the dimension of training labels"
      ],
      "execution_count": 17,
      "outputs": [
        {
          "output_type": "stream",
          "name": "stdout",
          "text": [
            "[1]    28    28 60000\n",
            "[1] 60000\n"
          ]
        }
      ]
    },
    {
      "cell_type": "code",
      "metadata": {
        "colab": {
          "base_uri": "https://localhost:8080/"
        },
        "id": "coo2CQ7Fktj7",
        "outputId": "7e25f61c-1fd8-40e6-d3be-6421e4b3dfcd"
      },
      "source": [
        "## DO NOT MODIFY THIS CELL\n",
        "test.X = readMNIST(testXf)  ## read test images\n",
        "test.Y = readMNIST(testYf)  ## read test labels\n",
        "print(dim(test.X))          ## print the dimension of test images\n",
        "print(length(test.Y))       ## print the dimension of test labels"
      ],
      "execution_count": 18,
      "outputs": [
        {
          "output_type": "stream",
          "name": "stdout",
          "text": [
            "[1]    28    28 10000\n",
            "[1] 10000\n"
          ]
        }
      ]
    },
    {
      "cell_type": "code",
      "metadata": {
        "colab": {
          "base_uri": "https://localhost:8080/",
          "height": 562
        },
        "id": "z77ZYG4mlUfi",
        "outputId": "d8884aac-98ee-4082-d6d0-19df78b6cd1c"
      },
      "source": [
        "## DO NOT MODIFY THIS CELL\n",
        "## quick sanity checking\n",
        "print(train.X[10:15,20:15,3]) ## print some part of the large 3-d array\n",
        "## draw first 25 images: note that the images are mirrored in columns\n",
        "par(mfrow=c(5,5))\n",
        "par(mar=c(0,0,0,0))\n",
        "for(i in 1:25) { image(train.X[,28:1,i],col=gray((0:255)/255)) }"
      ],
      "execution_count": 19,
      "outputs": [
        {
          "output_type": "stream",
          "name": "stdout",
          "text": [
            "     [,1] [,2] [,3] [,4] [,5] [,6]\n",
            "[1,]    0    0    0  177  253   47\n",
            "[2,]    0    0    0   98  254   49\n",
            "[3,]    0    0    0   56  250  116\n",
            "[4,]    0    0    0    0  240  144\n",
            "[5,]    0    0    0    0  198  150\n",
            "[6,]    0    0    0    0  143  241\n"
          ]
        },
        {
          "output_type": "display_data",
          "data": {
            "text/plain": [
              "plot without title"
            ],
            "image/png": "[encoded data removed]"
          },
          "metadata": {
            "image/png": {
              "width": 420,
              "height": 420
            }
          }
        }
      ]
    },
    {
      "cell_type": "code",
      "metadata": {
        "colab": {
          "base_uri": "https://localhost:8080/",
          "height": 106
        },
        "id": "KoycYw1yoHj4",
        "outputId": "e7da004e-e0fe-4bae-dda8-eb23779570f2"
      },
      "source": [
        "## DO NOT MODIFY THIS CELL\n",
        "summary(train.X) ## show the summary of pixel-wise intensities\n",
        "table(train.Y)   ## show the distribution of each digit"
      ],
      "execution_count": 20,
      "outputs": [
        {
          "output_type": "display_data",
          "data": {
            "text/plain": [
              "   Min. 1st Qu.  Median    Mean 3rd Qu.    Max. \n",
              "   0.00    0.00    0.00   33.32    0.00  255.00 "
            ]
          },
          "metadata": {}
        },
        {
          "output_type": "display_data",
          "data": {
            "text/plain": [
              "train.Y\n",
              "   0    1    2    3    4    5    6    7    8    9 \n",
              "5923 6742 5958 6131 5842 5421 5918 6265 5851 5949 "
            ]
          },
          "metadata": {}
        }
      ]
    },
    {
      "cell_type": "markdown",
      "metadata": {
        "id": "8qs1gVWQ0qTp"
      },
      "source": [
        "## Task 1 : Classification of MNIST data\n",
        "\n",
        "The first task is to implement an algorithm that performs classification of MNIST images. This task consists of two parts - (1) binary classification and (2) multi-class classification.\n",
        "\n",
        "### Task 1a : Binary Classification of MNIST data\n",
        "\n",
        "The binary classfication of MNIST data is outlined below. \n",
        "\n",
        "1. Subset images/labels that contains only two labels (you may select a pair of digits).\n",
        "2. You are required to implement logistic Ridge regression by using the L-BFGS-B algorithm implemented in `optim()` function.\n",
        "  * You need to comment your code well and write a brief documentation to explain how you implemented it.\n",
        "  * The instructors will review your code and may provide specific comments. "
      ]
    },
    {
      "cell_type": "markdown",
      "metadata": {
        "id": "iUleqQaRtAE4"
      },
      "source": [
        "### Preparing input data for binary classification\n",
        "\n",
        "The function below help you reshape the original data into a format that is easy to apply a binary classification algorithm. You are expected to specify a pair of digits as positive and negative labels. The function `prep_binary_classification()` returns a list containing a matrix `X` and a vector `y` as attributes. The matrix `X` has 784 (=28 x28) columns, and the number of rows equivalent to the number of positive + negative labels. The vector `y` is encoded as either 1 (for positive label) or 0 (for negative label) "
      ]
    },
    {
      "cell_type": "code",
      "metadata": {
        "id": "abD-BiQh0pna"
      },
      "source": [
        "## DO NOT MODIFY THIS CELL\n",
        "## prepare a model given a pair of digits\n",
        "#' @param images - (r * c * n) array containing n images\n",
        "#' @param labels - Size n vector of containing n labels\n",
        "#' @param posLabel - The label(s) considered as positive label \n",
        "#' @param negLabel - The label(s) considered as negative label\n",
        "#' @return A list containing then following attributes\n",
        "#'         * X - Matrix of (nrow=number of selected labels, ncol=r*c)\n",
        "#'         * y - Vector labels, encoded as zeros (negative) and ones (positive)\n",
        "prep_binary_classification = function(images, labels, posLabel, negLabel) {\n",
        "  dims = dim(images)\n",
        "  X.pos = t(matrix(images[,,labels %in% posLabel],nrow=dims[1]*dims[2])) ## 784 * n1 matrix\n",
        "  X.neg = t(matrix(images[,,labels %in% negLabel],nrow=dims[1]*dims[2])) ## 784 * n1 matrix\n",
        "  return(list(X=rbind(X.pos, X.neg),y = c(rep(1,nrow(X.pos)),rep(0,nrow(X.neg)))))\n",
        "}"
      ],
      "execution_count": 21,
      "outputs": []
    },
    {
      "cell_type": "code",
      "metadata": {
        "colab": {
          "base_uri": "https://localhost:8080/"
        },
        "id": "dmaKaLvx4baT",
        "outputId": "6a5cd6d0-f97a-4af6-c596-28b0c9f74d2c"
      },
      "source": [
        "## DO NOT MODIFY THIS CELL - IF YOU WANT TO CHANGE LABELS, USE TASK 1b.\n",
        "## Subsample training and test datasets\n",
        "trn = prep_binary_classification(train.X, train.Y, 1, 0)\n",
        "tst = prep_binary_classification(test.X, test.Y, 1, 0)\n",
        "## Check the dimensions of the data\n",
        "print(dim(trn$X))\n",
        "print(length(trn$y))\n",
        "print(dim(tst$X))\n",
        "print(length(tst$y))"
      ],
      "execution_count": 22,
      "outputs": [
        {
          "output_type": "stream",
          "name": "stdout",
          "text": [
            "[1] 12665   784\n",
            "[1] 12665\n",
            "[1] 2115  784\n",
            "[1] 2115\n"
          ]
        }
      ]
    },
    {
      "cell_type": "markdown",
      "metadata": {
        "id": "cMF_GTK_C6Xy"
      },
      "source": [
        "#### ***TASK 1a : IMPLEMENT LOGISTIC RIDGE REGRESSION ON YOUR OWN*** (30 pts)\n",
        "\n",
        "Let $\\boldsymbol{x}_i$ be a row of `X`, and $\\sigma(z) = \\frac{1}{1+e^{-z}}$. Briefly, logistic Ridge regression will attempt to maximize the following penalized likelihood function.\n",
        "\n",
        "$$\n",
        "\\log L(\\boldsymbol{\\beta},\\lambda) = \\frac{1}{n}\\sum_{i=1}^n \\left[y_i\\log\\sigma\\left(\\boldsymbol{x}_i^T\\boldsymbol{\\beta}\\right) + (1-y_i)\\log\\left(1-\\sigma\\left(\\boldsymbol{x}_i^T\\boldsymbol{\\beta}\\right)\\right) \\right] - \\frac{\\lambda}{2n}\\|\\boldsymbol{\\beta}\\|_2^2\n",
        "$$\n",
        "\n",
        "which is equivalent to minimize $-\\log L(\\boldsymbol{\\beta},\\lambda)$. Some popular packages provide an easy way to perform this task. However, your task is to implement this algorithm yourself, utilizing numerical optimizations we learned from the class, without relying on external packages.\n",
        "\n",
        "In this exercise below, to save the computational time, we will <u>train the model using the ***test*** data</u> instead of the training data because test data is smaller in size. We will evaluate the model across all train data."
      ]
    },
    {
      "cell_type": "markdown",
      "source": [
        "The goal of the ***Task 1a*** is to implement logistic regression on your own. Here is a basic guideline.\n",
        "* You need to implement `my.ridge.fit(X, y, lambda=1)` using only `base` and `stats` package.\n",
        "* The function should return a list, including at least the following two attributes:\n",
        "  * `par` : A vector of coefficients from logistic ridge regression with size `ncol(X)`\n",
        "  * `counts` : A length 2 vector containing the number of evaluations of the objective functions and gradients.\n",
        "  * Note that these attributes can be easily obtained from the output of `stats::optim()` function.  \n",
        "* Using `stats::optim()` function with `L-BFGS-B` algorithm is highly recommended.\n",
        "* Use $-\\log L(\\boldsymbol{\\beta},\\lambda)$ as the objective function and provide the gradient as needed.\n",
        "* For this required task, you are not allowed to use external libraries beyond default R packages (e.g. `base`, `utils`, `stats`)."
      ],
      "metadata": {
        "id": "cQ7sHdb0tULO"
      }
    },
    {
      "cell_type": "markdown",
      "metadata": {
        "id": "vd0WGydp9G_X"
      },
      "source": [
        "#### <u>Task 1a - PART I - DESCRIPTION OF YOUR IMPLEMENTATION (WRITE ON YOUR OWN)</u>\n",
        "\n",
        "According to the penalized likelihood function above, we have to minimize $-logL(\\beta,\\lambda)$ and use the gradient descent method to find the optimal $\\beta$. The derivation are as follows.\n",
        "$$\\sigma(z) = \\frac{1}{1-e^{-z}} \\Rightarrow \\frac{d\\sigma}{dz} = \\sigma(z)(1-\\sigma(z))$$\n",
        "$$L = -logL(\\beta,\\lambda)=-\\frac{1}{n}\\sum_{i=1}^n[y_ilog\\sigma(x_i^T\\beta)+(1-y_i)log(1-\\sigma(x_i^T\\beta))]+\\frac{\\lambda}{2n}\\lVert\\beta\\rVert_2^2$$\n",
        "For each element $\\beta_j$ in the vector $\\beta$,\n",
        "\\begin{aligned}\n",
        "\\frac{dL}{d\\beta_j} &= -\\frac{1}{n}\\sum_{i=1}^n[\\frac{y_i}{\\sigma(x_i^T\\beta)}-\\frac{1-y_i}{1-\\sigma(x_i^T\\beta)}]\\frac{d\\sigma(x_i^T\\beta)}{d\\beta_j}+\\frac{\\lambda\\beta_j}{n}\\\\\n",
        "&= -\\frac{1}{n}\\sum_{i=1}^n[\\frac{y_i}{\\sigma(x_i^T\\beta)}-\\frac{1-y_i}{1-\\sigma(x_i^T\\beta)}]\\sigma(x_i^T\\beta)(1-\\sigma(x_i^T\\beta))x_{ij}+\\frac{\\lambda\\beta_j}{n}\\\\\n",
        "&= -\\frac{1}{n}\\sum_{i=1}^n[y_i(1-\\sigma(x_i^T\\beta))-(1-y_i)\\sigma(x_i^T\\beta)]x_{ij}+\\frac{\\lambda\\beta_j}{n}\\\\\n",
        "&= -\\frac{1}{n}\\sum_{i=1}^n[y_i-\\sigma(x_i^T\\beta)]x_{ij}+\\frac{\\lambda\\beta_j}{n}\\\\\n",
        "\\end{aligned}\n",
        "Thus, the gradient function is, $$\\frac{1}{n}\\sum_{i=1}^n[\\sigma(x_i^T\\beta)-y_i]x_{ij}+\\frac{\\lambda\\beta_j}{n}$$\n",
        "In this question, since we have to use `optim` function, we have to implement the loss function $L$ and the gradient function above as the input parameters of `optim` function."
      ]
    },
    {
      "cell_type": "markdown",
      "metadata": {
        "id": "qRbQgxWe-e_K"
      },
      "source": [
        "#### <u>Task 1a - PART II - ACTUAL IMPLEMENTATION </u>\n",
        "\n",
        "_Fill in the code in the cell below. You may add additional cells if needed._"
      ]
    },
    {
      "cell_type": "code",
      "metadata": {
        "id": "vxo6OwxL5W4X"
      },
      "source": [
        "# sigmoid function\n",
        "sigmoid = function(z){1/(1+exp(-z))}\n",
        "# define a clip function to make sure loss is finite value\n",
        "clip = function(x,min,max){\n",
        "  return(pmin(pmax(min,pmax(x,pmin(x,min))),max))\n",
        "}\n",
        "# loss function L\n",
        "Loss = function(X,y,beta,lambda){\n",
        "  count1 <<- count1+1 # record the number of evaluations\n",
        "  sigma = sigmoid(X%*%beta) # calculate the sigmoid function of each xi*beta\n",
        "  sigma = clip(sigma,10^(-15),1-10^(-15)) # make sure that 10^(-15) <= sigma <= 1-10^(-15)\n",
        "  n = length(y)\n",
        "  L = (t(-y)%*%log(sigma)-t(1-y)%*%log(1-sigma))/n + lambda/(2*n)*t(beta)%*%beta # calculate the loss function\n",
        "  return(L)\n",
        "}\n",
        "# gradient descent method\n",
        "gradient = function(X,y,beta,lambda){\n",
        "  count2 <<- count2+1 # record the number of evaluations\n",
        "  sigma = sigmoid(X%*%beta) # calculate the sigmoid function of each xi*beta\n",
        "  n = length(y)\n",
        "  grad = (t(X)%*%(sigma-y))/n + (lambda/n)*beta # calculate the gradient function\n",
        "  return(grad)\n",
        "}\n",
        "\n",
        "## TASK 1a: Implement my.ridge.fit() function that performs logistic regression\n",
        "#' @param X - (n x p) matrix of predictor variables. Assume that intercept term is already included in the input.\n",
        "#' @param y - A size n vector of zeros (negative) and ones (positives) as labels.\n",
        "#' @return A list containing at least the following two attributes, which can be passed from stats::optim()\n",
        "#'    * par - A size p vector of coefficients from logistic ridge regression.\n",
        "#'    * counts - The number of function calls made on objective function and gradients.\n",
        "#'    * You may include other attributes as you want.  \n",
        "my.ridge.fit = function(X, y, lambda=1) {\n",
        "  ## IMPLEMENT YOUR OWN FUNCTION HERE:\n",
        "  ## * You may define other functions inside, or outside this function\n",
        "  ## * Only base and stats packages are allowed. \n",
        "  ## * Using stats::optim() is highly recommended\n",
        "  ## * Your objective function should be -log L(\\beta,\\lambda) in the equation above.\n",
        "  ## * Note that you may have to deal with numerical precision challenges.\n",
        "  count1 <<- 0\n",
        "  count2 <<- 0\n",
        "  m = ncol(X)\n",
        "  # initialize beta as all 0's\n",
        "  beta <- matrix(rep(0,m), nrow = m)\n",
        "  # use 'optim' with L-BFGS-B algorithm\n",
        "  res = optim(beta, fn = Loss, gr = gradient, method = \"L-BFGS-B\", X = X, y = y, lambda = lambda)\n",
        "  # return coefficients and evaluation numbers\n",
        "  return(list(par = res$par, counts = c(count1,count2))) ## Make sure to return a list\n",
        "}"
      ],
      "execution_count": 31,
      "outputs": []
    },
    {
      "cell_type": "markdown",
      "metadata": {
        "id": "qKcIpeel85NT"
      },
      "source": [
        "### Evaluation of TASK 1a\n",
        "\n",
        "***DO NOT MODIFY the code fragment below.*** \n",
        "\n",
        "This code evaluates your output from your previous function. "
      ]
    },
    {
      "cell_type": "code",
      "metadata": {
        "colab": {
          "base_uri": "https://localhost:8080/"
        },
        "id": "QhtDn64yHWel",
        "outputId": "325580de-d057-4d83-8c4b-f30920c155c3"
      },
      "source": [
        "## DO NOT MODIFY THIS CELL\n",
        "tic <- proc.time()\n",
        "rst <- my.ridge.fit(tst$X, tst$y, 1) ## run the new method\n",
        "toc <- proc.time()\n",
        "cat(paste0(\"New ridge regression train took \",sprintf(\"%.5f\",(toc-tic)[3]),\" seconds\\n\")) \n",
        "cat(paste0(\"Number of (function, gradient) evaluations: (\",rst$counts[1],\",\",rst$counts[2],\")\\n\")) \n",
        "## Example output is given below."
      ],
      "execution_count": 32,
      "outputs": [
        {
          "output_type": "stream",
          "name": "stdout",
          "text": [
            "New ridge regression train took 3.18700 seconds\n",
            "Number of (function, gradient) evaluations: (81,81)\n"
          ]
        }
      ]
    },
    {
      "cell_type": "code",
      "metadata": {
        "colab": {
          "base_uri": "https://localhost:8080/"
        },
        "id": "GHIT3V68Ujmx",
        "outputId": "f91a0f1c-0c9a-448e-f265-6d5db056518f"
      },
      "source": [
        "## DO NOT MODIFY THIS CELL\n",
        "## Evaluate the prediction accuracy using train data (as test data was used for training)\n",
        "my.pred <- trn$X %*% rst$par \n",
        "## Tabulate the TP/FP/TN/FN\n",
        "print(data.frame(pred=as.integer(my.pred > 0), true=trn$y) %>% count(true,pred) %>% mutate(freq=n/sum(n)))\n",
        "## Example output is given below.\n",
        "cat(paste0(\"Accuracy = \", sum(as.integer(my.pred > 0) == trn$y)/length(my.pred)), \"\\n\")"
      ],
      "execution_count": 33,
      "outputs": [
        {
          "output_type": "stream",
          "name": "stdout",
          "text": [
            "  true pred    n         freq\n",
            "1    0    0 5908 0.4664824319\n",
            "2    0    1   15 0.0011843664\n",
            "3    1    0    9 0.0007106198\n",
            "4    1    1 6733 0.5316225819\n",
            "Accuracy = 0.998105013817608 \n"
          ]
        }
      ]
    },
    {
      "cell_type": "markdown",
      "source": [
        "_NOTE: The above output is merely an example, and it is okay not to have the same output. If your accuracy is much lower than above, you may need to improve it._"
      ],
      "metadata": {
        "id": "e2G4E2iA5YIE"
      }
    },
    {
      "cell_type": "markdown",
      "source": [
        "### Task 1a : Multi-class Classification of MNIST data\n",
        "\n",
        "The multi-class classfication of MNIST data is outlined below. \n",
        "\n",
        "1. Subset images/labels that contains only two or more labels labels (you may select a group digits).\n",
        "2. You are required to implement multi-class logistic Ridge regression by using the L-BFGS-B algorithm implemented in `optim()` function.\n",
        "  * You need to comment your code well and write a brief documentation to explain how you implemented it.\n",
        "  * The instructors will review your code and may provide specific comments. \n",
        "\n",
        "### Preparing input data for multi-class classification\n",
        "\n",
        "The function below help you reshape the original data into a format that is easy to apply a \n",
        "multi-class classification algorithm. You are expected to specify a pair of digits as positive and negative labels. \n",
        "\n",
        "The function `prep_multi_classification()` returns a list containing matrices `X` and `Y` as attributes. \n",
        "\n",
        "The matrix `X` has 784 (=28 x28) columns, and the number of rows equivalent to the number of positive + negative labels, similar to the output from `prep_binary_classification()`. \n",
        "\n",
        "The matrix `Y` is a one-hot encoded matrix (i.e. `rowSum(Y) == 1`) to have value of `1` when the multi-class label matches with the column index."
      ],
      "metadata": {
        "id": "P1Y77kF6r7oN"
      }
    },
    {
      "cell_type": "code",
      "source": [
        "## DO NOT MODIFY THIS CELL\n",
        "## prepare data given a set of digits\n",
        "#' @param images - (r * c * n) array containing n images\n",
        "#' @param labels - Size n vector of containing n labels\n",
        "#' @param selectedLabels - A vector of k labels considered for multi-class clustering  \n",
        "#' @return A list containing then following attributes\n",
        "#'         * X - matrix of (nrow=number of selected labels, ncol=r*c)\n",
        "#'         * Y - (n * k) matrix of selected labels in one-hot encoding\n",
        "prep_multi_classification = function(images, labels, selectedLabels) {\n",
        "  dims = dim(images)\n",
        "  idx = which(labels %in% selectedLabels)\n",
        "\n",
        "  ## select images matching with selected labels and convert to matrix\n",
        "  X = t(matrix(images[,,idx],nrow=dims[1]*dims[2])) ## 784 * n matrix\n",
        "  n = nrow(X)   \n",
        "  k = length(selectedLabels) \n",
        "\n",
        "  ## create one-hot encoded matrix Y\n",
        "  matched_labels = match(labels[idx], selectedLabels)\n",
        "  Y = matrix(0, n, k)\n",
        "  Y[(matched_labels-1)*n + 1:n] <- 1    ## generate one-hot encoding matrix\n",
        "  return(list(X=X, Y=Y))\n",
        "}"
      ],
      "metadata": {
        "id": "HiEbSn6ht27V"
      },
      "execution_count": null,
      "outputs": []
    },
    {
      "cell_type": "markdown",
      "source": [
        "#### ***TASK 1b : IMPLEMENT MULTI-CLASS CLASSIFICATION ON MNIST DATA*** (30 pts)\n",
        "\n",
        "Define  \n",
        "\n",
        "$$\\boldsymbol{\\tau}(\\boldsymbol{z}) = \\frac{e^{z}}{\\sum_{i=1}^k e^{z_i}}$$\n",
        "\n",
        "where $\\boldsymbol{\\tau}(\\boldsymbol{z}) \\in \\mathbb{R}^k$ and $k$ is the number of labels for multi-class classification. \n",
        "\n",
        "Then we can define the penalized likelihood function of multiclass logistic regression in terms of $B \\in \\mathbb{R}^{p \\times k}$.\n",
        "\n",
        "$$L(B,\\lambda) = \n",
        "\\frac{1}{n}\\sum_{i=1}^n \\boldsymbol{y}_i^T\\log \\boldsymbol{\\tau}\\left(\\boldsymbol{x}_i^T B\\right) - \\frac{\\lambda}{2n}\\|B\\|_2^2\n",
        "$$\n",
        "\n",
        "where $\\boldsymbol{x}_i \\in \\mathbb{R}^p$ is predictor variable and $\\boldsymbol{y}_i \\in \\mathbb{R}^k$ is one-hot encoding of multi-class labels for $i$-th observation. "
      ],
      "metadata": {
        "id": "M152_EiQuJw1"
      }
    },
    {
      "cell_type": "markdown",
      "source": [
        "The goal of the ***Task 1b*** is to implement multi-class logistic regression on your own. Here is a basic guideline.\n",
        "* You need to implement `my.multi.fit(X, Y, lambda=1)` using only `base` and `stats` package.\n",
        "* The function should return a list, including at least the following two attributes:\n",
        "  * `par` : A `(p x k)` matrix of coefficients ($B$ in the equation above) from logistic ridge regression.\n",
        "  * `counts` : A length 2 vector containing the number of evaluations of the objective functions and gradients.\n",
        "  * Note that these attributes can be easily obtained from the output of `stats::optim()` function.  \n",
        "* Using `stats::optim()` function with `L-BFGS-B` algorithm is highly recommended.\n",
        "* Use $-\\log L(\\boldsymbol{B},\\lambda)$ as the objective function and provide the gradient as needed.\n",
        "* For this required task, you are not allowed to use external libraries beyond default R packages (e.g. `base`, `utils`, `stats`).\n",
        "\n",
        "*Hint*: Because `optim()` function takes vector as argument, you need to pass $B$ as a vector, not as a matrix when using in objective and gradient functions, so some tweaking from the equation above may be necessary.  "
      ],
      "metadata": {
        "id": "K7MkZrrwuNKS"
      }
    },
    {
      "cell_type": "markdown",
      "source": [
        "#### <u>Task 1b - PART I - DESCRIPTION OF YOUR IMPLEMENTATION (WRITE ON YOUR OWN)</u>\n",
        "\n",
        "***Please delete the text in this cell and fill in with your own.***\n",
        "\n",
        "_Please provide a brief description on how you derived the multi-class classification algorithm. If you know how to use LaTeX editor, you can put equation directly here. Otherwise, you may attached an external image. This part does not have to be comprehensive step by step. Briefly showing your work to derive your algorithm is all we need._"
      ],
      "metadata": {
        "id": "y9z49FaS4k4A"
      }
    },
    {
      "cell_type": "markdown",
      "source": [
        "#### <u>Task 1b - PART II - ACTUAL IMPLEMENTATION </u>\n",
        "\n",
        "_Fill in the code in the cell below. You may add additional cells if needed._"
      ],
      "metadata": {
        "id": "6UWgJsW55ta2"
      }
    },
    {
      "cell_type": "code",
      "source": [
        "##########################################################\n",
        "## PLEASE MODIFY THIS CELL (or Add more cells if needed)\n",
        "##########################################################\n",
        "## TASK 1a: Implement my.multi.fit() function that performs logistic regression\n",
        "#' @param X - (n x p) matrix of predictor variables. Assume that intercept term is already included in the input.\n",
        "#' @param Y - (n x k) matrix of one-hot encoding of multi-class labels\n",
        "#' @return A list containing at least the following two attributes, which can be passed from stats::optim()\n",
        "#'    * par - A size p vector of coefficients from logistic ridge regression.\n",
        "#'    * counts - The number of function calls made on objective function and gradients.\n",
        "#'    * You may include other attributes as you want.  \n",
        "my.multi.fit = function(X, Y, lambda=1) {\n",
        "  ## IMPLEMENT YOUR OWN FUNCTION HERE:\n",
        "  ## * You may define other functions inside, or outside this function\n",
        "  ## * Only base and stats packages are allowed. \n",
        "  ## * Using stats::optim() is highly recommended\n",
        "  ## * Your objective function should be -log L(\\beta,\\lambda) in the equation above.\n",
        "  ## * Note that you may have to deal with numerical precision challenges.\n",
        "  ## * Note that you need to vectorize the matrix parameter B in the equation above.\n",
        "\n",
        "  return(list(par=..., counts=..., ...)) ## Make sure to return a list\n",
        "}"
      ],
      "metadata": {
        "id": "9paI186ZuXLO"
      },
      "execution_count": null,
      "outputs": []
    },
    {
      "cell_type": "markdown",
      "source": [
        "#### Task 1b - Evaluation\n",
        "\n",
        "***WARNING: DO NOT MODIFY the code segments below.*** \n",
        "\n",
        "This code evaluates your output from your previous function. "
      ],
      "metadata": {
        "id": "3Wy10KLAucBp"
      }
    },
    {
      "cell_type": "code",
      "source": [
        "## DO NOT MODIFY THIS CELL - IF YOU WANT TO CHANGE LABELS, USE TASK 1b.\n",
        "## Subsample training and test datasets\n",
        "#trn = prep_multi_classification(train.X, train.Y, c(0,1,2))\n",
        "#tst = prep_multi_classification(test.X, test.Y, c(0,1,2))\n",
        "selected.labels = c(0, 1, 7)\n",
        "trn = prep_multi_classification(train.X, train.Y, selected.labels)\n",
        "tst = prep_multi_classification(test.X, test.Y, selected.labels)\n",
        "## Check the dimensions of the data\n",
        "print(dim(trn$X))\n",
        "print(dim(trn$Y))\n",
        "print(dim(tst$X))\n",
        "print(dim(tst$Y))"
      ],
      "metadata": {
        "id": "Z4PVyCN4QSmA",
        "colab": {
          "base_uri": "https://localhost:8080/"
        },
        "outputId": "0e5b6b28-93fd-4307-f309-dce9e30ede51"
      },
      "execution_count": null,
      "outputs": [
        {
          "output_type": "stream",
          "name": "stdout",
          "text": [
            "[1] 18930   784\n",
            "[1] 18930     3\n",
            "[1] 3143  784\n",
            "[1] 3143    3\n"
          ]
        }
      ]
    },
    {
      "cell_type": "code",
      "source": [
        "## DO NOT MODIFY THIS CELL\n",
        "tic <- proc.time()\n",
        "rst <- my.multi.fit(tst$X, tst$Y, 1) ## run the new method\n",
        "toc <- proc.time()\n",
        "cat(paste0(\"New ridge regression train took \",sprintf(\"%.5f\",(toc-tic)[3]),\" seconds\\n\")) \n",
        "cat(paste0(\"Number of (function, gradient) evaluations: (\",rst$counts[1],\",\",rst$counts[2],\")\\n\")) \n",
        "## Example output is given below."
      ],
      "metadata": {
        "colab": {
          "base_uri": "https://localhost:8080/"
        },
        "id": "pGNfhMMoQGlF",
        "outputId": "6c1fdd73-8b4c-40b6-f744-54ed40b5bb6e"
      },
      "execution_count": null,
      "outputs": [
        {
          "output_type": "stream",
          "name": "stdout",
          "text": [
            "New ridge regression train took 1.86600 seconds\n",
            "Number of (function, gradient) evaluations: (34,34)\n"
          ]
        }
      ]
    },
    {
      "cell_type": "code",
      "source": [
        "my.pred <- selected.labels[apply(trn$X %*% rst$par, 1, which.max)]\n",
        "true.pred <- selected.labels[apply(trn$Y, 1, which.max)]\n",
        "print(table(my.pred))\n",
        "## Tabulate the TP/FP/TN/FN\n",
        "print(data.frame(pred=my.pred, true=true.pred) %>% count(true,pred) %>% mutate(freq=n/sum(n)))\n",
        "## Example output is given below.\n",
        "\n",
        "cat(paste0(\"Accuracy = \", sum(my.pred==true.pred)/length(my.pred)), \"\\n\")"
      ],
      "metadata": {
        "colab": {
          "base_uri": "https://localhost:8080/"
        },
        "id": "_BlaIJt0uoKw",
        "outputId": "36194f5e-38ee-4622-d552-7257a2454ad5"
      },
      "execution_count": null,
      "outputs": [
        {
          "output_type": "stream",
          "name": "stdout",
          "text": [
            "my.pred\n",
            "   0    1    7 \n",
            "6676 6827 5427 \n",
            "  true pred    n         freq\n",
            "1    0    0 5907 0.3120443740\n",
            "2    0    1    5 0.0002641310\n",
            "3    0    7   11 0.0005810882\n",
            "4    1    0   78 0.0041204437\n",
            "5    1    1 6616 0.3494981511\n",
            "6    1    7   48 0.0025356577\n",
            "7    7    0  691 0.0365029054\n",
            "8    7    1  206 0.0108821976\n",
            "9    7    7 5368 0.2835710512\n",
            "Accuracy = 0.945113576333862 \n"
          ]
        }
      ]
    },
    {
      "cell_type": "markdown",
      "metadata": {
        "id": "8BF8EEGpGV-G"
      },
      "source": [
        "#### <u>Task 1 - PART III - INTERPRET EVALUATION RESULTS (WRITE ON YOUR OWN)</u>\n",
        "\n",
        "***Please delete the text in this cell and fill in with your own.***\n",
        "\n",
        "_Briefly describe the followings: (it does not have to be long. 1-2 sentences each is fine.)_\n",
        "* _Does your result make sense to you? What was most surprising to you?_\n",
        "* _What was the challenging part in your implementation? How did you address the challenges?_\n",
        "* _How could your implementation be potentially improved?_"
      ]
    },
    {
      "cell_type": "markdown",
      "metadata": {
        "id": "cIsxpVAzL1d-"
      },
      "source": [
        "## Task 2 : Clustering of MNIST data with Expectation-Maximization (E-M) algorithm\n",
        "\n",
        "The second task is to implement an algorithm that performs multi-class clustering of MNIST images using the Expectation-Maximization algorithm.\n",
        "\n",
        "1. Subset images/labels that contains 3 or more labels (to make the problem simple, but not too simple).\n",
        "2. You are required to implement an E-M algorithm based on multivariate binomial distribution.\n",
        "  * You need to comment your code well and write a brief documentation to explain how you implemented it.\n",
        "  * The instructors will review your code and may provide specific comments. "
      ]
    },
    {
      "cell_type": "markdown",
      "metadata": {
        "id": "V0DbzD5L4eTM"
      },
      "source": [
        "### Pre-task: Prepare the data for clustering\n",
        "\n",
        "This section select a subset of labels from the test data (we work on test data rather than training to reduce response time), and cluster the corresponding images without using the labels at all. In this example, three labels - 0, 1, 7 are selected. "
      ]
    },
    {
      "cell_type": "code",
      "metadata": {
        "id": "tUb6mgwS0wCQ"
      },
      "source": [
        "## DO NOT MODIFY THIS CELL\n",
        "## prepare data given a set of digits\n",
        "#' @param images - (r * c * n) array containing n images\n",
        "#' @param labels - Size n vector of containing n labels\n",
        "#' @param selectedLabels - The label(s) considered for clustering  \n",
        "#' @return A list containing then following attributes\n",
        "#'         * X - Matrix of (nrow=number of selected labels, ncol=r*c)\n",
        "#'         * y - Vector selected labels\n",
        "prep_multiway_clustering = function(images, labels, selectedLabels) {\n",
        "  dims = dim(images)\n",
        "  idx = which(labels %in% selectedLabels)\n",
        "  X = t(matrix(images[,,idx],nrow=dims[1]*dims[2])) ## 784 * n matrix\n",
        "  return(list(X=X,y = labels[idx]))\n",
        "}"
      ],
      "execution_count": null,
      "outputs": []
    },
    {
      "cell_type": "code",
      "metadata": {
        "id": "NcRhU3wY0x0H"
      },
      "source": [
        "## DO NOT MODIFY THIS CELL\n",
        "## Select 3 labels for clustering\n",
        "selected.labels = c(0, 1, 7)\n",
        "tst = prep_multiway_clustering(test.X, test.Y, selected.labels)"
      ],
      "execution_count": null,
      "outputs": []
    },
    {
      "cell_type": "markdown",
      "metadata": {
        "id": "G5LiSZ5e5kkS"
      },
      "source": [
        "### ***TASK 2: IMPLEMENT EM CLUSTERING ON YOUR OWN*** (40 pts)\n",
        "\n",
        "The goal of the first project is to implement 3-class clustering. Here is a basic guideline.\n",
        "* You need to implement `my.EM.clustering(X, nclust, max.iter, tol)` using only `base` and `stats` package.\n",
        "* The function should return a list, including at least the following two attributes:\n",
        "  * `mu` : A `ncol(X) * nclust` matrix of mean pixel strength (0-1 scale)  for each cluster. \n",
        "  * `est` : The best guess cluster of each image to one of the labels (i.e. in `1:nclust`). Note that the cluster id and the images labels do not have direct correspondence and may be permuted in different runs.\n",
        "  \n",
        "Here are useful guidelines to implement an E-M algorithm:\n",
        "* Consider the image as if it is a binary data. For example, consider all pixels with value greater than 127 as 1, otherwise as zero. This allows us to model the image as 784(=28x28)-dimensional binary vectors.\n",
        "* For convenience, ignore correlations between the dimensions, and model the conditional likelihood of data using independent Bernoulli random variables. For example, \n",
        "$$\n",
        "\\Pr(\\boldsymbol{x}_i | \\boldsymbol{\\mu}) = \\prod_{j=1}^p \\mu_{j}^{x}(1-\\mu_{j})^{1-x_i} \n",
        "$$\n",
        "where $\\boldsymbol{x}_i \\in \\{0,1\\}^p$ is binarized input image, and $\\boldsymbol{\\mu} \\in (0,1)^p$ is the parameters for a cluster, and $p$ is the dimension of input vector (e.g. 784). \n",
        "* The marginal likelihood of the data can be represented as a mixture of multiple components (clusters).\n",
        "$$\n",
        "\\Pr(\\boldsymbol{x}_i) = \\sum_{k} \\pi_k \\Pr(\\boldsymbol{x}_i | \\boldsymbol{\\mu}_k) \n",
        "$$\n",
        "where $\\pi_k$ represents mixing proportion of each component.\n",
        "* Then, you may want to implement an E-M algorithm to infer $\\boldsymbol{\\mu}_1, \\ldots, \\boldsymbol{\\mu}_K$ and other relevant parameters given observed data."
      ]
    },
    {
      "cell_type": "markdown",
      "metadata": {
        "id": "XBbsXdBy8OQb"
      },
      "source": [
        "#### <u>Task 2 - PART I - DESCRIPTION OF YOUR IMPLEMENTATION (WRITE ON YOUR OWN)</u>\n",
        "\n",
        "***Please delete the text in this cell and fill in with your own.***\n",
        "\n",
        "_Please provide a brief description on how you your E-M algorithm was organized and how you derived the algorithm. If you know how to use LaTeX editor, you can put equation directly here. Otherwise, you may attached an external image. This part does not have to be comprehensive. Briefly showing your work to derive your algorithm is all we need._"
      ]
    },
    {
      "cell_type": "markdown",
      "metadata": {
        "id": "DngiJfgl89jl"
      },
      "source": [
        "#### <u>Task 2 - PART II - ACTUAL IMPLEMENTATION </u>\n",
        "\n",
        "_Fill in the code below. You may add additional cells if needed._"
      ]
    },
    {
      "cell_type": "code",
      "metadata": {
        "id": "g7pmyJbl00vm"
      },
      "source": [
        "##########################################################\n",
        "## PLEASE MODIFY THIS CELL (or Add more cells if needed)\n",
        "##########################################################\n",
        "## Implement your own clustering algorithm\n",
        "#' @param X : (n * 784) matrix of images (binarizing the matrix at X[i,j] > 127 is highly recommended)\n",
        "#' @param nclust : Number of clusters to generate\n",
        "#' @param max.iter : Maximum number of iteration, may end early based on convergence criteria\n",
        "#' @param tol : Parameters for determining convergence.\n",
        "#' @return A list containing at least the following attributes:\n",
        "#'    * mus - A [ ncol(X) * nclust ] matrix of mean pixel strength (0-1 scale)  for each cluster.\n",
        "#'    * est - The best guess cluster of each image to one of the labels (i.e. in `1:nclust`). \n",
        "my.EM.clustering = function(X, nclust, max.iter, tol) {\n",
        "  ## Make sure to return at least two attributes (or more)\n",
        "  return(list(mus=...,est=...))\n",
        "}"
      ],
      "execution_count": null,
      "outputs": []
    },
    {
      "cell_type": "markdown",
      "metadata": {
        "id": "yhaGu1zt9Hig"
      },
      "source": [
        "### Evaluation of TASK 2\n",
        "\n",
        "***DO NOT MODIFY The code fragment below.***\n",
        "\n",
        "This code evaluates your output from your previous function. "
      ]
    },
    {
      "cell_type": "code",
      "metadata": {
        "id": "ZiF6wjGT1Wrw",
        "colab": {
          "base_uri": "https://localhost:8080/"
        },
        "outputId": "eed06bc2-cb1c-4c7f-c0c6-657e33ff75ec"
      },
      "source": [
        "## DO NOT MODIFY THIS CELL\n",
        "## Run the clustering algorithm from the selected Data\n",
        "tic()\n",
        "rst = my.EM.clustering(tst$X,length(selected.labels))\n",
        "toc()\n",
        "## NOTE: This step took 2.894 seconds from a working example with an E-M algorithm"
      ],
      "execution_count": null,
      "outputs": [
        {
          "output_type": "stream",
          "name": "stdout",
          "text": [
            "0.835 sec elapsed\n"
          ]
        }
      ]
    },
    {
      "cell_type": "code",
      "metadata": {
        "colab": {
          "base_uri": "https://localhost:8080/",
          "height": 95
        },
        "id": "q3MXRhHS1Yej",
        "outputId": "d987221a-1b34-4b3e-dbb9-ad4c75a62917"
      },
      "source": [
        "## DO NOT MODIFY THIS CELL\n",
        "## Visualize rst$mus as images.\n",
        "options(repr.plot.width=4, repr.plot.height=1)\n",
        "par(mfrow=c(1,3))\n",
        "par(mar=c(0,0,0,0))\n",
        "apply(rst$mus,2,function(x) { image(matrix(x,28,28)[,28:1]*255,col=gray((0:255)/255)) })\n",
        "## below is a result from a working example with an E-M algorithm"
      ],
      "execution_count": null,
      "outputs": [
        {
          "output_type": "display_data",
          "data": {
            "text/plain": [
              "NULL"
            ]
          },
          "metadata": {}
        },
        {
          "output_type": "display_data",
          "data": {
            "text/plain": [
              "plot without title"
            ],
            "image/png": "[encoded data removed]"
          },
          "metadata": {
            "image/png": {
              "width": 240,
              "height": 60
            }
          }
        }
      ]
    },
    {
      "cell_type": "code",
      "metadata": {
        "colab": {
          "base_uri": "https://localhost:8080/"
        },
        "id": "hEEnh-dH1dkY",
        "outputId": "e7452d0f-ca55-49c6-f5f1-6d789de24722"
      },
      "source": [
        "## DO NOT MODIFY THIS CELL\n",
        "## Tabulate the contingency tables to understand the accuracy \n",
        "print(data.frame(est=rst$est, true=tst$y) %>% count(true,est) %>% mutate(freq=n/sum(n)))\n",
        "## below is a result from a working example with an E-M algorithm"
      ],
      "execution_count": null,
      "outputs": [
        {
          "output_type": "stream",
          "name": "stdout",
          "text": [
            "  true est    n         freq\n",
            "1    0   1   11 0.0034998409\n",
            "2    0   2  967 0.3076678333\n",
            "3    0   3    2 0.0006363347\n",
            "4    1   1   12 0.0038180083\n",
            "5    1   2    1 0.0003181674\n",
            "6    1   3 1122 0.3569837735\n",
            "7    7   1  970 0.3086223353\n",
            "8    7   2    7 0.0022271715\n",
            "9    7   3   51 0.0162265352\n"
          ]
        }
      ]
    },
    {
      "cell_type": "markdown",
      "source": [
        "_Note that the results above are based on a suggestive implementation, and you do not have to have exactly the same results (but comparable results are expected to obtain full credit)_"
      ],
      "metadata": {
        "id": "il1CcROP8Noi"
      }
    },
    {
      "cell_type": "markdown",
      "metadata": {
        "id": "V1qNUBJk9CjX"
      },
      "source": [
        "#### <u>Task 2 - PART III - INTERPRET EVALUATION RESULTS (WRITE ON YOUR OWN)</u>\n",
        "\n",
        "<u>***Please delete the text in this cell and fill in with your own.***</u>\n",
        "\n",
        "_Briefly describe the followings: (it does not have to be long. 1-2 sentences each is fine._\n",
        "* _Did your E-M algorithm always converge to the intended solution or not? Why or why not?_\n",
        "* _Does your result make sense. What surprise you the most?_\n",
        "* _What was the tricky part in your implementation? How did you address the challenges?_\n",
        "* _How could your implementation be potentially improved?_"
      ]
    },
    {
      "cell_type": "markdown",
      "metadata": {
        "id": "ikB5NMUs9pd8"
      },
      "source": [
        "### ***TASK 3: IMPROVE THE METHODS ABOVE*** (optional for extra credit)\n",
        "\n",
        "This is an open-ended task. You are encouraged to perform additional follow-ups on classification & clustering tasks above. Examples include the following:\n",
        "  * (Easy) Try different sets of labels to understand the data-dependent differences in the classification/clustering performance. Also, try to evaluate the robustness of your algorithm based on different initial points.\n",
        "  * (Medium) Identify issues with current implementations and try to find a way to improve the algorithm, in terms of accuracy or numerical stability.\n",
        "  * (Hard) Try to implement another algorithm and compare the performance between the algorithms. Describe which ones are better in which cases and justify your answer.\n",
        "\n",
        "Add additional code or text cells as needed below. Make sure to include your brief report on your work so that instructors can understand what you accomplished clearly.\n",
        "\n",
        "For this optional task, you are allowed to use any external libraries if needed."
      ]
    },
    {
      "cell_type": "code",
      "metadata": {
        "id": "qn6v2ifi9scT"
      },
      "source": [
        "##########################################################\n",
        "## PLEASE MODIFY THIS CELL (or Add more cells if needed)\n",
        "## To perform TASK 3 (optional)\n",
        "##########################################################"
      ],
      "execution_count": null,
      "outputs": []
    }
  ]
}