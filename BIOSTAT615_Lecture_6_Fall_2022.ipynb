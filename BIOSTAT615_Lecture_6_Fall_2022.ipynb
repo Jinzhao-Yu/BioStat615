{
  "nbformat": 4,
  "nbformat_minor": 0,
  "metadata": {
    "colab": {
      "provenance": [],
      "collapsed_sections": [],
      "include_colab_link": true
    },
    "kernelspec": {
      "name": "ir",
      "display_name": "R"
    },
    "language_info": {
      "name": "R"
    }
  },
  "cells": [
    {
      "cell_type": "markdown",
      "metadata": {
        "id": "view-in-github",
        "colab_type": "text"
      },
      "source": [
        "<a href=\"https://colab.research.google.com/github/Jinzhao-Yu/BioStat615/blob/main/BIOSTAT615_Lecture_6_Fall_2022.ipynb\" target=\"_parent\"><img src=\"https://colab.research.google.com/assets/colab-badge.svg\" alt=\"Open In Colab\"/></a>"
      ]
    },
    {
      "cell_type": "markdown",
      "metadata": {
        "id": "uT2Q3psEbcK-"
      },
      "source": [
        "# BIOSTAT615 Lecture 6 - R"
      ]
    },
    {
      "cell_type": "markdown",
      "metadata": {
        "id": "v00bY0Mw9Ajm"
      },
      "source": [
        "## 1. Linear Interpolation"
      ]
    },
    {
      "cell_type": "code",
      "metadata": {
        "id": "behkwyv38w4R"
      },
      "source": [
        "#' linear interpolation between two points\n",
        "#' @param (x1,y1) - (x,y) coordinates of one point\n",
        "#' @param (x2,y2) - (x,y) coordinate of another point\n",
        "#' @return A vector of c(y_intercept, slope)\n",
        "linear.interpolation <- function (x1 , y1 , x2 , y2) {\n",
        "  m <- (y2 - y1) / (x2 - x1)\n",
        "  b <- y2 - m * x2\n",
        "  return (c(b, m))  # return the coefficients\n",
        "}"
      ],
      "execution_count": null,
      "outputs": []
    },
    {
      "cell_type": "code",
      "metadata": {
        "id": "ohJ16TRq9Hmd"
      },
      "source": [
        "#' evaluate polynomial function\n",
        "#' @param x - A vector of x-coordinates to evaluate\n",
        "#' @param coefs - Polynomial coefficient c(intercept,1st,2nd,...)\n",
        "#' @return A vector of predicted values from the polynomial\n",
        "eval.poly <- function(x,coefs){\n",
        "  y <- rep (0, length (x))\n",
        "  for(i in length(coefs):1L)\n",
        "    y <- coefs [i] + x * y    ## can you understand why this implements polynomial?\n",
        "  return (y)\n",
        "}"
      ],
      "execution_count": null,
      "outputs": []
    },
    {
      "cell_type": "markdown",
      "source": [
        "`eval.poly()` calculates polynomial usinga recursive formula.\n",
        "\n",
        "$$\\begin{array}{ll}\n",
        "y_0 & = 0 \\\\\n",
        "y_i & = x y_{i-1} + b_{n-i+1} \n",
        "\\end{array}$$\n",
        "\n",
        "Then, we have the following value of $y_i$ in each iteration\n",
        "\n",
        "$$\\begin{array}{ll}\n",
        "y_0 &= 0 \\\\\n",
        "y_1 &= b_n \\\\\n",
        "y_2 &= b_n x + b_{n-1}\\\\\n",
        "y_3 &= b_n x^2 + b_{n-1}x + b_{n-2}\\\\\n",
        "& \\cdots \\\\\n",
        "y_n &= b_n x^n + b_{n-1}x^{n-1} + \\ldots + b_1x + b_0\n",
        "\\end{array}$$ "
      ],
      "metadata": {
        "id": "w95Y2ziwoQFF"
      }
    },
    {
      "cell_type": "code",
      "source": [
        "## Example of linear interpolation with two points\n",
        "x1 = -1; y1 = 2; \n",
        "x2 = 3; y2 = 6;   # NOTE : slope is exactly 1\n",
        "\n",
        "## create x, y values to evaluate the function\n",
        "x <- seq(x1-1,x2+1,length=100)\n",
        "y <- eval.poly(x,linear.interpolation(x1,y1,x2,y2))\n",
        "\n",
        "## draw the original points and interpolated values \n",
        "plot(x,y,type=\"l\",lty=2,asp=1)\n",
        "points(x1,y1)\n",
        "points(x2,y2)"
      ],
      "metadata": {
        "id": "65sjkOXnlE0Q"
      },
      "execution_count": null,
      "outputs": []
    },
    {
      "cell_type": "code",
      "metadata": {
        "id": "jo6KL3m_9lau"
      },
      "source": [
        "## Copy the example above\n",
        "x1 = -1; y1 = 2; \n",
        "x2 = 3; y2 = 6;  \n",
        "x <- seq(x1-1,x2+1,length=100)\n",
        "y <- eval.poly(x,linear.interpolation(x1,y1,x2,y2))\n",
        "plot(x,y,type=\"l\",lty=2,asp=1)\n",
        "points(x1,y1)\n",
        "points(x2,y2)\n",
        "\n",
        "## Examples where two points are very close to each other\n",
        "## define new (x3, y3) and (x4, y4) that are very close\n",
        "x3=0; y3=3;\n",
        "x4=x3+1e-15; y4=y3+1e-15; ## NOTE: slope should be still 1\n",
        "\n",
        "## create y1 values to evaluate the interpolated function\n",
        "y1 = eval.poly(x,linear.interpolation(x3,y3,x4,y4))\n",
        "\n",
        "## draw the new points and interpolated values\n",
        "points(x3,y3,col=\"red\",pch=19,cex=0.5)\n",
        "points(x4,y4,col=\"red\",pch=19,cex=0.5)\n",
        "lines(x,y1,type=\"l\",lty=3,col=\"red\")"
      ],
      "execution_count": null,
      "outputs": []
    },
    {
      "cell_type": "markdown",
      "metadata": {
        "id": "xqgN6_Hc0ovY"
      },
      "source": [
        "## 2. Higher-Order Polynomial interpolation"
      ]
    },
    {
      "cell_type": "code",
      "metadata": {
        "id": "iFpiEqIK-Fcc"
      },
      "source": [
        "#' poly.interpolation() - polynomial interpolation\n",
        "#' @param x - list of x values to fit polynomial\n",
        "#' @param y - list of y values to fit polynomial\n",
        "#' @return coefficients of polynomial \n",
        "poly.interpolation <- function (x, y) {\n",
        "  if( length (x) != length (y))\n",
        "    stop (\" Length of x and y vectors must be the same \")\n",
        "  n <- length (x)\n",
        "  vandermonde <- matrix(rep (1, n*n),nrow=n,ncol=n)\n",
        "  xi = vandermonde[,1]\n",
        "  for(i in 2:n) {\n",
        "    xi <- xi*x\n",
        "    ## can you understand how vandermode matrix is constructed?\n",
        "    vandermonde[,i] <- xi   \n",
        "  }\n",
        "  beta <- solve(vandermonde, y)\n",
        "  return(as.vector(beta))\n",
        "}"
      ],
      "execution_count": null,
      "outputs": []
    },
    {
      "cell_type": "code",
      "metadata": {
        "id": "zbUOrk5zBzY9"
      },
      "source": [
        "## polynomial fit with three points \n",
        "x_obs <- c(-1, 0, 1)\n",
        "y_obs <- c(-2, -1, 2)\n",
        "\n",
        "## perform polynomial interpolation on the three points\n",
        "poly_coef <- poly.interpolation(x_obs, y_obs)\n",
        "\n",
        "## generate 100 points to visualize interpolated poynomial\n",
        "x <- seq(-2,2,length=100)\n",
        "y <- eval.poly(x, poly_coef)\n",
        "\n",
        "## visualize original and interpolated values\n",
        "plot(x,y,type=\"l\",lty=2)\n",
        "points(x_obs,y_obs)"
      ],
      "execution_count": null,
      "outputs": []
    },
    {
      "cell_type": "markdown",
      "source": [
        "## 3. Approximation Errors"
      ],
      "metadata": {
        "id": "unv6kCF0xuSO"
      }
    },
    {
      "cell_type": "code",
      "metadata": {
        "id": "xHnLJPMcB2Pd"
      },
      "source": [
        "## polynomial fit with 10 observed points \n",
        "x_obs <- seq(-3,3,length=10) # 10 observed points\n",
        "y_obs <- sin(x_obs)          # intended function is sin(x)\n",
        "\n",
        "## perform polynomial interpolation on the 10 points\n",
        "poly_coef <- poly.interpolation(x_obs, y_obs)\n",
        "\n",
        "## generate 1000 points to visualize interpolated poynomial\n",
        "x <- seq(-6,6,length=1000)\n",
        "y <- eval.poly(x, poly_coef)\n",
        "\n",
        "## visualize intended function sin(x)\n",
        "plot(x,sin(x),col=\"red\",type=\"l\",lwd=2)\n",
        "## visualize the 10 anchor points\n",
        "points(x_obs,y_obs) \n",
        "## visualize fitted values\n",
        "lines(x,y,type=\"l\",lty=2,col=\"blue\")"
      ],
      "execution_count": null,
      "outputs": []
    },
    {
      "cell_type": "code",
      "source": [
        "## Repeat exactly the same thing, with wider range\n",
        "## polynomial fit with 10 observed points \n",
        "x_obs <- seq(-5,5,length=10) # ONLY DIFFERENCE from the previous example\n",
        "y_obs <- sin(x_obs)          # intended function is sin(x)\n",
        "\n",
        "## perform polynomial interpolation on the 10 points\n",
        "poly_coef <- poly.interpolation(x_obs, y_obs)\n",
        "\n",
        "## generate 1000 points to visualize interpolated poynomial\n",
        "x <- seq(-6,6,length=1000)\n",
        "y <- eval.poly(x, poly_coef)\n",
        "\n",
        "## visualize intended function sin(x)\n",
        "plot(x,sin(x),col=\"red\",type=\"l\",lwd=2)\n",
        "## visualize the 10 anchor points\n",
        "points(x_obs,y_obs) \n",
        "## visualize fitted values\n",
        "lines(x,y,type=\"l\",lty=2,col=\"blue\")"
      ],
      "metadata": {
        "id": "BAS3wzbSolsK"
      },
      "execution_count": null,
      "outputs": []
    },
    {
      "cell_type": "code",
      "source": [
        "## Repeat exactly the same thing, with even wider range\n",
        "## polynomial fit with 10 observed points \n",
        "x_obs <- seq(-6,6,length=10) # ONLY DIFFERENCE from the previous example\n",
        "y_obs <- sin(x_obs)          # intended function is sin(x)\n",
        "\n",
        "## perform polynomial interpolation on the 10 points\n",
        "poly_coef <- poly.interpolation(x_obs, y_obs)\n",
        "\n",
        "## generate 1000 points to visualize interpolated poynomial\n",
        "x <- seq(-6,6,length=1000)\n",
        "y <- eval.poly(x, poly_coef)\n",
        "\n",
        "## visualize intended function sin(x)\n",
        "plot(x,sin(x),col=\"red\",type=\"l\",lwd=2)\n",
        "## visualize the 10 anchor points\n",
        "points(x_obs,y_obs) \n",
        "## visualize fitted values\n",
        "lines(x,y,type=\"l\",lty=2,col=\"blue\")"
      ],
      "metadata": {
        "id": "L7tVBd06o4HQ"
      },
      "execution_count": null,
      "outputs": []
    },
    {
      "cell_type": "markdown",
      "source": [
        "## 4. Runge's phenomenon"
      ],
      "metadata": {
        "id": "CXW9x5w5yEZS"
      }
    },
    {
      "cell_type": "code",
      "source": [
        "## polynomial fit with 15 observed points with some randomness\n",
        "## Runge's phenomenon\n",
        "set.seed(1000) ## this is just for reproducible results\n",
        "x_obs <- seq(-6,6,length=15) # 15 points between -6 and 6\n",
        "y_obs <- 2*x_obs+1 + rnorm(length(x_obs)) # y=2x+1 with randomness\n",
        "\n",
        "## perform polynomial interpolation on the 10 points\n",
        "poly_coef <- poly.interpolation(x_obs, y_obs)\n",
        "\n",
        "## generate 1000 points to visualize interpolated poynomial\n",
        "x <- seq(-6,6,length=1000)\n",
        "y <- eval.poly(x, poly_coef)\n",
        "\n",
        "## visualize intended function 2x+1\n",
        "plot(x,2*x+1,col=\"red\",type=\"l\",lwd=2)\n",
        "## visualize the 10 anchor points\n",
        "points(x_obs,y_obs) \n",
        "## visualize fitted values\n",
        "lines(x,y,type=\"l\",lty=2,col=\"blue\")"
      ],
      "metadata": {
        "id": "fM84ZUoepD4r"
      },
      "execution_count": null,
      "outputs": []
    },
    {
      "cell_type": "markdown",
      "metadata": {
        "id": "tm3SHImOVYGa"
      },
      "source": [
        "## 5. Piecewise Linear Interpolation"
      ]
    },
    {
      "cell_type": "code",
      "metadata": {
        "id": "DpmC0QWgCFUB"
      },
      "source": [
        "#' piecewise.linear.interpolation()\n",
        "#' @param x A vector of observed x-coordinates\n",
        "#' @param y A vector of observed y-coordinates\n",
        "#' @return A dataframe containing the following attributes\n",
        "#'    * x : x-values interpolated (2nd to last)\n",
        "#'    * b : y-intercepts for each interval line\n",
        "#'    * m : slope for each interval\n",
        "piecewise.linear.interpolation  = function(x,y){\n",
        "  n = length(x)\n",
        "  od_x = order(x)\n",
        "  y = y[od_x] # reorder y based on x values\n",
        "  x = x[od_x] # reorder x in the same way\n",
        "  m = diff(y)/diff(x) # slopes between two nearby points\n",
        "  b = y[-1] - m*x[-1] # y-intercepts from 2nd to last points\n",
        "  return(cbind(x=x[-1],b,m))\n",
        "}"
      ],
      "execution_count": null,
      "outputs": []
    },
    {
      "cell_type": "code",
      "metadata": {
        "id": "Xv59jgNYCJDy"
      },
      "source": [
        "#' eval.piecewise.poly()\n",
        "#' @param x     A vector of x-coordinates to be evaluated\n",
        "#' @param coefs Data frames containing (x, b, m)\n",
        "#' @return A vector of y-coordinates linearly interpolated\n",
        "eval.piecewise.poly <- function(x,coefs){\n",
        "   n = nrow(coefs)\n",
        "   x_bound = c(-Inf,coefs[-n,\"x\"],Inf) # Make n intervals\n",
        "   y = rep(NA,length=length(x)) \n",
        "   for(i in 1:n){\n",
        "     # select x points that fall into i-th interval\n",
        "     idx = which((x <= x_bound[i+1]) & (x > x_bound[i])) \n",
        "     y[idx] = eval.poly(x[idx],coefs[i,c(\"b\",\"m\")]) # apply interpolation\n",
        "   }\n",
        "   return(y)\n",
        " }"
      ],
      "execution_count": null,
      "outputs": []
    },
    {
      "cell_type": "code",
      "source": [
        "x_obs <- c(-1, 0, 1,-2)   # 4 observed points\n",
        "y_obs <- c(-2, -1, 2,-1)\n",
        "\n",
        "## perform polynomial interpolation on the 10 points\n",
        "pwl_coef <- piecewise.linear.interpolation(x_obs, y_obs)\n",
        "\n",
        "## generate 1000 points to visualize interpolated poynomial\n",
        "x <- seq(-3,3,length=100)\n",
        "y <- eval.piecewise.poly(x, pwl_coef)\n",
        "\n",
        "## Visualize anchor points and fitted values\n",
        "plot(x,y,type=\"l\",lty=2,col=\"blue\")\n",
        "points(x_obs,y_obs)"
      ],
      "metadata": {
        "id": "2ZjEfmItpvJP"
      },
      "execution_count": null,
      "outputs": []
    },
    {
      "cell_type": "code",
      "source": [
        "## Revisiting Runge's phenomenon\n",
        "set.seed(1000) ## this is just for reproducible results\n",
        "x_obs <- seq(-6,6,length=15) # 15 points between -6 and 6\n",
        "y_obs <- 2*x_obs+1 + rnorm(length(x_obs)) # y=2x+1 with randomness\n",
        "\n",
        "## perform polynomial interpolation on the 10 points\n",
        "pwl_coef <- piecewise.linear.interpolation(x_obs, y_obs)\n",
        "poly_coef <- poly.interpolation(x_obs, y_obs)\n",
        "\n",
        "## generate 1000 points to visualize interpolated poynomial\n",
        "x <- seq(-6,6,length=1000)\n",
        "y <- eval.piecewise.poly(x, pwl_coef)\n",
        "y0 <- eval.poly(x, poly_coef)\n",
        "\n",
        "## visualize polynomial interpolation\n",
        "plot(x,y0,col=\"blue\",type=\"l\",lty=2)\n",
        "## visualize the 10 anchor points\n",
        "points(x_obs,y_obs) \n",
        "## visualize piecewise interpolation\n",
        "lines(x,y,lty=2,col=\"red\")\n",
        "## show the legend\n",
        "legend(\"top\",c(\"polynomial\",\"piecewise linear\"),lty=2,col=c(\"blue\",\"red\"))"
      ],
      "metadata": {
        "id": "_SoSQPNsqRJA"
      },
      "execution_count": null,
      "outputs": []
    },
    {
      "cell_type": "markdown",
      "metadata": {
        "id": "uMCwy0G2V1_B"
      },
      "source": [
        "## 6. Natural Cubic Splines"
      ]
    },
    {
      "cell_type": "code",
      "metadata": {
        "id": "x9kHqugICPlk"
      },
      "source": [
        "#' tridiagmatrix() - solve cubine splines\n",
        "#' @param L, D, U, b - vectors for the equations\n",
        "#' @return solution for x\n",
        "tridiagmatrix <- function (L, D, U, b) {\n",
        "  n <- length (D)\n",
        "  ## The forward sweep - redefine U and b\n",
        "  U[1] <- U[1] / D[1]\n",
        "  b[1] <- b[1] / D[1]\n",
        "  if(n>2){\n",
        "    for(i in 2:(n - 1)) {\n",
        "      U[i] <- U[i] / (D[i] - L[i-1] * U[i - 1])\n",
        "      b[i] <- (b[i] - L[i-1] * b[i - 1]) / (D[i] - L[i-1] * U[i - 1])\n",
        "    }\n",
        "  }\n",
        "  b[n] <- (b[n] - L[n-1] * b[n - 1]) / (D[n] - L[n-1] * U[n - 1])\n",
        "  ## The backward sweep - solve x\n",
        "  x <- rep(0, n)\n",
        "  x[n] <- b[n]\n",
        "  if(n>1){\n",
        "    for(i in (n - 1):1)\n",
        "      x[i] <- b[i] - U[i] * x[i + 1]\n",
        "  }\n",
        "  return (x)\n",
        "}"
      ],
      "execution_count": null,
      "outputs": []
    },
    {
      "cell_type": "code",
      "metadata": {
        "id": "uqBNP0g5CfwY"
      },
      "source": [
        "#' cubic.spline() - fit a cubin spline\n",
        "#' @param x, y - coordinatess of observed values\n",
        "#' @return A function that performs spline fitting\n",
        "cubic.spline <- function (x, y) {\n",
        "  n <- length (x)\n",
        "  if(n==0 | length(x)!=length(y))\n",
        "    stop(\"Not valid input data!\")\n",
        "  ## reorder x and y\n",
        "  od = order(x)\n",
        "  x = x[od]\n",
        "  y = y[od]\n",
        "\n",
        "  h <- diff(x)\n",
        "  delta <- diff(y)/h\n",
        "  g <- h[-1]+h[-(n-1)]\n",
        "  v <- delta[-1] - delta[-(n-1)]\n",
        "  a0 <- y[-n]\n",
        "  a2 <- c(0,tridiagmatrix(h[-c(1,(n-1))] , 2*g , h[-c(1,n-1)] , 3*v))\n",
        "  a3 <- c(diff(c(a2,0)))/(3*h)\n",
        "  a1 <- delta - (2*a2+c(a2[-1],0))*h/3\n",
        "  coefs = cbind(a0, a1, a2, a3) ## coef contains the cubic function coefficients\n",
        "\n",
        "  ## define a new spline function to return\n",
        "  spline.fun <- function(x_new){\n",
        "    if(n>1){ \n",
        "      x_bound = c(-Inf,x[2:(n-1)],Inf)\n",
        "      y_new = rep(NA,length=length(x_new))\n",
        "      ## this is the main part performing the interpolation\n",
        "      for(i in 1:(n-1)){  ## find intervals corresponding each x_new\n",
        "        idx = which((x_new <= x_bound[i+1]) & (x_new > x_bound[i]))\n",
        "        ## apply polynomial interpolation using the cubic function\n",
        "        y_new[idx] = eval.poly(x_new[idx]-x[i],coefs[i,])\n",
        "      }\n",
        "      if(n==2){\n",
        "        idx =which(x_new > x_bound[2])\n",
        "        y_new[idx] = eval.poly(x_new[idx]-x[1],coefs[1,])\n",
        "      }\n",
        "    } else{ ## if there is only one value, return constant values\n",
        "      y_new = rep(y[1],length=length(x_new))\n",
        "    }\n",
        "    return(y_new)\n",
        "  }\n",
        "  return(spline.fun)\n",
        "}  "
      ],
      "execution_count": null,
      "outputs": []
    },
    {
      "cell_type": "code",
      "metadata": {
        "id": "lrYB9TIUDGfF"
      },
      "source": [
        "#' poly.interpolation.fun() - similar to poly.interpolation() but\n",
        "#'                     returns a function instead of coefficients.\n",
        "#' @param x, y - coordinates \n",
        "#' @return A function that performs spline fitting\n",
        "poly.interpolation.fun <- function (x, y) {\n",
        "  if( length (x) != length (y))\n",
        "    stop (\" Length of x and y vectors must be the same \")\n",
        "  n <- length (x)\n",
        "  vandermonde <- matrix(rep (1, n*n),nrow=n,ncol=n)\n",
        "  xi = vandermonde[,1]\n",
        "  for(i in 2:n) {\n",
        "    xi <- xi*x\n",
        "    vandermonde[,i] <- xi\n",
        "  }\n",
        "  beta <- solve (vandermonde, y)\n",
        "\n",
        "  fun <- function(x_new){\n",
        "    return(eval.poly(x_new,as.vector(beta)))\n",
        "  }\n",
        "  return(fun)\n",
        "}"
      ],
      "execution_count": null,
      "outputs": []
    },
    {
      "cell_type": "code",
      "source": [
        "## test cubic spline for a small example \n",
        "x_obs = c(-2, -1, 0, 1)\n",
        "y_obs = c(-1, -2, -1, 2)\n",
        "f <- cubic.spline(x_obs,y_obs)      # fit cubic spline\n",
        "curve(f,-3,3,lty=2,col=\"blue\")\n",
        "points(x_obs,y_obs)"
      ],
      "metadata": {
        "id": "AlBltjJAryBX"
      },
      "execution_count": null,
      "outputs": []
    },
    {
      "cell_type": "code",
      "source": [
        "## Re-revisiting Runge's phenomenon\n",
        "set.seed(1000) ## this is just for reproducible results\n",
        "x_obs <- seq(-6,6,length=15) # 15 points between -6 and 6\n",
        "y_obs <- 2*x_obs+1 + rnorm(length(x_obs)) # y=2x+1 with randomness\n",
        "\n",
        "f_cubic <- cubic.spline(x_obs,y_obs)          # fit cubic spline\n",
        "f_poly <- poly.interpolation.fun(x_obs,y_obs) # fit polynomial \n",
        "## curve takes a function and ranges of input \n",
        "curve(f_poly,-6,6,n=1000,lty=1,col=\"red\",ylab=\"Splines\")\n",
        "## add=TRUE uses the same from/to arguments\n",
        "curve(f_cubic,n=1000,add=TRUE,lty=2,col=\"blue\")\n",
        "## plot the observed points\n",
        "points(x_obs,y_obs)\n",
        "## add labels\n",
        "legend(\"top\",c(\"Poly\",\"NCS\"),lty=1:2,lwd=1,col=c(\"red\",\"blue\"))"
      ],
      "metadata": {
        "id": "aZdSFiSvsiVw"
      },
      "execution_count": null,
      "outputs": []
    }
  ]
}