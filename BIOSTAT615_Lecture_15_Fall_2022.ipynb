{
  "nbformat": 4,
  "nbformat_minor": 0,
  "metadata": {
    "colab": {
      "provenance": [],
      "include_colab_link": true
    },
    "kernelspec": {
      "name": "ir",
      "display_name": "R"
    },
    "language_info": {
      "name": "R"
    }
  },
  "cells": [
    {
      "cell_type": "markdown",
      "metadata": {
        "id": "view-in-github",
        "colab_type": "text"
      },
      "source": [
        "<a href=\"https://colab.research.google.com/github/Jinzhao-Yu/BioStat615/blob/main/BIOSTAT615_Lecture_15_Fall_2022.ipynb\" target=\"_parent\"><img src=\"https://colab.research.google.com/assets/colab-badge.svg\" alt=\"Open In Colab\"/></a>"
      ]
    },
    {
      "cell_type": "markdown",
      "metadata": {
        "id": "UrLtjJGPl8QX"
      },
      "source": [
        "# BIOSTAT615 Lecture 15 -R \n",
        "\n",
        "## 1. Evaluating implementations with microbenchmark"
      ]
    },
    {
      "cell_type": "code",
      "metadata": {
        "id": "c_0XXUSymKWg",
        "colab": {
          "base_uri": "https://localhost:8080/"
        },
        "outputId": "64f388e2-a457-4671-98ee-41c6db2f8dc0"
      },
      "source": [
        "## microbenchmark is a package that helps evaluate computational efficiency\n",
        "install.packages(\"microbenchmark\")\n",
        "install.packages(\"Rcpp\")"
      ],
      "execution_count": 1,
      "outputs": [
        {
          "output_type": "stream",
          "name": "stderr",
          "text": [
            "Installing package into ‘/usr/local/lib/R/site-library’\n",
            "(as ‘lib’ is unspecified)\n",
            "\n",
            "Installing package into ‘/usr/local/lib/R/site-library’\n",
            "(as ‘lib’ is unspecified)\n",
            "\n"
          ]
        }
      ]
    },
    {
      "cell_type": "code",
      "metadata": {
        "id": "kXVOpBtDlmog",
        "colab": {
          "base_uri": "https://localhost:8080/"
        },
        "outputId": "bd2c870b-b089-41de-a6b7-a3f1ad138a8a"
      },
      "source": [
        "## Testing microbenchmarking\n",
        "library(microbenchmark)\n",
        "x = runif(1000)\n",
        "print(microbenchmark(sqrt(x),x^0.5,exp(0.5*log(x))))"
      ],
      "execution_count": 2,
      "outputs": [
        {
          "output_type": "stream",
          "name": "stdout",
          "text": [
            "Unit: microseconds\n",
            "              expr    min      lq     mean  median      uq     max neval\n",
            "           sqrt(x)  2.760  3.7440  5.07596  4.5970  5.6405  22.637   100\n",
            "             x^0.5 76.777 77.8660 80.41870 79.0940 80.3265 113.130   100\n",
            " exp(0.5 * log(x)) 46.074 47.3465 50.62273 48.8075 50.1845 134.198   100\n"
          ]
        }
      ]
    },
    {
      "cell_type": "code",
      "metadata": {
        "id": "Fej0giz_mOco"
      },
      "source": [
        "## Loopy implementation of cumulative sum\n",
        "cumsum_1 = function(x){\n",
        "  for(i in 2:length(x)){\n",
        "    x[i] = x[i] + x[i-1]\n",
        "  }\n",
        "  return(x)\n",
        "}"
      ],
      "execution_count": 3,
      "outputs": []
    },
    {
      "cell_type": "code",
      "metadata": {
        "id": "5KDbt7a4mQnQ"
      },
      "source": [
        "## Cumulative sum with global update\n",
        "cumsum_2 = function(x){\n",
        "  sapply(2:length(x), function(i) x[i] <<-x[i]+x[i-1] )\n",
        "  return(x)\n",
        "}"
      ],
      "execution_count": 4,
      "outputs": []
    },
    {
      "cell_type": "code",
      "metadata": {
        "id": "IiCP5T_rnFYm",
        "colab": {
          "base_uri": "https://localhost:8080/"
        },
        "outputId": "f4aa3bc7-c19d-4e47-f359-cc0d8d2c3267"
      },
      "source": [
        "## Evaluation of different implementations\n",
        "## cumsum_1 : using for loop and local assignment\n",
        "## cumsum_2 : using sapply and global assignment\n",
        "## cumsum   : built-in function in R\n",
        "x = rep(1,length=1000)\n",
        "print(microbenchmark(cumsum_1(x), cumsum_2(x), cumsum(x)))"
      ],
      "execution_count": 5,
      "outputs": [
        {
          "output_type": "stream",
          "name": "stdout",
          "text": [
            "Unit: microseconds\n",
            "        expr     min       lq       mean   median        uq      max neval\n",
            " cumsum_1(x) 100.578 102.4185  149.56806  104.023  107.0025 4412.782   100\n",
            " cumsum_2(x) 926.497 969.3525 1114.13391 1006.050 1055.2270 6403.558   100\n",
            "   cumsum(x)   1.279   1.6285    2.29112    2.038    2.5640   11.036   100\n"
          ]
        }
      ]
    },
    {
      "cell_type": "markdown",
      "source": [
        "## 2. Comparing `for` loop, `sapply`, and `apply`"
      ],
      "metadata": {
        "id": "0CND4XWR8jdi"
      }
    },
    {
      "cell_type": "code",
      "metadata": {
        "id": "AXVUDuxxoL4I",
        "colab": {
          "base_uri": "https://localhost:8080/"
        },
        "outputId": "cb3dc737-dc85-4f28-f067-03973c04d3b2"
      },
      "source": [
        "## x is 100 x 10,000 matrix\n",
        "x = matrix(rnorm(1e6),nrow=100,ncol=1e4)\n",
        "\n",
        "## sapply_cumsum : use sapply() to run cumsum for each column\n",
        "sapply_cumsum = function(X) sapply(1:ncol(X), function(i) cumsum(X[,i]))\n",
        "\n",
        "## apply_cumsum : use apply() to run cumsum for each column\n",
        "apply_cumsum = function(X) apply(X, 2, cumsum)\n",
        "\n",
        "## loop_cumsum : use a for loop to run cumsum for each column\n",
        "loop_cumsum = function(X) { \n",
        "  ret = matrix(NA,nrow(X),ncol(X))\n",
        "  for(i in 1:ncol(X)) {\n",
        "    ret[,i] = cumsum(X[,i])\n",
        "  }\n",
        "  return(ret)\n",
        "}\n",
        "\n",
        "## compare the efficiency using microbenchmark\n",
        "print(microbenchmark( \n",
        "  sapply_cumsum(x),\n",
        "  apply_cumsum(x),\n",
        "  loop_cumsum(x)\n",
        "))"
      ],
      "execution_count": 6,
      "outputs": [
        {
          "output_type": "stream",
          "name": "stdout",
          "text": [
            "Unit: milliseconds\n",
            "             expr      min       lq     mean   median       uq      max neval\n",
            " sapply_cumsum(x) 27.27676 37.56194 43.54816 40.17622 43.32988 111.5174   100\n",
            "  apply_cumsum(x) 29.53987 40.85985 53.79164 44.33717 52.03735 128.4414   100\n",
            "   loop_cumsum(x) 24.22735 31.74534 39.51864 34.56488 38.19176 115.2343   100\n"
          ]
        }
      ]
    },
    {
      "cell_type": "markdown",
      "source": [
        "## 3. Introducing `Rcpp`"
      ],
      "metadata": {
        "id": "ru8kcZ0K8zrO"
      }
    },
    {
      "cell_type": "code",
      "metadata": {
        "id": "X23j7mmqmR77"
      },
      "source": [
        "library(Rcpp)\n",
        "cppFunction('void cumsum_3(NumericVector& x){\n",
        "            for(int i = 1; i < x.size(); i++){\n",
        "                x[i] = x[i] + x[i-1];\n",
        "            }\n",
        "}')"
      ],
      "execution_count": 7,
      "outputs": []
    },
    {
      "cell_type": "code",
      "metadata": {
        "id": "BT2nD3ubmTdZ",
        "colab": {
          "base_uri": "https://localhost:8080/"
        },
        "outputId": "247456fd-aecb-4910-8ed1-12ac7170d677"
      },
      "source": [
        "fn = function() rep(1,length=1000) \n",
        "print(microbenchmark(cumsum_1(fn()),\n",
        "               cumsum_2(fn()),\n",
        "               cumsum_3(fn()),\n",
        "               cumsum(fn()),times=1000))"
      ],
      "execution_count": 8,
      "outputs": [
        {
          "output_type": "stream",
          "name": "stdout",
          "text": [
            "Unit: microseconds\n",
            "           expr     min       lq        mean   median        uq      max neval\n",
            " cumsum_1(fn()) 102.520 104.4335  111.900320 106.7125  111.2725  243.510  1000\n",
            " cumsum_2(fn()) 916.805 957.0465 1082.620494 975.6150 1011.9340 5791.649  1000\n",
            " cumsum_3(fn())   7.531   8.3745   13.095580  10.0100   12.6620 1600.343  1000\n",
            "   cumsum(fn())   3.475   4.1585    5.058874   4.6020    5.3095   27.862  1000\n"
          ]
        }
      ]
    },
    {
      "cell_type": "markdown",
      "metadata": {
        "id": "2eAFZFjcuaw2"
      },
      "source": [
        "## 4. Using `cppFunction()`"
      ]
    },
    {
      "cell_type": "code",
      "metadata": {
        "id": "mgfzX8_NucQZ"
      },
      "source": [
        "library(Rcpp)\n",
        "cppFunction('int add(int x, int y, int z) {\n",
        "  int sum = x + y + z; \n",
        "  return sum;\n",
        "}')"
      ],
      "execution_count": 9,
      "outputs": []
    },
    {
      "cell_type": "code",
      "metadata": {
        "id": "iQAHD0LlurKN",
        "colab": {
          "base_uri": "https://localhost:8080/",
          "height": 52
        },
        "outputId": "019cdd37-6f21-4c1f-ef8a-011526e03467"
      },
      "source": [
        "# add works like a regular R function (but you cannot see inside)\n",
        "add"
      ],
      "execution_count": 10,
      "outputs": [
        {
          "output_type": "display_data",
          "data": {
            "text/html": [
              "<pre class=language-r><code>function (x, y, z) \n",
              ".Call(&lt;pointer: 0x7eff58bf6480&gt;, x, y, z)</code></pre>"
            ],
            "text/markdown": "```r\nfunction (x, y, z) \n.Call(<pointer: 0x7eff58bf6480>, x, y, z)\n```",
            "text/latex": "\\begin{minted}{r}\nfunction (x, y, z) \n.Call(<pointer: 0x7eff58bf6480>, x, y, z)\n\\end{minted}",
            "text/plain": [
              "function (x, y, z) \n",
              ".Call(<pointer: 0x7eff58bf6480>, x, y, z)"
            ]
          },
          "metadata": {}
        }
      ]
    },
    {
      "cell_type": "code",
      "metadata": {
        "id": "F5dFTIpVusXj",
        "colab": {
          "base_uri": "https://localhost:8080/",
          "height": 34
        },
        "outputId": "1c1f41bd-0239-4ecb-ec4f-985e2b067bc7"
      },
      "source": [
        "add(1, 2, 3)"
      ],
      "execution_count": 11,
      "outputs": [
        {
          "output_type": "display_data",
          "data": {
            "text/html": [
              "6"
            ],
            "text/markdown": "6",
            "text/latex": "6",
            "text/plain": [
              "[1] 6"
            ]
          },
          "metadata": {}
        }
      ]
    },
    {
      "cell_type": "markdown",
      "metadata": {
        "id": "iyipIdQSxCf_"
      },
      "source": [
        "## 5. No input, scalar output"
      ]
    },
    {
      "cell_type": "code",
      "metadata": {
        "id": "92XQtasTvoGG"
      },
      "source": [
        "oneR <- function() 1L"
      ],
      "execution_count": 12,
      "outputs": []
    },
    {
      "cell_type": "code",
      "metadata": {
        "id": "-GOyLhRGvtvb"
      },
      "source": [
        "cppFunction('int oneC() { \n",
        "  return 1;\n",
        "}')"
      ],
      "execution_count": 13,
      "outputs": []
    },
    {
      "cell_type": "code",
      "metadata": {
        "id": "18Zk8w30wFZ8",
        "colab": {
          "base_uri": "https://localhost:8080/"
        },
        "outputId": "ce8621a3-7235-485b-fd49-c512c1028a29"
      },
      "source": [
        "print(oneR())\n",
        "print(oneC())"
      ],
      "execution_count": 14,
      "outputs": [
        {
          "output_type": "stream",
          "name": "stdout",
          "text": [
            "[1] 1\n",
            "[1] 1\n"
          ]
        }
      ]
    },
    {
      "cell_type": "markdown",
      "metadata": {
        "id": "_NhMiVCdxZQK"
      },
      "source": [
        "## 6. Scalar input, scalar output"
      ]
    },
    {
      "cell_type": "code",
      "metadata": {
        "id": "Jyr9ER-TxcKx"
      },
      "source": [
        "signR <- function(x) {\n",
        "  if (x > 0) { \n",
        "    1\n",
        "  } else if (x == 0) { \n",
        "    0\n",
        "  } else { \n",
        "    -1\n",
        "  } \n",
        "}"
      ],
      "execution_count": 15,
      "outputs": []
    },
    {
      "cell_type": "code",
      "metadata": {
        "id": "VLyja93bxmqC"
      },
      "source": [
        "cppFunction('int signC(int x) {\n",
        "  if (x > 0) { \n",
        "    return 1;\n",
        "  } else if (x == 0) { \n",
        "    return 0;\n",
        "  } else { \n",
        "    return -1;\n",
        "  } \n",
        "}')"
      ],
      "execution_count": 16,
      "outputs": []
    },
    {
      "cell_type": "code",
      "source": [
        "print(signR(100))\n",
        "print(signR(0))\n",
        "print(signR(-100))\n",
        "print(signC(100))\n",
        "print(signC(0))\n",
        "print(signC(-100))"
      ],
      "metadata": {
        "id": "WrgXdANYU4_j",
        "colab": {
          "base_uri": "https://localhost:8080/"
        },
        "outputId": "086c2e34-33e5-4bf4-bc5c-6d9c84754c20"
      },
      "execution_count": 17,
      "outputs": [
        {
          "output_type": "stream",
          "name": "stdout",
          "text": [
            "[1] 1\n",
            "[1] 0\n",
            "[1] -1\n",
            "[1] 1\n",
            "[1] 0\n",
            "[1] -1\n"
          ]
        }
      ]
    },
    {
      "cell_type": "markdown",
      "metadata": {
        "id": "IUGLLk7tySbK"
      },
      "source": [
        "## 7. Vector input, scalar output"
      ]
    },
    {
      "cell_type": "code",
      "metadata": {
        "id": "jt8LAJy0mqmy"
      },
      "source": [
        "sumR <- function(x) {\n",
        "  total <- 0\n",
        "  for (i in seq_along(x)) {\n",
        "    total <- total + x[i]\n",
        "  }\n",
        "  total\n",
        "}"
      ],
      "execution_count": 18,
      "outputs": []
    },
    {
      "cell_type": "code",
      "metadata": {
        "id": "5Leqg1QnmsNc"
      },
      "source": [
        "cppFunction('double sumC(NumericVector x) {\n",
        "            int n = x.size();\n",
        "            double total = 0;\n",
        "            for(int i = 0; i < n; ++i) {\n",
        "            total += x[i];\n",
        "            }\n",
        "            return total;\n",
        "            }')"
      ],
      "execution_count": 19,
      "outputs": []
    },
    {
      "cell_type": "code",
      "metadata": {
        "id": "Zo3AEUzsmuBS",
        "colab": {
          "base_uri": "https://localhost:8080/"
        },
        "outputId": "3ba01c93-2134-44b3-f4da-8cc1bf8fc990"
      },
      "source": [
        "## which one do you think it is faster?\n",
        "x <- runif(1e3)\n",
        "print(microbenchmark(\n",
        "  sum(x),\n",
        "  sumC(x),\n",
        "  sumR(x)\n",
        "))"
      ],
      "execution_count": 20,
      "outputs": [
        {
          "output_type": "stream",
          "name": "stdout",
          "text": [
            "Unit: microseconds\n",
            "    expr    min      lq     mean  median      uq      max neval\n",
            "  sum(x)  1.359  1.4105  1.74690  1.4715  1.5515   14.263   100\n",
            " sumC(x)  3.421  3.5220 16.12354  3.6320  3.9440 1071.779   100\n",
            " sumR(x) 40.317 40.6480 76.82605 40.8205 41.8950 3529.761   100\n"
          ]
        }
      ]
    },
    {
      "cell_type": "markdown",
      "metadata": {
        "id": "EnHUQZC7z24k"
      },
      "source": [
        "## 8. Vector input, vector output"
      ]
    },
    {
      "cell_type": "code",
      "metadata": {
        "id": "ETOpcLeFmwmM"
      },
      "source": [
        "pdistR <- function(x, ys) {\n",
        "  sqrt((x - ys) ^ 2)\n",
        "}"
      ],
      "execution_count": 21,
      "outputs": []
    },
    {
      "cell_type": "code",
      "metadata": {
        "id": "61yEKZ-u5e31"
      },
      "source": [
        "cppFunction('NumericVector pdistC(double x, NumericVector ys) { \n",
        "  int n = ys.size();\n",
        "  NumericVector out(n);\n",
        "  for(int i = 0; i < n; ++i) {\n",
        "    out[i] = sqrt(pow(ys[i] - x, 2.0));\n",
        "  }\n",
        "  return out;\n",
        "}')"
      ],
      "execution_count": 22,
      "outputs": []
    },
    {
      "cell_type": "code",
      "metadata": {
        "id": "Cl7ZqzTe5pCt",
        "colab": {
          "base_uri": "https://localhost:8080/"
        },
        "outputId": "8699aab8-1a65-4f6c-9374-e7640da88470"
      },
      "source": [
        "## which one do you think it is faster?\n",
        "y = runif(1e6)\n",
        "print(microbenchmark(pdistR(0,y),pdistC(0,y),times=1000L))"
      ],
      "execution_count": 23,
      "outputs": [
        {
          "output_type": "stream",
          "name": "stdout",
          "text": [
            "Unit: milliseconds\n",
            "         expr      min       lq     mean   median       uq      max neval\n",
            " pdistR(0, y) 5.624995 5.785878 6.589199 5.835555 5.957583 74.22311  1000\n",
            " pdistC(0, y) 8.267597 8.335563 9.133033 8.368965 8.465787 81.52314  1000\n"
          ]
        }
      ]
    },
    {
      "cell_type": "markdown",
      "metadata": {
        "id": "_euh45lM67uP"
      },
      "source": [
        "## 9. Matrix input, matrix output"
      ]
    },
    {
      "cell_type": "code",
      "metadata": {
        "id": "7C55UuSs67TJ"
      },
      "source": [
        "cppFunction('NumericVector rowSumsC(NumericMatrix x) {\n",
        "  int nrow = x.nrow(), ncol = x.ncol();\n",
        "  NumericVector out(nrow);\n",
        "  for (int i = 0; i < nrow; i++) {\n",
        "    double total = 0;\n",
        "    for (int j = 0; j < ncol; j++) {\n",
        "      total += x(i, j);\n",
        "    }\n",
        "    out[i] = total;\n",
        "  }\n",
        "  return out;\n",
        "}')"
      ],
      "execution_count": 24,
      "outputs": []
    },
    {
      "cell_type": "code",
      "metadata": {
        "id": "Y69O2SSZ7V9C",
        "colab": {
          "base_uri": "https://localhost:8080/"
        },
        "outputId": "71add007-10f4-42ff-b181-221de87017cc"
      },
      "source": [
        "set.seed(2022)\n",
        "fn = function() matrix(sample(100), 10)\n",
        "print(microbenchmark(rowSums(fn()),rowSumsC(fn()),times=10000L))"
      ],
      "execution_count": 25,
      "outputs": [
        {
          "output_type": "stream",
          "name": "stdout",
          "text": [
            "Unit: microseconds\n",
            "           expr    min     lq     mean  median      uq      max neval\n",
            "  rowSums(fn()) 19.071 20.684 25.19209 21.5990 23.4680 9987.783 10000\n",
            " rowSumsC(fn()) 15.970 17.640 22.17528 18.5865 20.5175 9721.043 10000\n"
          ]
        }
      ]
    },
    {
      "cell_type": "markdown",
      "metadata": {
        "id": "KMwVmKXl91ES"
      },
      "source": [
        "## 10. Using `sourceCpp()`"
      ]
    },
    {
      "cell_type": "code",
      "metadata": {
        "id": "lAdP_Ft-94at"
      },
      "source": [
        "## This is just to write a C++ file in R\n",
        "## Usually, you would write a C++ file in a different editor.\n",
        "cat(\"#include <Rcpp.h>\n",
        "using namespace Rcpp;\n",
        "// [[Rcpp::export]]\n",
        "double meanC(NumericVector x) {\n",
        "  int n = x.size();\n",
        "  double total = 0;\n",
        "  for(int i = 0; i < n; ++i) { \n",
        "    total += x[i];\n",
        "  }\\n\n",
        "  return total / n;\n",
        "}\",file=\"example.cpp\")"
      ],
      "execution_count": 26,
      "outputs": []
    },
    {
      "cell_type": "code",
      "source": [
        "## show that file was written and saved\n",
        "cat(system(\"ls -l\",intern=TRUE),sep=\"\\n\")"
      ],
      "metadata": {
        "id": "_U38SEPJV4kK",
        "colab": {
          "base_uri": "https://localhost:8080/"
        },
        "outputId": "12ee9857-2d59-424d-dd19-db860dd81118"
      },
      "execution_count": 27,
      "outputs": [
        {
          "output_type": "stream",
          "name": "stdout",
          "text": [
            "total 8\n",
            "-rw-r--r-- 1 root root  209 Nov 30 05:14 example.cpp\n",
            "drwxr-xr-x 1 root root 4096 Nov 22 00:14 sample_data\n"
          ]
        }
      ]
    },
    {
      "cell_type": "code",
      "source": [
        "## show the contents of the file\n",
        "cat(paste0(system(\"cat example.cpp\", intern=TRUE)),sep=\"\\n\")"
      ],
      "metadata": {
        "id": "paSR7siPAOlc",
        "colab": {
          "base_uri": "https://localhost:8080/"
        },
        "outputId": "c68def66-2e5e-4497-87c9-3bfe17a2ac55"
      },
      "execution_count": 28,
      "outputs": [
        {
          "output_type": "stream",
          "name": "stdout",
          "text": [
            "#include <Rcpp.h>\n",
            "using namespace Rcpp;\n",
            "// [[Rcpp::export]]\n",
            "double meanC(NumericVector x) {\n",
            "  int n = x.size();\n",
            "  double total = 0;\n",
            "  for(int i = 0; i < n; ++i) { \n",
            "    total += x[i];\n",
            "  }\n",
            "\n",
            "  return total / n;\n",
            "}\n"
          ]
        }
      ]
    },
    {
      "cell_type": "code",
      "metadata": {
        "id": "qw8SQmLw-Ith"
      },
      "source": [
        "## compile the C++ function\n",
        "sourceCpp(\"example.cpp\")"
      ],
      "execution_count": 29,
      "outputs": []
    },
    {
      "cell_type": "code",
      "metadata": {
        "id": "K51XWZiu-trL",
        "colab": {
          "base_uri": "https://localhost:8080/"
        },
        "outputId": "1c3c87b4-7e5f-4829-cfe9-6db008844691"
      },
      "source": [
        "x = runif(1e6)\n",
        "print(microbenchmark(meanC(x),mean(x)))"
      ],
      "execution_count": 30,
      "outputs": [
        {
          "output_type": "stream",
          "name": "stdout",
          "text": [
            "Unit: milliseconds\n",
            "     expr      min       lq     mean   median       uq      max neval\n",
            " meanC(x) 1.521025 1.549222 1.591125 1.565568 1.584999 3.072309   100\n",
            "  mean(x) 2.304500 2.352338 2.422401 2.385559 2.435685 3.294785   100\n"
          ]
        }
      ]
    },
    {
      "cell_type": "markdown",
      "metadata": {
        "id": "DSSJZEjhAvrx"
      },
      "source": [
        "## 11. Attributes and other classes"
      ]
    },
    {
      "cell_type": "markdown",
      "source": [
        "All R objects have attributes, which can be queried and modified with `R.attr()`. `Rcpp` also provides `.names()` as an alias for the name attribute. "
      ],
      "metadata": {
        "id": "kOWSyn2tAmbF"
      }
    },
    {
      "cell_type": "code",
      "metadata": {
        "id": "bvtkEnqSmyII"
      },
      "source": [
        "cppFunction('NumericVector attribs() {\n",
        "  NumericVector out = NumericVector::create(1, 2, 3);\n",
        "  out.names() = CharacterVector::create(\"a\", \"b\", \"c\");\n",
        "  out.attr(\"my-attr\") = \"my-value\";\n",
        "  out.attr(\"class\") = \"my-class\";          \n",
        "  return out;\n",
        "}')"
      ],
      "execution_count": 31,
      "outputs": []
    },
    {
      "cell_type": "code",
      "metadata": {
        "id": "v2_Lr8x-A4M9",
        "colab": {
          "base_uri": "https://localhost:8080/",
          "height": 124
        },
        "outputId": "905bc65e-5d26-4abb-d1a2-f66283e6048d"
      },
      "source": [
        "attribs()"
      ],
      "execution_count": 32,
      "outputs": [
        {
          "output_type": "display_data",
          "data": {
            "text/plain": [
              "a b c \n",
              "1 2 3 \n",
              "attr(,\"my-attr\")\n",
              "[1] \"my-value\"\n",
              "attr(,\"class\")\n",
              "[1] \"my-class\""
            ]
          },
          "metadata": {}
        }
      ]
    },
    {
      "cell_type": "markdown",
      "metadata": {
        "id": "fGb0MTpcBYC6"
      },
      "source": [
        "## 12. Lists and data frames"
      ]
    },
    {
      "cell_type": "markdown",
      "source": [
        "The following code illustrates how you might extract the mean percentage error `mpe()` of a linear model. \n"
      ],
      "metadata": {
        "id": "oEYfq4GGDBQO"
      }
    },
    {
      "cell_type": "code",
      "metadata": {
        "id": "RyVtPNeZm3KN"
      },
      "source": [
        "cppFunction('double mpe(List mod) {\n",
        "  if (!mod.inherits(\"lm\")) stop(\"Input must be a linear model\");\n",
        "  NumericVector resid = as<NumericVector>(mod[\"residuals\"]);\n",
        "  NumericVector fitted = as<NumericVector>(mod[\"fitted.values\"]); \n",
        "\n",
        "  int n = resid.size();\n",
        "  double err = 0;\n",
        "  for(int i = 0; i < n; ++i) {\n",
        "    err += resid[i] / (fitted[i] + resid[i]);\n",
        "  }\n",
        "  return err / n;\n",
        "}')"
      ],
      "execution_count": 33,
      "outputs": []
    },
    {
      "cell_type": "markdown",
      "source": [
        "Note the use of `.inherits()` and the `stop()` to check that the object really is a linear model.\n"
      ],
      "metadata": {
        "id": "hBXtxeMXDeCN"
      }
    },
    {
      "cell_type": "code",
      "metadata": {
        "id": "qMM9bdlFm47L",
        "colab": {
          "base_uri": "https://localhost:8080/",
          "height": 34
        },
        "outputId": "ebfdb477-ca8d-4941-b315-cf2bf4bd1c40"
      },
      "source": [
        "set.seed(2021)\n",
        "x = rnorm(1000)\n",
        "y = 1+2*x+rnorm(1000)\n",
        "fit = lm(y~x)\n",
        "mpe(fit)"
      ],
      "execution_count": 34,
      "outputs": [
        {
          "output_type": "display_data",
          "data": {
            "text/html": [
              "0.0182904486411289"
            ],
            "text/markdown": "0.0182904486411289",
            "text/latex": "0.0182904486411289",
            "text/plain": [
              "[1] 0.01829045"
            ]
          },
          "metadata": {}
        }
      ]
    },
    {
      "cell_type": "markdown",
      "metadata": {
        "id": "D6i19qBBC7Mk"
      },
      "source": [
        "### Functions"
      ]
    },
    {
      "cell_type": "markdown",
      "source": [
        "You can put `R` functions in an object of type `Function`. This makes calling an `R` function from `C++` straightforward. "
      ],
      "metadata": {
        "id": "vtg6nmFbDnCn"
      }
    },
    {
      "cell_type": "code",
      "metadata": {
        "id": "5dVPGBiLm6Gv"
      },
      "source": [
        "cppFunction(\n",
        "'RObject callfun(Function f, int n) {\n",
        "  return f(n);\n",
        "}'\n",
        ")"
      ],
      "execution_count": 35,
      "outputs": []
    },
    {
      "cell_type": "markdown",
      "source": [
        "What if we don't know type of object does an `R` function return?\n",
        "Use `RObject` to catch all types. "
      ],
      "metadata": {
        "id": "tDi0yJnvEBVa"
      }
    },
    {
      "cell_type": "code",
      "metadata": {
        "id": "1azYtONhm7z-",
        "colab": {
          "base_uri": "https://localhost:8080/"
        },
        "outputId": "15fb1f5c-8499-410e-dee7-2d4df54144d7"
      },
      "source": [
        "print(microbenchmark(callfun(seq_along,100),seq_along(100)))"
      ],
      "execution_count": 36,
      "outputs": [
        {
          "output_type": "stream",
          "name": "stdout",
          "text": [
            "Unit: nanoseconds\n",
            "                    expr   min      lq     mean median      uq     max neval\n",
            " callfun(seq_along, 100) 14706 15669.5 31364.34  16096 16586.5 1422721   100\n",
            "          seq_along(100)    70    80.0   106.94     91    99.0     560   100\n"
          ]
        }
      ]
    },
    {
      "cell_type": "code",
      "metadata": {
        "id": "gJnsr4BNDJFG",
        "colab": {
          "base_uri": "https://localhost:8080/"
        },
        "outputId": "79e42ffa-8540-455a-fea6-d2f37b25cf59"
      },
      "source": [
        "print(typeof(callfun(seq_along,100)))"
      ],
      "execution_count": 37,
      "outputs": [
        {
          "output_type": "stream",
          "name": "stdout",
          "text": [
            "[1] \"integer\"\n"
          ]
        }
      ]
    },
    {
      "cell_type": "code",
      "metadata": {
        "id": "hxClElRHm-Wz",
        "colab": {
          "base_uri": "https://localhost:8080/"
        },
        "outputId": "fa2018ed-5f62-41e0-ba3b-4d1877c4a092"
      },
      "source": [
        "print(microbenchmark(callfun(rnorm,100),rnorm(100)))"
      ],
      "execution_count": 38,
      "outputs": [
        {
          "output_type": "stream",
          "name": "stdout",
          "text": [
            "Unit: microseconds\n",
            "                expr    min      lq     mean  median      uq    max neval\n",
            " callfun(rnorm, 100) 24.800 26.2145 28.53419 27.1665 28.4345 91.392   100\n",
            "          rnorm(100)  8.878  9.7765 10.93568 10.3930 11.3110 27.663   100\n"
          ]
        }
      ]
    }
  ]
}