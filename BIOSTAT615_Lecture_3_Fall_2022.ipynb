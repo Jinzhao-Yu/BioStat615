{
  "nbformat": 4,
  "nbformat_minor": 0,
  "metadata": {
    "colab": {
      "provenance": [],
      "collapsed_sections": [],
      "include_colab_link": true
    },
    "kernelspec": {
      "name": "ir",
      "display_name": "R"
    },
    "language_info": {
      "name": "R"
    }
  },
  "cells": [
    {
      "cell_type": "markdown",
      "metadata": {
        "id": "view-in-github",
        "colab_type": "text"
      },
      "source": [
        "<a href=\"https://colab.research.google.com/github/Jinzhao-Yu/BioStat615/blob/main/BIOSTAT615_Lecture_3_Fall_2022.ipynb\" target=\"_parent\"><img src=\"https://colab.research.google.com/assets/colab-badge.svg\" alt=\"Open In Colab\"/></a>"
      ]
    },
    {
      "cell_type": "markdown",
      "metadata": {
        "id": "qJxAMXm-zeKL"
      },
      "source": [
        "# BIOSTAT615 Lecture 3 - R"
      ]
    },
    {
      "cell_type": "markdown",
      "metadata": {
        "id": "UbfOypFtqXYB"
      },
      "source": [
        "## 1. An example of recursion"
      ]
    },
    {
      "cell_type": "markdown",
      "source": [
        "A factorial $a_n = n!$ can be defined recursively as follows:\n",
        "\n",
        "$$a_{n} = n a_{n-1}$$\n",
        "$$a_0 = 1$$\n",
        "\n",
        "This recursive formula can also be implemented as a function."
      ],
      "metadata": {
        "id": "hEiq7uFZWQ8k"
      }
    },
    {
      "cell_type": "code",
      "metadata": {
        "id": "oDbXu_LkcCeO"
      },
      "source": [
        "#' A function to calculate factorial\n",
        "#' @param n - argument of factorial\n",
        "#' @return n! = n * (n-1) * .. * 1 \n",
        "factorial = function(n) {\n",
        "  if ( n == 0 ) {  ## terminating condition; a_0 = 1\n",
        "    ret = 1\n",
        "  } else {         ## recursive calls; a_n = n * a_{n-1}\n",
        "    ret = (factorial(n-1) * n)\n",
        "  }\n",
        "  return (ret)\n",
        "}"
      ],
      "execution_count": null,
      "outputs": []
    },
    {
      "cell_type": "code",
      "metadata": {
        "id": "v9NI2LFecesD"
      },
      "source": [
        "factorial(10)"
      ],
      "execution_count": null,
      "outputs": []
    },
    {
      "cell_type": "markdown",
      "source": [
        "OK. It seems working. But how does it really work?\n",
        "\n",
        "Let's see what is happening inside by printing a few messages in the function"
      ],
      "metadata": {
        "id": "8PkNTxm_uYV5"
      }
    },
    {
      "cell_type": "code",
      "source": [
        "#' A function to calculate factorial\n",
        "#' @param n - argument of factorial\n",
        "#' @return n! = n * (n-1) * .. * 1 \n",
        "factorial = function(n) {\n",
        "  print(paste0(\"factorial(\", n, \") is starting\")) ## comment out this line for details\n",
        "  if ( n == 0 ) {  ## terminating condition\n",
        "    ret = 1\n",
        "  } else {         ## recursive calls\n",
        "    ret = (factorial(n-1) * n)\n",
        "  }\n",
        "  print(paste0(\"factorial(\", n, \") is ending\")) ## comment out this line for details\n",
        "  return (ret)\n",
        "}"
      ],
      "metadata": {
        "id": "1alUWqPBQME9"
      },
      "execution_count": null,
      "outputs": []
    },
    {
      "cell_type": "code",
      "source": [
        "factorial(10)"
      ],
      "metadata": {
        "id": "NY8Ani_JQQgs"
      },
      "execution_count": null,
      "outputs": []
    },
    {
      "cell_type": "markdown",
      "source": [
        "Do you think you understood how this function actually works?"
      ],
      "metadata": {
        "id": "Md8jFSX8YFAH"
      }
    },
    {
      "cell_type": "markdown",
      "metadata": {
        "id": "BSGMNW3Mqa2v"
      },
      "source": [
        "## 2. Tower of Hanoi"
      ]
    },
    {
      "cell_type": "markdown",
      "source": [
        "We learned how `towerOfHanoi()` algorithm could be implemented.\n",
        "\n",
        "Can you actually write a recursive R function yourself?"
      ],
      "metadata": {
        "id": "XrQVdB8-YMkw"
      }
    },
    {
      "cell_type": "code",
      "source": [
        "#' towerOfHanoi() : print solution for hanoi tower problem\n",
        "#' @param ndisk - Number of disks to move\n",
        "#' @param beg - The name of rod stacking the disks initially\n",
        "#' @param via - The name of rod used as a mediator\n",
        "#' @param end - The name of rod to stack the disks eventually\n",
        "towerOfHanoi = function(ndisk, beg, via, end) {\n",
        "## Can you fill the function in?\n",
        "}"
      ],
      "metadata": {
        "id": "VNLPphM5owZf"
      },
      "execution_count": null,
      "outputs": []
    },
    {
      "cell_type": "markdown",
      "source": [
        "Unless you completed (or gave up), do not look at the implementation below"
      ],
      "metadata": {
        "id": "aX_VEiyzYaiZ"
      }
    },
    {
      "cell_type": "code",
      "metadata": {
        "id": "LA3XLIwdtbgy"
      },
      "source": [
        "#' towerOfHanoi() : print solution for hanoi tower problem\n",
        "#' @param ndisk - Number of disks to move\n",
        "#' @param beg - The name of rod stacking the disks initially\n",
        "#' @param via - The name of rod used as a mediator\n",
        "#' @param end - The name of rod to stack the disks eventually\n",
        "towerOfHanoi = function(ndisk, beg, via, end) {\n",
        "##  print(paste0(\"towerOfHanoi(\", ndisk,\",\",beg,\",\",via,\",\",end,\") is called\")) ## comment out this line for details\n",
        "  if ( ndisk > 0 ) {\n",
        "    towerOfHanoi(ndisk-1, beg, end, via)\n",
        "    cat(paste0(\"Disk \", ndisk, \" : \", beg , \" -> \", end),\"\\n\")\n",
        "    towerOfHanoi(ndisk-1, via, beg, end)\n",
        "  }\n",
        "}"
      ],
      "execution_count": null,
      "outputs": []
    },
    {
      "cell_type": "code",
      "metadata": {
        "id": "DOIMR4FSuKyC"
      },
      "source": [
        "towerOfHanoi(3, \"s\", \"i\", \"d\")"
      ],
      "execution_count": null,
      "outputs": []
    },
    {
      "cell_type": "code",
      "metadata": {
        "id": "sziIHFkDZHeL"
      },
      "source": [
        "towerOfHanoi(4, \"1st\", \"2nd\", \"3rd\")"
      ],
      "execution_count": null,
      "outputs": []
    },
    {
      "cell_type": "markdown",
      "metadata": {
        "id": "-CnCHMF6qeSf"
      },
      "source": [
        "## 3. Insertion Sort"
      ]
    },
    {
      "cell_type": "code",
      "metadata": {
        "id": "1dVAFRVvuS5Y"
      },
      "source": [
        "#' insertionSort() : sort an array in O(n^2)\n",
        "#' @param x - A unsorted numeric vector\n",
        "#' @return A sorted version of x\n",
        "insertionSort = function(x) {\n",
        "  n = length(x)\n",
        "  for(j in seq(2,n,1)) {  ## assumption: a_1, a_2, ... , a_{j-1} is sorted\n",
        "    key = x[j]            ## objective is to place a_j in the correct spot\n",
        "    i = j-1               ## shift elements to right while x[i] > key\n",
        "    while ( ( i > 0 ) && (x[i] > key) ) {\n",
        "      x[i+1] = x[i]\n",
        "      i = i - 1\n",
        "    }\n",
        "    x[i+1] = key          ## place key in the right spot (why i+1?)\n",
        "  }\n",
        "  return(x)\n",
        "}"
      ],
      "execution_count": null,
      "outputs": []
    },
    {
      "cell_type": "code",
      "metadata": {
        "id": "fLgLX-OxOdiP"
      },
      "source": [
        "## check whether the algorithm works \n",
        "set.seed(2022)\n",
        "x = sample(1:20)  ## shuffle 1...20\n",
        "print(x)          ## print the original vector\n",
        "print(insertionSort(x)) ## print the sorted output"
      ],
      "execution_count": null,
      "outputs": []
    },
    {
      "cell_type": "markdown",
      "metadata": {
        "id": "nFe-XZpKqgiP"
      },
      "source": [
        "## 4. Merge Sort"
      ]
    },
    {
      "cell_type": "code",
      "metadata": {
        "id": "xvtApJvC1YFE"
      },
      "source": [
        "#' mergeSort() : sort an array in O(n log n)\n",
        "#' @param x A unsorted numeric vector\n",
        "#' @return A sorted version of x\n",
        "mergeSort = function(x) {\n",
        "    if(length(x)>1) {  \n",
        "        mid = ceiling(length(x)/2)\n",
        "        a = mergeSort(x[1:mid])             # divide - part 1\n",
        "        b = mergeSort(x[(mid+1):length(x)]) # divide - part 2\n",
        "        return( merge(a,b) ) # combine the solutions\n",
        "    } else {  # terminating condition - only 1 element left\n",
        "        return (x)\n",
        "    }\n",
        "}"
      ],
      "execution_count": null,
      "outputs": []
    },
    {
      "cell_type": "code",
      "metadata": {
        "id": "B88L-iktOiz9"
      },
      "source": [
        "#' merge() : merge two sorted vectors in O(n)\n",
        "#' @param a - A sorted numeric vector\n",
        "#' @param b - Another sorted numeric vector\n",
        "#' @return A sorted vector merging a and b\n",
        "merge = function(a,b) {\n",
        "    r = numeric(length(a)+length(b)) # make an empty vector\n",
        "    i=1; j=1 # i and j are indices for a and b\n",
        "    for(k in 1:length(r)) { \n",
        "      ## if b is used up or a[i] < b[j], copy from a\n",
        "      if ( ( j > length(b) ) || ( i <= length(a) && a[i]<b[j] ) ) {\n",
        "        r[k] = a[i]\n",
        "        i = i + 1\n",
        "      } else {  ## otherwise, copy from b\n",
        "        r[k] = b[j]\n",
        "        j = j + 1\n",
        "      }\n",
        "    }\n",
        "    return(r) ## return the merged vector\n",
        "}"
      ],
      "execution_count": null,
      "outputs": []
    },
    {
      "cell_type": "code",
      "metadata": {
        "id": "9TNIO8DBk5aa"
      },
      "source": [
        "print(mergeSort(x))"
      ],
      "execution_count": null,
      "outputs": []
    },
    {
      "cell_type": "markdown",
      "source": [
        "## 5. Comparing efficiency of sorting algorithms "
      ],
      "metadata": {
        "id": "CATT6aOHqprY"
      }
    },
    {
      "cell_type": "code",
      "metadata": {
        "id": "e0dY1dafk749"
      },
      "source": [
        "## create a vector of 10,000 random values\n",
        "x=rnorm(1e4)"
      ],
      "execution_count": null,
      "outputs": []
    },
    {
      "cell_type": "code",
      "source": [
        "## evaluate the time for insertion sort\n",
        "system.time(insertionSort(x))"
      ],
      "metadata": {
        "id": "9rE8yFwIrPSL"
      },
      "execution_count": null,
      "outputs": []
    },
    {
      "cell_type": "code",
      "source": [
        "## evaluate the time for merge sort\n",
        "system.time(mergeSort(x))"
      ],
      "metadata": {
        "id": "MuTbXCNwrQeW"
      },
      "execution_count": null,
      "outputs": []
    },
    {
      "cell_type": "markdown",
      "source": [
        "Which one do you prefer? `insertionSort()`, or `mergeSort()`?"
      ],
      "metadata": {
        "id": "iaf-i8QPblfO"
      }
    },
    {
      "cell_type": "code",
      "source": [
        "## evaluate the time for default sort in R\n",
        "system.time(sort(x))"
      ],
      "metadata": {
        "id": "CVboJ5pjrSJA"
      },
      "execution_count": null,
      "outputs": []
    },
    {
      "cell_type": "markdown",
      "source": [
        "Which one do you prefer? `sort()` or `mergeSort()`?"
      ],
      "metadata": {
        "id": "bax_ywVRbt4F"
      }
    }
  ]
}