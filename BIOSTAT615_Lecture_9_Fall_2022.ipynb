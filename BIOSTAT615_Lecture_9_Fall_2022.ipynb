{
  "nbformat": 4,
  "nbformat_minor": 0,
  "metadata": {
    "colab": {
      "provenance": [],
      "include_colab_link": true
    },
    "kernelspec": {
      "name": "ir",
      "display_name": "R"
    },
    "language_info": {
      "name": "R"
    }
  },
  "cells": [
    {
      "cell_type": "markdown",
      "metadata": {
        "id": "view-in-github",
        "colab_type": "text"
      },
      "source": [
        "<a href=\"https://colab.research.google.com/github/Jinzhao-Yu/BioStat615/blob/main/BIOSTAT615_Lecture_9_Fall_2022.ipynb\" target=\"_parent\"><img src=\"https://colab.research.google.com/assets/colab-badge.svg\" alt=\"Open In Colab\"/></a>"
      ]
    },
    {
      "cell_type": "markdown",
      "metadata": {
        "id": "hwU_gonMdB1W"
      },
      "source": [
        "# BIOSTAT615 Lecture 9 - R "
      ]
    },
    {
      "cell_type": "markdown",
      "metadata": {
        "id": "N2EsPgEhdv10"
      },
      "source": [
        "## 1. Uniformly Distributed Random Number"
      ]
    },
    {
      "cell_type": "code",
      "metadata": {
        "id": "QafuB2sDdyYL",
        "outputId": "621f220d-b3d7-420c-8fe4-1b44c6804e46",
        "colab": {
          "base_uri": "https://localhost:8080/"
        }
      },
      "source": [
        "## generate 5 uniform random numbers (between 0 and 1)\n",
        "print(runif(5))       "
      ],
      "execution_count": 1,
      "outputs": [
        {
          "output_type": "stream",
          "name": "stdout",
          "text": [
            "[1] 0.17799029 0.65580316 0.75909444 0.07035719 0.29850083\n"
          ]
        }
      ]
    },
    {
      "cell_type": "code",
      "metadata": {
        "id": "tZIDUDwTeVIm",
        "outputId": "b6af559f-ed46-454c-f5f1-cde5edb1e71a",
        "colab": {
          "base_uri": "https://localhost:8080/"
        }
      },
      "source": [
        "## generate 5 uniform random numbers between -1 and 1\n",
        "print(runif(5,-1,1))  "
      ],
      "execution_count": 2,
      "outputs": [
        {
          "output_type": "stream",
          "name": "stdout",
          "text": [
            "[1] -0.3797960 -0.4180741 -0.9438687 -0.8500738  0.7799556\n"
          ]
        }
      ]
    },
    {
      "cell_type": "code",
      "metadata": {
        "id": "TKkEPCA5eX0c",
        "outputId": "3468d89a-28ea-43a5-8311-8736063329a6",
        "colab": {
          "base_uri": "https://localhost:8080/"
        }
      },
      "source": [
        "## generate 3x3 matrix of uniform random numbers\n",
        "print(matrix(runif(9),3,3)) "
      ],
      "execution_count": 3,
      "outputs": [
        {
          "output_type": "stream",
          "name": "stdout",
          "text": [
            "          [,1]      [,2]      [,3]\n",
            "[1,] 0.7026822 0.6068090 0.7271368\n",
            "[2,] 0.9778163 0.1094049 0.5326646\n",
            "[3,] 0.9665640 0.8054020 0.5006538\n"
          ]
        }
      ]
    },
    {
      "cell_type": "code",
      "metadata": {
        "id": "QtAj9Sk0fcbB",
        "outputId": "90996bc1-f181-4dfc-a30f-a92bccba442f",
        "colab": {
          "base_uri": "https://localhost:8080/"
        }
      },
      "source": [
        "## Use set.seed() to make random numbers reproducible\n",
        "set.seed(2021L)\n",
        "print(runif(5))\n",
        "set.seed(2021L)\n",
        "print(runif(5))"
      ],
      "execution_count": 4,
      "outputs": [
        {
          "output_type": "stream",
          "name": "stdout",
          "text": [
            "[1] 0.4512674 0.7837798 0.7096822 0.3817443 0.6363238\n",
            "[1] 0.4512674 0.7837798 0.7096822 0.3817443 0.6363238\n"
          ]
        }
      ]
    },
    {
      "cell_type": "markdown",
      "metadata": {
        "id": "SmBak3P8gJdY"
      },
      "source": [
        "## 2. Generating random numbers from non-uniform distributions"
      ]
    },
    {
      "cell_type": "code",
      "metadata": {
        "id": "B33DmDgkgRtN"
      },
      "source": [
        "x = rnorm(1)        # x ~ N(0,1)\n",
        "y = rnorm(1,3,2)    # y ~ N(3,2^2)\n",
        "z = rbinom(1,1,0.3) # z ~ Binomial(1,0.3)"
      ],
      "execution_count": 5,
      "outputs": []
    },
    {
      "cell_type": "code",
      "metadata": {
        "id": "kxdbyZk2gjkC"
      },
      "source": [
        "## Equivalent representations\n",
        "x = qnorm(runif(1))         # x ~ N(0,1)\n",
        "y = qnorm(runif(1),3,2)     # y ~ N(3,2^2) : y = N(0,1)*2+3\n",
        "z = qbinom(runif(1),1,0.3)  # z ~ Binom(1,0.3)"
      ],
      "execution_count": 6,
      "outputs": []
    },
    {
      "cell_type": "markdown",
      "source": [
        "## 3. Box-Muller Transformation"
      ],
      "metadata": {
        "id": "dkTWO0-rPMso"
      }
    },
    {
      "cell_type": "code",
      "source": [
        "## Implement the algorithm in the slides\n",
        "u1 = runif(1e6)\n",
        "u2 = runif(1e6)\n",
        "R = sqrt(-2*log(u1))\n",
        "Theta = 2 * pi * u2\n",
        "z0 = R * cos(Theta)\n",
        "z1 = R * sin(Theta)\n",
        "\n",
        "## print mean, variance, and covariance\n",
        "print(c(mean(z0), mean(z1), var(z0), var(z1), cov(z0,z1)))"
      ],
      "metadata": {
        "id": "sxY74lM4PMQG",
        "outputId": "8effb560-6e33-4e93-eb27-62fb79338a50",
        "colab": {
          "base_uri": "https://localhost:8080/"
        }
      },
      "execution_count": 7,
      "outputs": [
        {
          "output_type": "stream",
          "name": "stdout",
          "text": [
            "[1] -0.0002744446 -0.0005284376  1.0006345476  0.9982104470 -0.0002653313\n"
          ]
        }
      ]
    },
    {
      "cell_type": "code",
      "source": [
        "## Compare with standard rnorm\n",
        "z0 = rnorm(1e6)\n",
        "z1 = rnorm(1e6)\n",
        "\n",
        "## print mean, variance, and covariance\n",
        "print(c(mean(z0), mean(z1), var(z0), var(z1), cov(z0,z1)))"
      ],
      "metadata": {
        "id": "CwIec-g_PnGR",
        "outputId": "8ef1e7e5-205d-4107-d2fb-86c533fe85ae",
        "colab": {
          "base_uri": "https://localhost:8080/"
        }
      },
      "execution_count": 8,
      "outputs": [
        {
          "output_type": "stream",
          "name": "stdout",
          "text": [
            "[1]  0.0008362733  0.0003712535  0.9981052111  0.9996569514 -0.0004934990\n"
          ]
        }
      ]
    },
    {
      "cell_type": "markdown",
      "metadata": {
        "id": "BYvkWlzUiEMX"
      },
      "source": [
        "## 4. Sampling from a Gaussian mixture"
      ]
    },
    {
      "cell_type": "code",
      "metadata": {
        "id": "rwQQgb43hbaR",
        "outputId": "3ff0a86e-1d3c-4394-a808-2ea38a0eed72",
        "colab": {
          "base_uri": "https://localhost:8080/",
          "height": 317
        }
      },
      "source": [
        "options(repr.plot.width=8,repr.plot.height=5)\n",
        "alpha <- 0.8\n",
        "sigma1 <- 1.0; sigma2 <- 2.0\n",
        "mu1 <- 0.0; mu2 <- 5.0\n",
        "n <- 1000\n",
        "w <- rbinom(n,1,alpha)\n",
        "x <- numeric(length=n)\n",
        "n1 <- sum(w==1)\n",
        "x[w==1] = rnorm(n1,mu1,sigma1)\n",
        "x[w==0] = rnorm(n - n1,mu2,sigma2)\n",
        "hist(x,br=50)"
      ],
      "execution_count": 9,
      "outputs": [
        {
          "output_type": "display_data",
          "data": {
            "text/plain": [
              "Plot with title “Histogram of x”"
            ],
            "image/png": "[encoded data removed]"
          },
          "metadata": {
            "image/png": {
              "width": 480,
              "height": 300
            }
          }
        }
      ]
    },
    {
      "cell_type": "code",
      "metadata": {
        "id": "LZaCx9bHhi5P",
        "outputId": "970f7501-ad8f-4e96-899f-c88a1a44f471",
        "colab": {
          "base_uri": "https://localhost:8080/",
          "height": 317
        }
      },
      "source": [
        "# Another way to implement gaussian mixture\n",
        "Z = rnorm(n)        # uniform normal\n",
        "x = numeric(length=n)\n",
        "# reuse w defined above\n",
        "idx1 = which(w==1)\n",
        "idx2 = which(w==0)\n",
        "x[idx1] = mu1 + sigma1*Z[idx1] # shift & scale\n",
        "x[idx2] = mu2 + sigma2*Z[idx2]\n",
        "hist(x,br=50)"
      ],
      "execution_count": 10,
      "outputs": [
        {
          "output_type": "display_data",
          "data": {
            "text/plain": [
              "Plot with title “Histogram of x”"
            ],
            "image/png": "[encoded data removed]"
          },
          "metadata": {
            "image/png": {
              "width": 480,
              "height": 300
            }
          }
        }
      ]
    },
    {
      "cell_type": "markdown",
      "metadata": {
        "id": "eMyMfMJ_kkuW"
      },
      "source": [
        "## 5. Sampling from a multivariate normal"
      ]
    },
    {
      "cell_type": "markdown",
      "source": [
        "Let $V = U^TU$, and $\\mathbf{z} \\sim \\mathcal{N}(0,I_n)$, then\n",
        "\n",
        "$$\\mathbf{x} = U^T\\mathbf{z} + \\mu \\sim \\mathcal{N}(\\mu, U^TU) = \\mathcal{N}(\\mu, V)$$"
      ],
      "metadata": {
        "id": "yE6KK9GQzttw"
      }
    },
    {
      "cell_type": "code",
      "metadata": {
        "id": "_Wem78H4hleO"
      },
      "source": [
        "#' rmvnorm_chol : Sample from a multivariate normal distribution \n",
        "#'                using Cholesky decomposition\n",
        "#' @param n - number of random samples to generate\n",
        "#' @param mu - (p x 1) vector of mean of MVN \n",
        "#' @param Sigma - (p x p) covariance matrix of MVN\n",
        "#' @return a (n x p) matrix of MVN random samples\n",
        "rmvnorm_chol <- function(n, mu, Sigma){\n",
        "  p = length(mu)\n",
        "  Z <- matrix(rnorm(n*p),nrow=p,ncol=n)\n",
        "  U <- chol(Sigma)          ## perform Cholesky decomposition of covariance matrix \n",
        "  X <- mu + crossprod(U, Z) ## calculate U^T %*% z + mu for each column\n",
        "  return(t(X))\n",
        "}"
      ],
      "execution_count": 11,
      "outputs": []
    },
    {
      "cell_type": "markdown",
      "source": [
        "Let $V = D^T\\Lambda D$ be a eigencomposition, and $A = D^T\\Lambda^{1/2}$ then\n",
        "\n",
        "$$\\mathbf{x} = A\\mathbf{z} + \\mu \\sim \\mathcal{N}(\\mu, AA^T) = \\mathcal{N}(\\mu, V)$$"
      ],
      "metadata": {
        "id": "pmopMV1O1UNy"
      }
    },
    {
      "cell_type": "code",
      "metadata": {
        "id": "WWjf0qu_hncz"
      },
      "source": [
        "#' rmvnorm_eigen : Sample from a multivariate normal distribution \n",
        "#'                using eigen decomposition\n",
        "#' @param n - number of random samples to generate\n",
        "#' @param mu - (p x 1) vector of mean of MVN \n",
        "#' @param Sigma - (p x p) covariance matrix of MVN\n",
        "#' @return a (n x p) matrix of MVN random samples\n",
        "rmvnorm_eigen <- function(n, mu, Sigma){\n",
        "  p = length(mu)\n",
        "  eig_res = eigen(Sigma)  ## perform eigen-decomposition\n",
        "  lambda = eig_res$value \n",
        "  V = eig_res$vectors\n",
        "  Z <- matrix(rnorm(n*p,sd=sqrt(lambda)),nrow=p,ncol=n) ## make Z to have different variance based on eigenvalues\n",
        "  X <- mu + V %*% Z  ## and multiply eigenvectors\n",
        "  return(t(X))\n",
        "}"
      ],
      "execution_count": 12,
      "outputs": []
    },
    {
      "cell_type": "markdown",
      "source": [
        "Which method do you think it will be faster and accurate?\n",
        "\n",
        "Let's simulate 5,000 sets of 1,000-dimensional MVN random variables"
      ],
      "metadata": {
        "id": "vq9uoYox2Fze"
      }
    },
    {
      "cell_type": "code",
      "metadata": {
        "id": "RlgfBTA8hq15"
      },
      "source": [
        "p <- 1000   ## Each MVN sample has 1,000 dimension\n",
        "m <- rep(1,length=p)  ## mean is 1\n",
        "rho <- 0.5  ## variance 1, off-diagnonal covariance 0.5\n",
        "V <- matrix(rho,nrow=p,ncol=p)+(1-rho)*diag(p)\n",
        "n <- 5000   ## 5,000 replicates"
      ],
      "execution_count": 13,
      "outputs": []
    },
    {
      "cell_type": "code",
      "metadata": {
        "id": "FjvKiWIFhsg6",
        "outputId": "9131e5ac-78eb-4170-86ba-d8dc7540980d",
        "colab": {
          "base_uri": "https://localhost:8080/",
          "height": 88
        }
      },
      "source": [
        "## compare Cholesky decomposition and Eigen-decomposition\n",
        "system.time(x_chol <- rmvnorm_chol(n,mu = m, Sigma=V))\n",
        "system.time(x_eigen <- rmvnorm_eigen(n,mu = m, Sigma=V))"
      ],
      "execution_count": 14,
      "outputs": [
        {
          "output_type": "display_data",
          "data": {
            "text/plain": [
              "   user  system elapsed \n",
              "  1.381   0.092   2.177 "
            ]
          },
          "metadata": {}
        },
        {
          "output_type": "display_data",
          "data": {
            "text/plain": [
              "   user  system elapsed \n",
              "  1.880   0.079   2.897 "
            ]
          },
          "metadata": {}
        }
      ]
    },
    {
      "cell_type": "code",
      "source": [
        "## evaluate the covariance matrix from Cholesky decomposition\n",
        "V = cov(x_chol)\n",
        "print(summary(diag(V)))\n",
        "print(summary(V[upper.tri(V)]))"
      ],
      "metadata": {
        "id": "LvXH5Dmb2qsl",
        "outputId": "27600af0-04b8-44b7-b0c9-07eba12fc407",
        "colab": {
          "base_uri": "https://localhost:8080/"
        }
      },
      "execution_count": 15,
      "outputs": [
        {
          "output_type": "stream",
          "name": "stdout",
          "text": [
            "   Min. 1st Qu.  Median    Mean 3rd Qu.    Max. \n",
            " 0.9252  0.9741  0.9851  0.9851  0.9963  1.0435 \n",
            "   Min. 1st Qu.  Median    Mean 3rd Qu.    Max. \n",
            " 0.4269  0.4765  0.4845  0.4845  0.4925  0.5383 \n"
          ]
        }
      ]
    },
    {
      "cell_type": "code",
      "source": [
        "## evaluate the covariance matrix from Eigen decomposition\n",
        "V = cov(x_eigen)\n",
        "print(summary(diag(V)))\n",
        "print(summary(V[upper.tri(V)]))"
      ],
      "metadata": {
        "id": "f7A30SzM4uMx",
        "outputId": "1d007a74-c594-423c-f1cd-55c7571696e6",
        "colab": {
          "base_uri": "https://localhost:8080/"
        }
      },
      "execution_count": 16,
      "outputs": [
        {
          "output_type": "stream",
          "name": "stdout",
          "text": [
            "   Min. 1st Qu.  Median    Mean 3rd Qu.    Max. \n",
            " 0.9358  0.9836  0.9954  0.9955  1.0072  1.0510 \n",
            "   Min. 1st Qu.  Median    Mean 3rd Qu.    Max. \n",
            " 0.4320  0.4872  0.4954  0.4954  0.5036  0.5540 \n"
          ]
        }
      ]
    },
    {
      "cell_type": "markdown",
      "source": [
        "In this particular case where all off-diagnoal elements have the same covariance, perhaps the fastest way to achieve it is to generate a ***shared*** random variable with variance $\\rho$ and ***independent*** random variables with variance $1-\\rho$ and simply adding them together."
      ],
      "metadata": {
        "id": "-bkzFr6k5f80"
      }
    },
    {
      "cell_type": "code",
      "metadata": {
        "id": "6TI6JmjehpAG"
      },
      "source": [
        "# sample a multivariate normal distribution with symmetic positive correlation\n",
        "rmvnorm_sym_pos_corr <- function(n, p, rho = 0.5, \n",
        "                                 mu = rep(0,length=p),\n",
        "                                 sigma=rep(1,length=p)){\n",
        "  Z = matrix(rnorm(n,sd=sqrt(rho)),nrow=p,ncol=n,byrow=TRUE)\n",
        "  X = matrix(rnorm(n*p,sd=sqrt(1-rho)),nrow=p,ncol=n) + Z\n",
        "  X = mu + sigma*X\n",
        "  return(t(X))\n",
        "}"
      ],
      "execution_count": 17,
      "outputs": []
    },
    {
      "cell_type": "code",
      "metadata": {
        "id": "lRYkJ9YNhuOv",
        "outputId": "a7cf3b22-989f-4ce9-8ffd-4841d829c82c",
        "colab": {
          "base_uri": "https://localhost:8080/",
          "height": 53
        }
      },
      "source": [
        "system.time(x_sym <- rmvnorm_sym_pos_corr(n,p=p,rho=0.5,mu=m))"
      ],
      "execution_count": 18,
      "outputs": [
        {
          "output_type": "display_data",
          "data": {
            "text/plain": [
              "   user  system elapsed \n",
              "  0.784   0.034   0.914 "
            ]
          },
          "metadata": {}
        }
      ]
    },
    {
      "cell_type": "code",
      "source": [
        "## evaluate the covariance matrix from fast heuristic\n",
        "V = cov(x_sym)\n",
        "print(summary(diag(V)))\n",
        "print(summary(V[upper.tri(V)]))"
      ],
      "metadata": {
        "id": "DXGfORbM3zmN",
        "outputId": "91edc27b-5d2e-4b68-f31d-2d58aba756cb",
        "colab": {
          "base_uri": "https://localhost:8080/"
        }
      },
      "execution_count": 19,
      "outputs": [
        {
          "output_type": "stream",
          "name": "stdout",
          "text": [
            "   Min. 1st Qu.  Median    Mean 3rd Qu.    Max. \n",
            " 0.9575  1.0054  1.0171  1.0168  1.0288  1.0833 \n",
            "   Min. 1st Qu.  Median    Mean 3rd Qu.    Max. \n",
            " 0.4610  0.5082  0.5166  0.5166  0.5250  0.5728 \n"
          ]
        }
      ]
    },
    {
      "cell_type": "markdown",
      "source": [
        "Finally, we can use known packages such as `mvtnorm()` to simulate from MVN."
      ],
      "metadata": {
        "id": "Num4l2CI6TOj"
      }
    },
    {
      "cell_type": "code",
      "source": [
        "install.packages(\"mvtnorm\")\n",
        "library(mvtnorm)\n",
        "system.time(x_package <- mvtnorm::rmvnorm(n,mean=m,sigma=V))"
      ],
      "metadata": {
        "id": "YlkF5QvH5jSx",
        "outputId": "dcb2239f-1484-4fe7-8046-09d23f7835f8",
        "colab": {
          "base_uri": "https://localhost:8080/",
          "height": 106
        }
      },
      "execution_count": 20,
      "outputs": [
        {
          "output_type": "stream",
          "name": "stderr",
          "text": [
            "Installing package into ‘/usr/local/lib/R/site-library’\n",
            "(as ‘lib’ is unspecified)\n",
            "\n"
          ]
        },
        {
          "output_type": "display_data",
          "data": {
            "text/plain": [
              "   user  system elapsed \n",
              "  1.280   0.076   1.356 "
            ]
          },
          "metadata": {}
        }
      ]
    },
    {
      "cell_type": "code",
      "source": [
        "## evaluate the covariance matrix from mvtnorm() package\n",
        "V = cov(x_package)\n",
        "print(summary(diag(V)))\n",
        "print(summary(V[upper.tri(V)]))"
      ],
      "metadata": {
        "id": "zvRzc4gD33Xl",
        "outputId": "c62b52a1-19c0-435e-c828-da74a054ab98",
        "colab": {
          "base_uri": "https://localhost:8080/"
        }
      },
      "execution_count": 21,
      "outputs": [
        {
          "output_type": "stream",
          "name": "stdout",
          "text": [
            "   Min. 1st Qu.  Median    Mean 3rd Qu.    Max. \n",
            " 0.9423  0.9969  1.0123  1.0127  1.0284  1.0919 \n",
            "   Min. 1st Qu.  Median    Mean 3rd Qu.    Max. \n",
            " 0.4360  0.5010  0.5126  0.5128  0.5243  0.5930 \n"
          ]
        }
      ]
    }
  ]
}