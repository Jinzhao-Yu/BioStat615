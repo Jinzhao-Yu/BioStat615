{
  "nbformat": 4,
  "nbformat_minor": 0,
  "metadata": {
    "colab": {
      "name": "BIOSTAT615 Lecture 2 - Fall 2022.ipynb",
      "provenance": [],
      "collapsed_sections": [],
      "include_colab_link": true
    },
    "kernelspec": {
      "name": "ir",
      "display_name": "R"
    },
    "language_info": {
      "name": "R"
    }
  },
  "cells": [
    {
      "cell_type": "markdown",
      "metadata": {
        "id": "view-in-github",
        "colab_type": "text"
      },
      "source": [
        "<a href=\"https://colab.research.google.com/github/Jinzhao-Yu/BioStat615/blob/main/BIOSTAT615_Lecture_2_Fall_2022.ipynb\" target=\"_parent\"><img src=\"https://colab.research.google.com/assets/colab-badge.svg\" alt=\"Open In Colab\"/></a>"
      ]
    },
    {
      "cell_type": "markdown",
      "metadata": {
        "id": "CsA81DZ9fzt2"
      },
      "source": [
        "# BIOSTAT615 Lecture 2"
      ]
    },
    {
      "cell_type": "markdown",
      "metadata": {
        "id": "VbYFK_ZRf7jq"
      },
      "source": [
        "## 1. Examples of relative errors"
      ]
    },
    {
      "cell_type": "code",
      "metadata": {
        "id": "Pij6iJeOfXq8",
        "outputId": "201ca489-8997-4882-e21f-bcd6c4a8e8c7",
        "colab": {
          "base_uri": "https://localhost:8080/",
          "height": 52
        }
      },
      "source": [
        "## aren't the two below the same?\n",
        "20.55 - 19.2 - 1.35\n",
        "20.55 - 1.35 - 19.2"
      ],
      "execution_count": 1,
      "outputs": [
        {
          "output_type": "display_data",
          "data": {
            "text/html": [
              "1.33226762955019e-15"
            ],
            "text/markdown": "1.33226762955019e-15",
            "text/latex": "1.33226762955019e-15",
            "text/plain": [
              "[1] 1.332268e-15"
            ]
          },
          "metadata": {}
        },
        {
          "output_type": "display_data",
          "data": {
            "text/html": [
              "0"
            ],
            "text/markdown": "0",
            "text/latex": "0",
            "text/plain": [
              "[1] 0"
            ]
          },
          "metadata": {}
        }
      ]
    },
    {
      "cell_type": "code",
      "source": [
        "## double.neg.eps is the smallest number that satisfies 1 - x != 1\n",
        "print(.Machine$double.neg.eps)"
      ],
      "metadata": {
        "id": "p6EEeafrpUVd",
        "outputId": "4e81e68a-a9cd-444a-e5f5-222eea5f0384",
        "colab": {
          "base_uri": "https://localhost:8080/"
        }
      },
      "execution_count": 2,
      "outputs": [
        {
          "output_type": "stream",
          "name": "stdout",
          "text": [
            "[1] 1.110223e-16\n"
          ]
        }
      ]
    },
    {
      "cell_type": "code",
      "metadata": {
        "id": "VP-ORKnm7wsl",
        "outputId": "b0a89d81-72d9-420e-f71e-6b3cf502e55d",
        "colab": {
          "base_uri": "https://localhost:8080/"
        }
      },
      "source": [
        "print(1 - .Machine$double.neg.eps, digits = 20)"
      ],
      "execution_count": 3,
      "outputs": [
        {
          "output_type": "stream",
          "name": "stdout",
          "text": [
            "[1] 0.99999999999999988898\n"
          ]
        }
      ]
    },
    {
      "cell_type": "code",
      "source": [
        "print(1 - .Machine$double.neg.eps * 2, digits = 20)"
      ],
      "metadata": {
        "id": "SOqxe7mjp0ua",
        "outputId": "3a48a437-8e3c-45be-9ddd-b0f43530ad07",
        "colab": {
          "base_uri": "https://localhost:8080/"
        }
      },
      "execution_count": 4,
      "outputs": [
        {
          "output_type": "stream",
          "name": "stdout",
          "text": [
            "[1] 0.99999999999999977796\n"
          ]
        }
      ]
    },
    {
      "cell_type": "code",
      "source": [
        "print(1 - .Machine$double.neg.eps / 2, digits = 20)"
      ],
      "metadata": {
        "id": "Rd4a95Wvp02b",
        "outputId": "ae35b74f-1cbf-4b1e-f373-dbb409d2d40c",
        "colab": {
          "base_uri": "https://localhost:8080/"
        }
      },
      "execution_count": 5,
      "outputs": [
        {
          "output_type": "stream",
          "name": "stdout",
          "text": [
            "[1] 1\n"
          ]
        }
      ]
    },
    {
      "cell_type": "markdown",
      "metadata": {
        "id": "A-DaXvlvhGrZ"
      },
      "source": [
        "## 2. Effect of order of addition"
      ]
    },
    {
      "cell_type": "code",
      "metadata": {
        "id": "tEQO3Lu9g3DM",
        "outputId": "678228be-369e-4208-fc85-a61308a9081e",
        "colab": {
          "base_uri": "https://localhost:8080/",
          "height": 272
        }
      },
      "source": [
        "## repeat three numbers 10M times in different orders\n",
        "y1 = rep(c(1.35,19.2,-20.55),length = 3e7)\n",
        "y2 = rep(c(1.35,19.2,-20.55),each = 1e7)\n",
        "head(cbind(y1,y2))"
      ],
      "execution_count": 6,
      "outputs": [
        {
          "output_type": "display_data",
          "data": {
            "text/html": [
              "<table class=\"dataframe\">\n",
              "<caption>A matrix: 6 × 2 of type dbl</caption>\n",
              "<thead>\n",
              "\t<tr><th scope=col>y1</th><th scope=col>y2</th></tr>\n",
              "</thead>\n",
              "<tbody>\n",
              "\t<tr><td>  1.35</td><td>1.35</td></tr>\n",
              "\t<tr><td> 19.20</td><td>1.35</td></tr>\n",
              "\t<tr><td>-20.55</td><td>1.35</td></tr>\n",
              "\t<tr><td>  1.35</td><td>1.35</td></tr>\n",
              "\t<tr><td> 19.20</td><td>1.35</td></tr>\n",
              "\t<tr><td>-20.55</td><td>1.35</td></tr>\n",
              "</tbody>\n",
              "</table>\n"
            ],
            "text/markdown": "\nA matrix: 6 × 2 of type dbl\n\n| y1 | y2 |\n|---|---|\n|   1.35 | 1.35 |\n|  19.20 | 1.35 |\n| -20.55 | 1.35 |\n|   1.35 | 1.35 |\n|  19.20 | 1.35 |\n| -20.55 | 1.35 |\n\n",
            "text/latex": "A matrix: 6 × 2 of type dbl\n\\begin{tabular}{ll}\n y1 & y2\\\\\n\\hline\n\t   1.35 & 1.35\\\\\n\t  19.20 & 1.35\\\\\n\t -20.55 & 1.35\\\\\n\t   1.35 & 1.35\\\\\n\t  19.20 & 1.35\\\\\n\t -20.55 & 1.35\\\\\n\\end{tabular}\n",
            "text/plain": [
              "     y1     y2  \n",
              "[1,]   1.35 1.35\n",
              "[2,]  19.20 1.35\n",
              "[3,] -20.55 1.35\n",
              "[4,]   1.35 1.35\n",
              "[5,]  19.20 1.35\n",
              "[6,] -20.55 1.35"
            ]
          },
          "metadata": {}
        }
      ]
    },
    {
      "cell_type": "code",
      "metadata": {
        "id": "Xyl2Pbpek3V5",
        "outputId": "1a6cfa48-bb9b-49d4-d77c-500512c26331",
        "colab": {
          "base_uri": "https://localhost:8080/"
        }
      },
      "source": [
        "## use matrix operation for summation with interlaced order\n",
        "print(as.numeric(y1%*%rep(1,length=3e7)),digits=20)"
      ],
      "execution_count": 7,
      "outputs": [
        {
          "output_type": "stream",
          "name": "stdout",
          "text": [
            "[1] 0\n"
          ]
        }
      ]
    },
    {
      "cell_type": "code",
      "source": [
        "## use sum() function for summation with interlaced order\n",
        "print(sum(y1),digits=20)"
      ],
      "metadata": {
        "id": "v9nT7wKArmmx",
        "outputId": "9f2b47f7-5ce2-44c9-a87c-020cbfb5a2bd",
        "colab": {
          "base_uri": "https://localhost:8080/"
        }
      },
      "execution_count": 8,
      "outputs": [
        {
          "output_type": "stream",
          "name": "stdout",
          "text": [
            "[1] -1.3322676295501878485e-08\n"
          ]
        }
      ]
    },
    {
      "cell_type": "code",
      "source": [
        "## use matrix operation for summation with clustered order\n",
        "print(as.numeric(y2%*%rep(1,length=3e7)),digits=20)"
      ],
      "metadata": {
        "id": "A9RDxVHZrcYw",
        "outputId": "778e9083-a4f6-48f3-df59-e5e3068c79b0",
        "colab": {
          "base_uri": "https://localhost:8080/"
        }
      },
      "execution_count": 9,
      "outputs": [
        {
          "output_type": "stream",
          "name": "stdout",
          "text": [
            "[1] 0.014846327731135033901\n"
          ]
        }
      ]
    },
    {
      "cell_type": "code",
      "source": [
        "## use sum() function for summation with clustered order\n",
        "print(sum(y2),digits=20)"
      ],
      "metadata": {
        "id": "c-HedLrArnav",
        "outputId": "0dce7b5a-4bfb-44a6-c524-1fba22028e5e",
        "colab": {
          "base_uri": "https://localhost:8080/"
        }
      },
      "execution_count": 10,
      "outputs": [
        {
          "output_type": "stream",
          "name": "stdout",
          "text": [
            "[1] -3.6045216354807507741e-05\n"
          ]
        }
      ]
    },
    {
      "cell_type": "markdown",
      "source": [
        "**Question** Can you explain why the clustered order show higher relative errors than the interlaced order?"
      ],
      "metadata": {
        "id": "SKVUVew3sI8d"
      }
    },
    {
      "cell_type": "markdown",
      "metadata": {
        "id": "niCT3ergl3fk"
      },
      "source": [
        "## 3. Basic quadratic solver"
      ]
    },
    {
      "cell_type": "code",
      "metadata": {
        "id": "tC10ge2VhYw3"
      },
      "source": [
        "## quadratic function\n",
        "##   evaluates f(x) = b0 + b1*x + b2*x*x\n",
        "##   this function will be used to evaluate quadratic solution\n",
        "quadratic.fun = function(x,b2,b1,b0) {\n",
        "  y = x*b2 + b1\n",
        "  y = y*x + b0\n",
        "  return(y)\n",
        "}"
      ],
      "execution_count": null,
      "outputs": []
    },
    {
      "cell_type": "code",
      "metadata": {
        "id": "X1G1qLoDlmQg"
      },
      "source": [
        "## naive quadratic solver\n",
        "quadratic.solve.1 = function (b2 , b1 , b0) {\n",
        "  t1 = sqrt (b1 ^2 - 4 * b2 * b0)\n",
        "  t2 = 2 * b2\n",
        "  x1 = - (b1 + t1) / t2\n",
        "  x2 = - (b1 - t1) / t2\n",
        "  return (c(x1 , x2))\n",
        "}"
      ],
      "execution_count": null,
      "outputs": []
    },
    {
      "cell_type": "code",
      "source": [
        "## test - solve f(x) = (x-1)(x-2) = x*x - 3*x + 2 = 0\n",
        "b2 = 1; b1 = -3; b0 = 2 ## (x-1)(x-2)=0\n",
        "## solve the equation and save it to x1 \n",
        "print(x1 <- quadratic.solve.1(b2,b1,b0))"
      ],
      "metadata": {
        "id": "nJJLoZPptSN0"
      },
      "execution_count": null,
      "outputs": []
    },
    {
      "cell_type": "code",
      "metadata": {
        "id": "p-Z_Bbzel9Nv"
      },
      "source": [
        "## verify the solution\n",
        "print(quadratic.fun(x1,b2,b1,b0))"
      ],
      "execution_count": null,
      "outputs": []
    },
    {
      "cell_type": "markdown",
      "metadata": {
        "id": "n2Rfl20Ll6xF"
      },
      "source": [
        "## 4. Corner cases for naive quadratic solver\n",
        "\n"
      ]
    },
    {
      "cell_type": "code",
      "metadata": {
        "id": "Dwad_PedhcAQ"
      },
      "source": [
        "b2 = 1234567890123\n",
        "b1 = -11111111103333\n",
        "b0 = 9876543213210\n",
        "## b0 + b1 + b2 == 0 means x=1 is a solution\n",
        "## because b0 + b1*x + b2*x*x == 0\n",
        "print(b0 + b1 + b2)"
      ],
      "execution_count": null,
      "outputs": []
    },
    {
      "cell_type": "code",
      "metadata": {
        "id": "PIytI5m7mbjy"
      },
      "source": [
        "## run the naive solver\n",
        "print(x1 <- quadratic.solve.1(b2,b1,b0),digits=20)\n",
        "## do you see x=1 as a solution?"
      ],
      "execution_count": null,
      "outputs": []
    },
    {
      "cell_type": "code",
      "source": [
        "## verify the solution\n",
        "print(quadratic.fun(x1,b2,b1,b0))\n",
        "## what do you expect to see?"
      ],
      "metadata": {
        "id": "fYk7LS0juP7B"
      },
      "execution_count": null,
      "outputs": []
    },
    {
      "cell_type": "code",
      "metadata": {
        "id": "rLG1J7mkmjLi"
      },
      "source": [
        "## verify the solution\n",
        "print(quadratic.fun(1,b2,b1,b0))\n",
        "## what do you expect to see?"
      ],
      "execution_count": null,
      "outputs": []
    },
    {
      "cell_type": "markdown",
      "source": [
        "## 5. A better quadratic solver?"
      ],
      "metadata": {
        "id": "sAYWSGoEvgkQ"
      }
    },
    {
      "cell_type": "code",
      "metadata": {
        "id": "Rkk9CEOOscCO"
      },
      "source": [
        "## a better quadratic solver?\n",
        "quadratic.solve.2 = function (b2 , b1 , b0) {\n",
        "  delta = sqrt (b1 ^2 - 4 * b2 * b0)\n",
        "  x1 = ifelse(b1 > 0, (- b1 - delta)/(2*b2), (-b1+delta)/(2*b2) )\n",
        "  x2 = b0/(b2*x1)\n",
        "  return (c(x1 , x2))\n",
        "}"
      ],
      "execution_count": null,
      "outputs": []
    },
    {
      "cell_type": "code",
      "metadata": {
        "id": "oYLXkzQotDQT"
      },
      "source": [
        "## run the naive solver\n",
        "print(x1 <- quadratic.solve.2(b2,b1,b0), digits=20)\n",
        "## verify the solution\n",
        "print(quadratic.fun(x1,b2,b1,b0))\n",
        "## what does the results mean??"
      ],
      "execution_count": null,
      "outputs": []
    },
    {
      "cell_type": "markdown",
      "metadata": {
        "id": "6punwqGj4LFg"
      },
      "source": [
        "## 6. Trickier examples for quadratic solver"
      ]
    },
    {
      "cell_type": "code",
      "metadata": {
        "id": "bos1fUF9tGPb"
      },
      "source": [
        "b0 = 1\n",
        "b1 = -1234567890\n",
        "b2 = 1\n",
        "print(x1 <- quadratic.solve.1(b2,b1,b0),digits=20)\n",
        "## verify the solution\n",
        "print(quadratic.fun(x1,b2,b1,b0))"
      ],
      "execution_count": null,
      "outputs": []
    },
    {
      "cell_type": "code",
      "metadata": {
        "id": "vB9vIG9lH4OF"
      },
      "source": [
        "print(x2 <- quadratic.solve.2(b2,b1,b0),digits=20)\n",
        "## verify the solution\n",
        "print(quadratic.fun(x2,b2,b1,b0))\n",
        "print(sort(x1)-sort(x2),digits=20)"
      ],
      "execution_count": null,
      "outputs": []
    },
    {
      "cell_type": "markdown",
      "source": [
        "Based on these results, can you justify which solver is better than the other?"
      ],
      "metadata": {
        "id": "mdmBAq1UeZfk"
      }
    },
    {
      "cell_type": "markdown",
      "metadata": {
        "id": "PLQso4RN4QRI"
      },
      "source": [
        "## 7. Reading from a file stream"
      ]
    },
    {
      "cell_type": "markdown",
      "source": [
        "Consider a situation where the input data is read via _streaming_. \n",
        "\n",
        "Instead of storing the data into memory, each value was read individually and deleted from the memory afterwards.\n",
        "\n",
        "This activity is typically done when reading from a large file (without blowing up the memory). \n",
        "\n",
        "We will create a file, using `system()` function and `seq` UNIX command."
      ],
      "metadata": {
        "id": "vlP9FfLTBmdF"
      }
    },
    {
      "cell_type": "code",
      "source": [
        "## You can use system() to run arbitrary code.\n",
        "## Note that this command may not work if you run locally in Windows OS\n",
        "\n",
        "## run command \"seq 0 5\" in the server and store its output into a file named \"seq.0_5.txt\"\n",
        "system(\"seq 0 5 > seq.0_5.txt\")\n",
        "\n",
        "## run command \"seq 100 105\" in the server and store its output into a file named \"seq.100_105.txt\"\n",
        "system(\"seq 100 105 > seq.100_105.txt\")"
      ],
      "metadata": {
        "id": "HZIz6MtDF_d9"
      },
      "execution_count": null,
      "outputs": []
    },
    {
      "cell_type": "code",
      "metadata": {
        "id": "zaRrR25q59gW"
      },
      "source": [
        "## Examine the contents of the file \"seq.0_5.txt\"\n",
        "x = read.table(\"seq.0_5.txt\")\n",
        "print(x)"
      ],
      "execution_count": null,
      "outputs": []
    },
    {
      "cell_type": "code",
      "metadata": {
        "id": "4tG4hsiF6JUD"
      },
      "source": [
        "## Examine the contents of the file \"seq.0_5.txt\"\n",
        "x = read.table(\"seq.100_105.txt\")\n",
        "print(x)"
      ],
      "execution_count": null,
      "outputs": []
    },
    {
      "cell_type": "markdown",
      "source": [
        "You can create a file handle using `file()` function\n",
        "\n",
        "You can read from a file handle line by line using `readLines()` function"
      ],
      "metadata": {
        "id": "fY0-MJIvWf0k"
      }
    },
    {
      "cell_type": "code",
      "source": [
        "## create a file handle\n",
        "fs = file(\"seq.100_105.txt\",\"rt\")\n",
        "\n",
        "## read one line\n",
        "readLines(fs,n=1)"
      ],
      "metadata": {
        "id": "97eePXm2LCE5"
      },
      "execution_count": null,
      "outputs": []
    },
    {
      "cell_type": "code",
      "source": [
        "## read another line subsequently\n",
        "readLines(fs,n=1)"
      ],
      "metadata": {
        "id": "IQpd2SNfMJ8M"
      },
      "execution_count": null,
      "outputs": []
    },
    {
      "cell_type": "markdown",
      "source": [
        "We will define a function `read.a.double()`, which read one line from a filehandle and returns a numeric value."
      ],
      "metadata": {
        "id": "FGtPL8K7W3x6"
      }
    },
    {
      "cell_type": "code",
      "source": [
        "#' Read one line from a file handle and returns a numeric number\n",
        "#' @param con - Input file handle\n",
        "#' @return one numeric value from a single line of filehandle\n",
        "#'         or NULL if reached EOF (i.e. end-of-file)\n",
        "read.a.double = function (con) {\n",
        "  x <- readLines(con,n=1) ## read one line\n",
        "  if ( length(x) == 0 ) { ## if empty, return NULL\n",
        "    return(NULL)\n",
        "  } else { ## otherwise, parse to numeric\n",
        "    return(as.double(x))\n",
        "  }\n",
        "}"
      ],
      "metadata": {
        "id": "CFJwkeTaLAK4"
      },
      "execution_count": null,
      "outputs": []
    },
    {
      "cell_type": "code",
      "source": [
        "fs = file(\"seq.100_105.txt\",\"rt\")\n",
        "read.a.double(fs)"
      ],
      "metadata": {
        "id": "dnavP2jZLSGA"
      },
      "execution_count": null,
      "outputs": []
    },
    {
      "cell_type": "code",
      "source": [
        "read.a.double(fs)"
      ],
      "metadata": {
        "id": "fBF8ReX0MPTE"
      },
      "execution_count": null,
      "outputs": []
    },
    {
      "cell_type": "markdown",
      "metadata": {
        "id": "5GgG8w2lIAba"
      },
      "source": [
        "## 8. Calculating average from a stream"
      ]
    },
    {
      "cell_type": "code",
      "source": [
        "## create more example files, ~1M lines each.\n",
        "system(\"seq 0 1000000 > seq.0_1000000.txt\")\n",
        "system(\"seq 100000000 101000000 > seq.100000000_101000000.txt\")"
      ],
      "metadata": {
        "id": "Bn-T5spzMu3U"
      },
      "execution_count": null,
      "outputs": []
    },
    {
      "cell_type": "code",
      "metadata": {
        "id": "dO6CptbQu1pm"
      },
      "source": [
        "#' Calculate average from a file stream\n",
        "#' @param fs - file handle\n",
        "#' @return the average across all input lines, streaming one line at a time\n",
        "streamed.avg = function(fs) {\n",
        "  n.x = 0     ## number of observations\n",
        "  sum.x = 0   ## sum of all values\n",
        "  while(!is.null(x <- read.a.double(fs))) {\n",
        "    n.x = n.x + 1\n",
        "    sum.x = sum.x + x \n",
        "  }\n",
        "  close(fs)\n",
        "  return(sum.x/n.x)\n",
        "}"
      ],
      "execution_count": null,
      "outputs": []
    },
    {
      "cell_type": "code",
      "metadata": {
        "id": "JaO9bPE3uZiR"
      },
      "source": [
        "## calculate a mean of 0, 1, ..., 1000000\n",
        "f = file(\"seq.0_1000000.txt\",\"rt\")\n",
        "print(streamed.avg(f), digits=20)"
      ],
      "execution_count": null,
      "outputs": []
    },
    {
      "cell_type": "markdown",
      "metadata": {
        "id": "GzaDH2RmIFJH"
      },
      "source": [
        "## 9. One-pass algorithm for variance"
      ]
    },
    {
      "cell_type": "code",
      "metadata": {
        "id": "44MjlLhMurNF"
      },
      "source": [
        "#' one pass algorithm to calculate mean and variance\n",
        "#' @param fs - input file stream\n",
        "#' @return A list containing two atributes\n",
        "#'    * avg - average across all observations\n",
        "#'    * sd - sample standard deviation across all observations\n",
        "one.pass.avg.sd = function(fs) {\n",
        "  n.x = 0     # number of observations\n",
        "  sum.x = 0   # sum of observations\n",
        "  ssq.x = 0   # sum of squares of observations\n",
        "  while(!is.null(x <- read.a.double(fs))) {\n",
        "    n.x = n.x + 1\n",
        "    sum.x = sum.x + x\n",
        "    ssq.x = ssq.x + x*x\n",
        "  }\n",
        "  ## returns the output\n",
        "  avg.x = sum.x / n.x\n",
        "  var.x = (ssq.x - sum.x * sum.x / n.x)/(n.x - 1)\n",
        "  return(list(avg=avg.x,sd=sqrt(var.x)))\n",
        "}"
      ],
      "execution_count": null,
      "outputs": []
    },
    {
      "cell_type": "code",
      "metadata": {
        "id": "grp9zDHk0UsK"
      },
      "source": [
        "## Take the first example file and calculate mean/sd\n",
        "f = file(\"seq.0_1000000.txt\",\"rt\")\n",
        "print(one.pass.avg.sd(f), digits=20)\n",
        "close(f)"
      ],
      "execution_count": null,
      "outputs": []
    },
    {
      "cell_type": "code",
      "metadata": {
        "id": "gkB4DCe00gsy"
      },
      "source": [
        "## Take the second example file and calculate mean/sd\n",
        "f = file(\"seq.100000000_101000000.txt\",\"rt\") \n",
        "print(one.pass.avg.sd(f), digits=20)\n",
        "close(f)"
      ],
      "execution_count": null,
      "outputs": []
    },
    {
      "cell_type": "markdown",
      "source": [
        "Are the two standard deviations the above examples the same? If not, why?"
      ],
      "metadata": {
        "id": "oD-EUKMeaRN7"
      }
    },
    {
      "cell_type": "code",
      "metadata": {
        "id": "87IjKksr09qK"
      },
      "source": [
        "## sanity checking - does the same thing happens with the standard sd() function\n",
        "print(sd(0:1000000),digits=20)\n",
        "print(sd(100000000:101000000),digits=20)"
      ],
      "execution_count": null,
      "outputs": []
    },
    {
      "cell_type": "markdown",
      "metadata": {
        "id": "t923MLmkIMtR"
      },
      "source": [
        "## 10. West algorithm"
      ]
    },
    {
      "cell_type": "code",
      "metadata": {
        "id": "whrVEEVx1nNw"
      },
      "source": [
        "#' west algorithm to calculate mean and variance\n",
        "#' @param fs - input file stream\n",
        "#' @return A list containing two atributes\n",
        "#'    * avg - average across all observations\n",
        "#'    * sd - sample standard deviation across all observations\n",
        "west.avg.sd = function(fs) {\n",
        "  n.x = 0\n",
        "  avg.x = 0\n",
        "  var.x = 0\n",
        "  while(!is.null(x <- read.a.double(f))) {\n",
        "    n.x = n.x + 1\n",
        "    x.diff = (x - avg.x)\n",
        "    var.x = var.x + (n.x-1) / n.x * x.diff * x.diff\n",
        "    avg.x = avg.x + x.diff / n.x\n",
        "  }\n",
        "  var.x = var.x/(n.x - 1)\n",
        "  return(list(avg=avg.x,sd=sqrt(var.x)))\n",
        "}"
      ],
      "execution_count": null,
      "outputs": []
    },
    {
      "cell_type": "code",
      "metadata": {
        "id": "NduMo2gR31-A"
      },
      "source": [
        "## Take the first example file and calculate mean/sd\n",
        "f = file(\"seq.0_1000000.txt\",\"rt\") \n",
        "print(west.avg.sd(f), digits=20)\n",
        "close(f)"
      ],
      "execution_count": null,
      "outputs": []
    },
    {
      "cell_type": "code",
      "metadata": {
        "id": "hyHNWr_L33vr"
      },
      "source": [
        "## Take the second example file and calculate mean/sd\n",
        "f = file(\"seq.100000000_101000000.txt\",\"rt\") \n",
        "print(west.avg.sd(f), digits=20)\n",
        "close(f)"
      ],
      "execution_count": null,
      "outputs": []
    }
  ]
}