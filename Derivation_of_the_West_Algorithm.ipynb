{
  "nbformat": 4,
  "nbformat_minor": 0,
  "metadata": {
    "colab": {
      "provenance": [],
      "collapsed_sections": [],
      "include_colab_link": true
    },
    "kernelspec": {
      "name": "ir",
      "display_name": "R"
    },
    "language_info": {
      "name": "R"
    }
  },
  "cells": [
    {
      "cell_type": "markdown",
      "metadata": {
        "id": "view-in-github",
        "colab_type": "text"
      },
      "source": [
        "<a href=\"https://colab.research.google.com/github/Jinzhao-Yu/BioStat615/blob/main/Derivation_of_the_West_Algorithm.ipynb\" target=\"_parent\"><img src=\"https://colab.research.google.com/assets/colab-badge.svg\" alt=\"Open In Colab\"/></a>"
      ]
    },
    {
      "cell_type": "markdown",
      "source": [
        "# A Derivation of the West Algorithm\n",
        "\n",
        "## Overview\n",
        "\n",
        "Define \n",
        "\n",
        "$$\\begin{array}{ll}\n",
        "\\overline{X}_n & = \\frac1n\\sum_{i=1}^n X_i \\\\\n",
        "A_n & = \\sum_{i=1}^n \\left(X_i - \\overline{X}_n\\right)^2 = \\sum_{i=1}^n X_i^2 - n\\overline{X}_n^2\n",
        "\\end{array}$$\n",
        "\n",
        "if we define $S_n^2$ as sample variance, it follows that $S_n^2= \\frac{A_n}{n-1}$."
      ],
      "metadata": {
        "id": "8wXGwQARs47t"
      }
    },
    {
      "cell_type": "markdown",
      "source": [
        "The core part of the West Algorithm is the following recursive formula:\n",
        "\n",
        "$$\\begin{array}{ll}\n",
        "\\overline{X}_n & = \\overline{X}_{n-1} + \\frac{1}{n}\\left(X_n - \\overline{X}_{n-1}\\right) \\\\\n",
        "A_n & = A_{n-1} + \\frac{n-1}{n}\\left(X_n - \\overline{X}_{n-1}\\right)^2\n",
        "\\end{array}$$"
      ],
      "metadata": {
        "id": "z74m0VApt2Wa"
      }
    },
    {
      "cell_type": "markdown",
      "source": [
        "## Proof for $\\overline{X}_n$\n",
        "\n",
        "First, let's prove:\n",
        "\n",
        "$$\\overline{X}_n = \\overline{X}_{n-1} + \\frac{1}{n}\\left(X_n - \\overline{X}_{n-1}\\right)$$\n",
        "\n",
        ", which is equivalent to \n",
        "\n",
        "$$n\\overline{X}_n = (n-1)\\overline{X}_{n-1} + X_n \\qquad \\textrm{(Eq. 1)}$$\n",
        "\n",
        "We have\n",
        "\n",
        "$$\\begin{array}{ll}\n",
        "n\\overline{X}_n & = \\sum_{i=1}^n X_i \\\\\n",
        "& = \\sum_{i=1}^{n-1} X_i + X_n \\\\\n",
        "& = (n-1)\\left[\\frac1{n-1}\\sum_{i=1}^{n-1} X_i\\right] + X_n \\\\\n",
        "& = (n-1)\\overline{X}_{n-1} + X_n \n",
        "\\end{array}$$\n",
        "\n",
        "therefore, it follows that\n",
        "\n",
        "$$\\overline{X}_n = \\overline{X}_{n-1} + \\frac{1}{n}\\left(X_n - \\overline{X}_{n-1}\\right)$$"
      ],
      "metadata": {
        "id": "_rOyoFkJvrh0"
      }
    },
    {
      "cell_type": "markdown",
      "source": [
        "## Derivation for $A_n$\n",
        "\n",
        "Next, let's try to derive the following equation from scratch\n",
        "\n",
        "$$A_n  = A_{n-1} + \\frac{n-1}{n}\\left(X_n - \\overline{X}_{n-1}\\right)^2$$"
      ],
      "metadata": {
        "id": "5XFwt8Mqw6th"
      }
    },
    {
      "cell_type": "markdown",
      "source": [
        "A possible strategy here is to represent $A_n-A_{n-1}$ only as a function of $X_n$ and $\\overline{X}_{n-1}$, using *Eq. 1* above."
      ],
      "metadata": {
        "id": "e1c0xrWzxHYJ"
      }
    },
    {
      "cell_type": "markdown",
      "source": [
        "$$\\begin{array}{ll}\n",
        "A_n - A_{n-1} & = \\left[\\sum_{i=1}^n X_i^2 - n\\overline{X}_n^2\\right] - \\left[\\sum_{i=1}^{n-1} X_i^2 - (n-1)\\overline{X}_{n-1}^2\\right] \\\\\n",
        "& = X_n^2 - n\\overline{X}_n^2 + (n-1)\\overline{X}_{n-1}^2 \\\\\n",
        "& = X_n^2 - \\frac1n\\left(n\\overline{X}_n\\right)^2 + (n-1)\\overline{X}_{n-1}^2 \n",
        "\\end{array}$$\n",
        "\n",
        "Using *Eq. 1*, we will replace $n\\overline{X}_n$ with $(n-1)\\overline{X}_{n-1} + X_n$"
      ],
      "metadata": {
        "id": "cV7F0QfBxt5h"
      }
    },
    {
      "cell_type": "markdown",
      "source": [
        "$$\\begin{array}{ll}\n",
        "A_n - A_{n-1} & = X_n^2 - \\frac1n\\left(n\\overline{X}_n\\right)^2 + (n-1)\\overline{X}_{n-1}^2 \\\\\n",
        "& = X_n^2 - \\frac1n\\left[(n-1)\\overline{X}_{n-1} + X_n\\right]^2 + (n-1)\\overline{X}_{n-1}^2 \\\\\n",
        "& = X_n^2 - \\frac1n\\left[(n-1)^2\\overline{X}_{n-1}^2 + 2(n-1)X_n\\overline{X}_{n-1} + X_n^2\\right] + (n-1)\\overline{X}_{n-1}^2 \\\\\n",
        "& = \\frac{n-1}{n}X_n^2 - \\frac{2(n-1)}{n}X_n\\overline{X}_{n-1} + \\frac{n(n-1)-(n-1)^2}{n}\\overline{X}_{n-1}^2 \\\\\n",
        "& = \\frac{n-1}{n}X_n^2 - \\frac{2(n-1)}{n}X_n\\overline{X}_{n-1} + \\frac{n-1}{n}\\overline{X}_{n-1}^2 \\\\\n",
        "& = \\frac{n-1}{n}\\left(X_n^2 - 2X_n\\overline{X}_{n-1} + \\overline{X}_{n-1}^2\\right) \\\\\n",
        "& = \\frac{n-1}{n}\\left(X_n-\\overline{X}_{n-1}\\right)^2\n",
        "\\end{array}$$\n",
        "\n",
        "Therefore, it follows that\n",
        "\n",
        "$$A_n = A_{n-1} + \\frac{n-1}{n}\\left(X_n-\\overline{X}_{n-1}\\right)^2$$"
      ],
      "metadata": {
        "id": "Mh85l5aDyobk"
      }
    }
  ]
}