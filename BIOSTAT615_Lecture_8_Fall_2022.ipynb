{
  "nbformat": 4,
  "nbformat_minor": 0,
  "metadata": {
    "colab": {
      "provenance": [],
      "include_colab_link": true
    },
    "kernelspec": {
      "name": "ir",
      "display_name": "R"
    },
    "language_info": {
      "name": "R"
    }
  },
  "cells": [
    {
      "cell_type": "markdown",
      "metadata": {
        "id": "view-in-github",
        "colab_type": "text"
      },
      "source": [
        "<a href=\"https://colab.research.google.com/github/Jinzhao-Yu/BioStat615/blob/main/BIOSTAT615_Lecture_8_Fall_2022.ipynb\" target=\"_parent\"><img src=\"https://colab.research.google.com/assets/colab-badge.svg\" alt=\"Open In Colab\"/></a>"
      ]
    },
    {
      "cell_type": "markdown",
      "metadata": {
        "id": "HV0ZjKn4MeQj"
      },
      "source": [
        "# BIOSTAT615 Lecture 8 - R"
      ]
    },
    {
      "cell_type": "markdown",
      "metadata": {
        "id": "9CvtpmPEMiaM"
      },
      "source": [
        "## 1. Recap - Golden section search - Full version"
      ]
    },
    {
      "cell_type": "code",
      "metadata": {
        "id": "Vc8EiUXecjWL"
      },
      "source": [
        "#' Full version of 1-dimensional golden search\n",
        "#'   Note that there are internal functions defined.\n",
        "#' @param f - Objective function to minimize\n",
        "#' @param x0 - initial point to start\n",
        "#' @param a0 - another initial point (to help find bracket)\n",
        "#' @param max_iter - maximum iteration\n",
        "#' @param tol - relative error\n",
        "#' @return A list containing the following attributes:\n",
        "#'    * minimum : x-coordinate of minima\n",
        "#'    * objective : f(minimum)\n",
        "#'    * convergence : 0 if convergend, 1 otherwise\n",
        "#'    * iter : number of iterations\n",
        "#'    * tol : the input tol parameter copied to output \n",
        "golden.search.1d <- function(f, x0, a0=NULL, max_iter = 1000, tol=1e-8, ...){\n",
        "  #' bracket() function\n",
        "  #' given two starting points, find intervals to bracket\n",
        "  bracket <- function(f, a0, b0, scale=1.618, max_iter=1000,...){\n",
        "    fa <- f(a0,...)\n",
        "    fb <- f(b0,...)\n",
        "    if(fa < fb){  ## ensure f(a) > f(b)\n",
        "      temp = b0; b0 = a0; a0 = temp\n",
        "      temp = fb; fb = fa; fa = temp\n",
        "    }\n",
        "    c0 <- b0 + scale*(b0 - a0)  ## find a new point\n",
        "    fc <- f(c0,...)\n",
        "    iter = 1\n",
        "    convergence = 0\n",
        "    while(fb > fc | fb > fa){   ## if f(b) is not smallest, keep searching\n",
        "      a0 <- b0; fa <- fb        ## assign (b0, c0) to new (a0, b0) \n",
        "      b0 <- c0; fb <- fc        \n",
        "      c0 <- b0 + scale*(b0 - a0) ## and find the new c0\n",
        "      fc <- f(c0,...)           ## evaluate the function\n",
        "      if( (iter > max_iter) || is.infinite(fc) || is.infinite(c0 )) { \n",
        "        convergence = 1\n",
        "        break\n",
        "      }\n",
        "      iter = iter+1\n",
        "    }\n",
        "    return(list(intervals=c(a0,b0,c0),f_intervals=c(fa,fb,fc),\n",
        "                iter=iter,convergence=convergence))\n",
        "  }\n",
        "\n",
        "  #' golden.step() function\n",
        "  #' identify the next x-cooridnate to evaluate\n",
        "  golden.step <- function(a0,b0,c0,gold=0.38196){\n",
        "    mid = (a0+c0)*0.5\n",
        "    if(b0 > mid){\n",
        "      return(gold*(a0-b0))\n",
        "    } else {\n",
        "      return(gold*(c0-b0))\n",
        "    }\n",
        "  }\n",
        "  \n",
        "  # initialization find the initial value to start\n",
        "  if(is.null(a0)){\n",
        "    a0 = x0 - 100\n",
        "  }\n",
        "  initial <- bracket(f,a0,x0,...) ## bracket\n",
        "  if(initial$convergence==1){\n",
        "    stop(\"Fail to find good initial values!\")\n",
        "  }\n",
        "  a0 = initial$intervals[1]\n",
        "  b0 = initial$intervals[2]\n",
        "  c0 = initial$intervals[3]\n",
        "\n",
        "  #########################################\n",
        "  ## the main part of golden-section search  \n",
        "  #########################################\n",
        "  fb = f(b0,...)\n",
        "  iter = 0\n",
        "  convergence = 1\n",
        "  while(iter < max_iter){\n",
        "    x <- b0 + golden.step(a0,b0,c0) ## find the new x point to evaluate\n",
        "    fx <- f(x,...)\n",
        "    if(fx < fb){   ## if x is a new minima, keep (b0, x, c0) or (a0, x, b0)\n",
        "      if(x > b0) a0 = b0 else c0 = b0\n",
        "      b0 = x; fb = fx\n",
        "    } else{        ## if b0 is still minima, keep (x, b0, c0) or (a0, b0, x) \n",
        "      if(x < b0) a0 = x else c0 = x\n",
        "    }\n",
        "    iter = iter + 1\n",
        "    if(abs(c0-a0) < abs(b0)*tol){ ## check convergence\n",
        "      convergence = 0\n",
        "      break\n",
        "    }\n",
        "  }\n",
        "  return(list(minimum=b0,objective=fb,convergence=convergence,\n",
        "              iter=iter,tol=tol))\n",
        "}"
      ],
      "execution_count": 1,
      "outputs": []
    },
    {
      "cell_type": "markdown",
      "metadata": {
        "id": "vKx4kleNAbbC"
      },
      "source": [
        "## 2. Multi-dimensional coordinate Descent"
      ]
    },
    {
      "cell_type": "code",
      "metadata": {
        "id": "_xLhPYQDczVZ"
      },
      "source": [
        "#' Multi-dimensional coordinate descent\n",
        "#' @param f - Objective function to minimize\n",
        "#' @param x0 - initial point to start\n",
        "#' @param tol - relative error\n",
        "#' @param max_iter - maximum iteration\n",
        "#' @return A list containing the following attributes:\n",
        "#'    * xmin : x-coordinate of minima\n",
        "#'    * fmin : f(xmin)\n",
        "#'    * convergence : 0 if convergend, 1 otherwise\n",
        "#'    * iter : number of iterations\n",
        "coordinate.descent <- function(f, x0, tol = 1e-10, max_iter = 5000,...){\n",
        "  d = length(x0)  ## d is input dimension\n",
        "  convergence = 1\n",
        "  x1 <- x0\n",
        "  f0 <- f(x0,...) ## evaluate f0\n",
        "  for(iter in 1:max_iter){  ## repeat iterations\n",
        "    for(i in 1:d){          ## select each coordinate\n",
        "      f_i <- function(x_i){ ## f_i() is 1-d function for i-th coordinate\n",
        "        xk = x1\n",
        "        xk[i] <- x_i\n",
        "        f(xk,...)\n",
        "      }\n",
        "      res_i <- golden.search.1d(f_i,x1[i]) ## perform golden search\n",
        "      if(res_i$convergence==0){\n",
        "        x1[i] <- res_i$minimum \n",
        "      } else{\n",
        "        stop(paste(\"It does not converge at iteration \", iter ,\"for udpating the\",\n",
        "                   i,\"th component!\"))\n",
        "      }\n",
        "    }\n",
        "    f1 <- res_i$objective\n",
        "    if(abs(f1-f0) <= tol*(abs(f1)+abs(f0))){ ## check convergence\n",
        "      convergence = 0\n",
        "      break\n",
        "    } else{ \n",
        "      x0 <- x1\n",
        "      f0 <- f1\n",
        "    }\n",
        "  }  \n",
        "  return(list(xmin=x1,fmin=f1,convergence=convergence,iter=iter))\n",
        "}\n"
      ],
      "execution_count": 2,
      "outputs": []
    },
    {
      "cell_type": "markdown",
      "metadata": {
        "id": "3njgHQjZEoo9"
      },
      "source": [
        "## 3. Nelder-Mead algorithm"
      ]
    },
    {
      "cell_type": "code",
      "metadata": {
        "id": "pbYyRSpcc332"
      },
      "source": [
        "#' Multi-dimensional Nelder-Mead\n",
        "#' @param f - Objective function to minimize\n",
        "#' @param x0 - initial point to start\n",
        "#' @param tol - relative error\n",
        "#' @param max_iter - maximum iteration\n",
        "#' @return A list containing the following attributes:\n",
        "#'    * xmin : x-coordinate of minima\n",
        "#'    * fmin : f(xmin)\n",
        "#'    * convergence : 0 if convergend, 1 otherwise\n",
        "#'    * iter : number of iterations \n",
        "Nelder.Mead <- function(f, x0, tol = 1e-10, max_iter = 1000,...){\n",
        "  d <- length(x0)   # d:dimension of the simplex  \n",
        "  X <- matrix(x0,nrow=d,ncol=d+1)    # set d+1 simplex points\n",
        "  X[,-(d+1)] <- X[,-(d+1)] + diag(d) # create a simplex \n",
        "  Y <- apply(X,2,f,...)   # evaluate function at each vertex\n",
        "  \n",
        "  ## initialize key variables as NULL\n",
        "  idx_max <- NULL; idx_min <- NULL; idx_2ndmax <- NULL ## extremes\n",
        "  mid_point <- NULL; tru_line <- NULL ## mid-point and tru-line\n",
        "  \n",
        "  ## Function to update the extremes \n",
        "  update.extremes <- function(){\n",
        "    if(Y[1] > Y[2]){\n",
        "      idx_max <<- 1; idx_min <<- 2; idx_2ndmax <<- 2 ## note: global assignment\n",
        "    } else{\n",
        "      idx_max <<- 2; idx_2ndmax <<- 1; idx_min <<- 1 ## note: global assignment\n",
        "    }\n",
        "    if(d>1){\n",
        "      for(i in 3:(d+1)){\n",
        "        if(Y[i] <= Y[idx_min]){\n",
        "          idx_min <<- i\n",
        "        } else if(Y[i] > Y[idx_max]){\n",
        "          idx_2ndmax <<- idx_max; idx_max <<- i\n",
        "        } else if(Y[i] > Y[idx_2ndmax]){\n",
        "          idx_2ndmax <<- i\n",
        "        }\n",
        "      } \n",
        "    }\n",
        "  }\n",
        "  \n",
        "  ## Function to update the mid-point and the tru-line \n",
        "  update.mid.point <- function(){\n",
        "    mid_point <<- apply(X[,-idx_max,drop=FALSE],1,mean)\n",
        "    tru_line <<- X[,idx_max] - mid_point\n",
        "  }\n",
        "  \n",
        "  ## Function update the next point (reflection, expansion, contraction)\n",
        "  update.next.point <- function(step_scale){\n",
        "    next_point <- mid_point + tru_line*step_scale\n",
        "    Y_next <- f(next_point,...)\n",
        "    if(Y_next < Y[idx_max]){\n",
        "      X[,idx_max] <<- next_point\n",
        "      Y[idx_max] <<- Y_next\n",
        "      return(TRUE)\n",
        "    } else{\n",
        "      return(FALSE)\n",
        "    }\n",
        "  }\n",
        "  \n",
        "  ## Function for multiple contaction \n",
        "  contract.simplex <- function(){\n",
        "    X[,-idx_min] <<- 0.5*(X[,-idx_min] + X[,idx_min])\n",
        "    Y[-idx_min] <<- apply(X[,-idx_min],2,f,...)\n",
        "  }\n",
        "\n",
        "  #########################################\n",
        "  ## the main part of Nelder-Mead algorithm  \n",
        "  #########################################\n",
        "  convergence = 1\n",
        "  for(iter in 1:max_iter){\n",
        "    update.extremes()  ## update idx_min, idx_max, idx_2ndmax\n",
        "    if(abs(Y[idx_max]-Y[idx_min]) <= tol*(abs(Y[idx_max]) + abs(Y[idx_min]) +tol)){\n",
        "      convergence = 0\n",
        "      break\n",
        "    } ## check convergence\n",
        "    update.mid.point() ## update mid-point, tru-line\n",
        "    \n",
        "    update.next.point(-1.0)   ## reflection\n",
        "    if(Y[idx_max] < Y[idx_min]){\n",
        "      update.next.point(-2.0) ## expansion\n",
        "    } else if(Y[idx_max] >= Y[idx_2ndmax]){\n",
        "      if(!update.next.point(0.5)){  ## perform 1-d contraction\n",
        "        contract.simplex()    ## multiple contraction\n",
        "      }\n",
        "    }\n",
        "  }\n",
        "  return(list(xmin=X[,idx_min],fmin=Y[idx_min],convergence=convergence,iter=iter))\n",
        "}\n"
      ],
      "execution_count": 3,
      "outputs": []
    },
    {
      "cell_type": "markdown",
      "source": [
        "## 4. Gradient Descent"
      ],
      "metadata": {
        "id": "AqKYCwrj3aKw"
      }
    },
    {
      "cell_type": "code",
      "metadata": {
        "id": "WYv3UZpBc6RU"
      },
      "source": [
        "#' Multi-dimensional Gradient Descent\n",
        "#' @param f - Objective function to minimize\n",
        "#' @param g - Gradient vector for f\n",
        "#' @param x0 - initial point to start\n",
        "#' @param step_size - step size to update parameters\n",
        "#' @param update_step_size - allow updating step size using line search\n",
        "#' @param tol - relative error\n",
        "#' @param max_iter - maximum iteration\n",
        "#' @return A list containing the following attributes:\n",
        "#'    * xmin : x-coordinate of minima\n",
        "#'    * fmin : f(xmin)\n",
        "#'    * step_size : step_size used for each iteration\n",
        "#'    * convergence : 0 if convergend, 1 otherwise\n",
        "#'    * iter : number of iterations \n",
        "gradient.descent <- function(f, g, x0,step_size=0.0001,update_step_size = TRUE,\n",
        "                             tol=1e-10, max_iter=5000,...){\n",
        "  f0 <- f(x0,...)\n",
        "  g0 <- g(x0,...)\n",
        "  convergence = 1\n",
        "  for(iter in 1:max_iter){\n",
        "    x1 <- x0 - step_size*g0 ## x1 is the next point to evaluate\n",
        "    f1 <- f(x1,...)  ## note that you can pass through additional parameters\n",
        "    g1 <- g(x1,...)\n",
        "    if(is.infinite(f1)){\n",
        "      stop(\"It does not converge, try different initial values \n",
        "           or a smaller step size or updating the step size!\")\n",
        "    }\n",
        "    if(abs(f1-f0)<=tol*(abs(f1)+abs(f0))){\n",
        "      convergence = 0\n",
        "      break\n",
        "    } else{\n",
        "      if(update_step_size){ ## apply the algorithm to update step_size if requested\n",
        "        step_size = abs(sum((x1 - x0)*(g1-g0)))/sum((g1-g0)^2)\n",
        "      }\n",
        "      x0 <- x1\n",
        "      f0 <- f1\n",
        "      g0 <- g1\n",
        "    }\n",
        "  }\n",
        "  return(list(xmin=x1,fmin=f1,step_size = step_size,\n",
        "              convergence=convergence,iter=iter))\n",
        "}\n"
      ],
      "execution_count": 4,
      "outputs": []
    },
    {
      "cell_type": "markdown",
      "metadata": {
        "id": "PK1HP3reLBxA"
      },
      "source": [
        "## 5. Newton's method"
      ]
    },
    {
      "cell_type": "code",
      "metadata": {
        "id": "sVkSWRvwc8y8"
      },
      "source": [
        "#' Multi-dimensional Newton's method to minimize\n",
        "#' @param f - Objective function to minimize\n",
        "#' @param g - Gradient vector for f\n",
        "#' @param h - Hessian matrix for f\n",
        "#' @param x0 - initial point to start\n",
        "#' @param tol - relative error\n",
        "#' @param max_iter - maximum iteration\n",
        "#' @return A list containing the following attributes:\n",
        "#'    * xmin : x-coordinate of minima\n",
        "#'    * fmin : f(xmin)\n",
        "#'    * f_deriv : f'(xmin) - a vector\n",
        "#'    * Hessian : f''(xmin) - a Hessian matrix\n",
        "#'    * convergence : 0 if convergend, 1 otherwise\n",
        "#'    * iter : number of iterations \n",
        "Newton.method <- function(f,g,h,x0,tol=1e-10,max_iter=5000,...){\n",
        "  f0 <- f(x0,...)\n",
        "  g0 <- g(x0,...)\n",
        "  h0 <- h(x0,...)\n",
        "  convergence = 1\n",
        "  d = length(x0)\n",
        "  for(iter in 1:max_iter){\n",
        "    x1 <- x0 - solve(matrix(h0,nrow=d,ncol=d),g0) ## determine x1 based on g0, h0\n",
        "    f1 <- f(x1,...)    ## evaluate new function value\n",
        "    if(is.infinite(f1)){\n",
        "      stop(\"It does not converge,try different initial values!\")\n",
        "    }\n",
        "    g1 <- g(x1,...)\n",
        "    h1 <- h(x1,...)\n",
        "    if(abs(f1-f0)<=tol*(abs(f1)+abs(f0))){\n",
        "      convergence = 0\n",
        "      break\n",
        "    } else{    ## update the parameters\n",
        "      x0 <- x1\n",
        "      f0 <- f1\n",
        "      g0 <- g1\n",
        "      h0 <- h1\n",
        "    }\n",
        "  }\n",
        "  return(list(xmin=x1,fmin=f1, f_deriv = g1, Hessian = matrix(h1,nrow=d,ncol=d),\n",
        "              convergence=convergence,iter=iter))\n",
        "}\n"
      ],
      "execution_count": 5,
      "outputs": []
    },
    {
      "cell_type": "markdown",
      "metadata": {
        "id": "HvJL5EqNM_k4"
      },
      "source": [
        "## 6. Utilizing optimization functions built-in R"
      ]
    },
    {
      "cell_type": "markdown",
      "source": [
        "Let's evaluate minimization algorithms with\n",
        "\n",
        "$$\n",
        "f_1(x_1,x_2) = 100(x_2-x_1^2)^2 + (1-x_1)^2 \n",
        "$$\n",
        "\n",
        "which has clearly global minima at $(1,1)$ "
      ],
      "metadata": {
        "id": "zYpoNOYBvIm5"
      }
    },
    {
      "cell_type": "code",
      "metadata": {
        "id": "dK4X7NgBM-kJ"
      },
      "source": [
        "fn = function(x) return(100*(x[2]-x[1]^2)^2 + (1-x[1])^2) "
      ],
      "execution_count": 6,
      "outputs": []
    },
    {
      "cell_type": "markdown",
      "source": [
        "We can use Nelder-Mead algorithm implemented in `optim()` function"
      ],
      "metadata": {
        "id": "ci4i3DfHvhn3"
      }
    },
    {
      "cell_type": "code",
      "metadata": {
        "id": "bUe3i7mkNIQo",
        "outputId": "7d9a7002-e17a-4d96-f62b-77a69db0059b",
        "colab": {
          "base_uri": "https://localhost:8080/"
        }
      },
      "source": [
        "results = optim(par=c(-1.3,1.1),fn=fn,method=\"Nelder-Mead\")\n",
        "print(results)"
      ],
      "execution_count": 7,
      "outputs": [
        {
          "output_type": "stream",
          "name": "stdout",
          "text": [
            "$par\n",
            "[1] 1.000063 1.000112\n",
            "\n",
            "$value\n",
            "[1] 2.165884e-08\n",
            "\n",
            "$counts\n",
            "function gradient \n",
            "     165       NA \n",
            "\n",
            "$convergence\n",
            "[1] 0\n",
            "\n",
            "$message\n",
            "NULL\n",
            "\n"
          ]
        }
      ]
    },
    {
      "cell_type": "markdown",
      "source": [
        "Or the Nelder-Mead algorithm we implemented above"
      ],
      "metadata": {
        "id": "0EK8H2lzvnWo"
      }
    },
    {
      "cell_type": "code",
      "metadata": {
        "id": "2CeN8zKPN-dH",
        "outputId": "6a202d96-6dd6-469a-8c7a-45eaada2e257",
        "colab": {
          "base_uri": "https://localhost:8080/"
        }
      },
      "source": [
        "results = Nelder.Mead(fn, c(-1.3,1.1))\n",
        "print(results)"
      ],
      "execution_count": 8,
      "outputs": [
        {
          "output_type": "stream",
          "name": "stdout",
          "text": [
            "$xmin\n",
            "[1] 1 1\n",
            "\n",
            "$fmin\n",
            "[1] 4.446283e-22\n",
            "\n",
            "$convergence\n",
            "[1] 0\n",
            "\n",
            "$iter\n",
            "[1] 139\n",
            "\n"
          ]
        }
      ]
    },
    {
      "cell_type": "markdown",
      "source": [
        "Do you see a difference between the two?"
      ],
      "metadata": {
        "id": "P8k-PyUhvqbI"
      }
    },
    {
      "cell_type": "markdown",
      "metadata": {
        "id": "yr5ik433RzJx"
      },
      "source": [
        "## 7. More evaluations of optimization functions"
      ]
    },
    {
      "cell_type": "markdown",
      "metadata": {
        "id": "Zk76xO71W3gc"
      },
      "source": [
        "Let's consider minimizing these three functions \n",
        "\\begin{eqnarray*}\n",
        "f_1(x_1,x_2) & = & 100(x_2-x_1^2)^2 + (1-x_1)^2 \\\\\n",
        "f_2(x_1,x_2,x_3) & = & x_1x_2+x_2x_3 + x_1x_3 + (x_1-1)^2 + (x_2-1)^2 + (x_3-1)^2\\\\\n",
        "f_3(x_1,x_2) & = & \\sin(0.5x_1^2-0.5x_2^2+3)\\cos(2x_1+1-e^{x_2})\n",
        "\\end{eqnarray*}\n",
        "\n",
        "It is clear that $f_1$ is minimized at $(1,1)$.\n",
        "\n",
        "With some calculations, you will be able to find $f_2$ is minimized at $(0.5, 0.5, 0.5)$. \n",
        "\n",
        "It may be hard to find the exact lower bound of $f_3$, but it is clear that it should be -1 or greater."
      ]
    },
    {
      "cell_type": "code",
      "metadata": {
        "id": "nwVR90bNc9be"
      },
      "source": [
        "## define f1, f2, f3 as above\n",
        "f1 <- function(x1,x2){\n",
        "  100 * (x2 - x1 * x1)^2 + (1 - x1)^2\n",
        "}\n",
        "\n",
        "f2 <- function(x1,x2,x3){\n",
        "  x1*x2+x2*x3+x1*x3+(x1-1.0)^2+(x2-1.0)^2+(x3-1.0)^2\n",
        "}\n",
        "\n",
        "f3 <- function(x1,x2){\n",
        "  sin(0.5*x1^2-0.5*x2^2+3)*cos(2*x1+1 - exp(x2))\n",
        "}"
      ],
      "execution_count": 9,
      "outputs": []
    },
    {
      "cell_type": "code",
      "source": [
        "## we also define f1_multi, f2_multi, f3_multi\n",
        "## that takes a vector of x as the parameter \n",
        "f1_multi <- function(x) {   \n",
        "  f1(x[1],x[2])\n",
        "}\n",
        "\n",
        "f2_multi <- function(x){\n",
        "  f2(x[1],x[2],x[3])\n",
        "}\n",
        "\n",
        "f3_multi <- function(x){\n",
        "  f3(x[1],x[2])\n",
        "}"
      ],
      "metadata": {
        "id": "Hr6_rZLjvvjA"
      },
      "execution_count": 10,
      "outputs": []
    },
    {
      "cell_type": "code",
      "metadata": {
        "id": "OzrtK13LR6Lv",
        "outputId": "b42c3e5c-af52-4e7e-952f-7794a0b74cc6",
        "colab": {
          "base_uri": "https://localhost:8080/",
          "height": 257
        }
      },
      "source": [
        "# Visualize f1 and f3\n",
        "options(repr.plot.width=8, repr.plot.height=4)\n",
        "x1<-seq(-2.5,2.5,length=100)\n",
        "x2<-seq(-2.5,2.5,length=100)\n",
        "z1<-apply(expand.grid(x1,x2),1,f1_multi)\n",
        "z3<-apply(expand.grid(x1,x2),1,f3_multi)\n",
        "par(mfcol=c(1,2))\n",
        "image(x1,x2,matrix(z1,nrow=100,ncol=100),main=paste(\"f1\"))\n",
        "image(x1,x2,matrix(z3,nrow=100,ncol=100),main=paste(\"f3\"))"
      ],
      "execution_count": 11,
      "outputs": [
        {
          "output_type": "display_data",
          "data": {
            "text/plain": [
              "Plot with title “f3”"
            ],
            "image/png": "[encoded data removed]"
          },
          "metadata": {
            "image/png": {
              "width": 480,
              "height": 240
            }
          }
        }
      ]
    },
    {
      "cell_type": "code",
      "metadata": {
        "id": "o2uyVRgDWMJI",
        "outputId": "c0a9c447-462b-47c0-9d07-a2b39b0ce7fb",
        "colab": {
          "base_uri": "https://localhost:8080/",
          "height": 124
        }
      },
      "source": [
        "## coordinate descent\n",
        "system.time(CD1<-coordinate.descent(f1_multi,c(-10,-10),tol=1e-7))\n",
        "system.time(CD2<-coordinate.descent(f2_multi,c(10,10,10),tol=1e-7))\n",
        "system.time(CD3<-coordinate.descent(f3_multi,c(-0.5,-3),tol=1e-7))"
      ],
      "execution_count": 12,
      "outputs": [
        {
          "output_type": "display_data",
          "data": {
            "text/plain": [
              "   user  system elapsed \n",
              "  2.259   0.004   2.271 "
            ]
          },
          "metadata": {}
        },
        {
          "output_type": "display_data",
          "data": {
            "text/plain": [
              "   user  system elapsed \n",
              "  0.019   0.000   0.019 "
            ]
          },
          "metadata": {}
        },
        {
          "output_type": "display_data",
          "data": {
            "text/plain": [
              "   user  system elapsed \n",
              "  0.095   0.000   0.095 "
            ]
          },
          "metadata": {}
        }
      ]
    },
    {
      "cell_type": "code",
      "metadata": {
        "id": "iDmhGzIDWe0i",
        "outputId": "0954c4d8-4853-4552-e01d-4968ff191bbd",
        "colab": {
          "base_uri": "https://localhost:8080/"
        }
      },
      "source": [
        "## print the output from coordinate descent algorithm\n",
        "print(CD1)\n",
        "cat(\"------------------\\n\")\n",
        "print(CD2)\n",
        "cat(\"------------------\\n\")\n",
        "print(CD3)"
      ],
      "execution_count": 13,
      "outputs": [
        {
          "output_type": "stream",
          "name": "stdout",
          "text": [
            "$xmin\n",
            "[1] 0.9999983 0.9999966\n",
            "\n",
            "$fmin\n",
            "[1] 2.850277e-12\n",
            "\n",
            "$convergence\n",
            "[1] 0\n",
            "\n",
            "$iter\n",
            "[1] 4695\n",
            "\n",
            "------------------\n",
            "$xmin\n",
            "[1] 0.4998471 0.5002165 0.4999682\n",
            "\n",
            "$fmin\n",
            "[1] 1.5\n",
            "\n",
            "$convergence\n",
            "[1] 0\n",
            "\n",
            "$iter\n",
            "[1] 11\n",
            "\n",
            "------------------\n",
            "$xmin\n",
            "[1] 23.092009 -2.882981\n",
            "\n",
            "$fmin\n",
            "[1] -0.9999913\n",
            "\n",
            "$convergence\n",
            "[1] 0\n",
            "\n",
            "$iter\n",
            "[1] 206\n",
            "\n"
          ]
        }
      ]
    },
    {
      "cell_type": "code",
      "metadata": {
        "id": "Bp6g7djDdCvP",
        "outputId": "05364224-4be7-48d0-ab96-4270dabffa92",
        "colab": {
          "base_uri": "https://localhost:8080/",
          "height": 124
        }
      },
      "source": [
        "## Nelder-Mead\n",
        "system.time(NM1<-Nelder.Mead(f1_multi,c(-10,-10),tol=1e-7))\n",
        "system.time(NM2<-Nelder.Mead(f2_multi,c(10,10,10),tol=1e-7))\n",
        "system.time(NM3<-Nelder.Mead(f3_multi,c(-0.5,-3),tol=1e-7))"
      ],
      "execution_count": 14,
      "outputs": [
        {
          "output_type": "display_data",
          "data": {
            "text/plain": [
              "   user  system elapsed \n",
              "  0.004   0.001   0.005 "
            ]
          },
          "metadata": {}
        },
        {
          "output_type": "display_data",
          "data": {
            "text/plain": [
              "   user  system elapsed \n",
              "  0.005   0.000   0.004 "
            ]
          },
          "metadata": {}
        },
        {
          "output_type": "display_data",
          "data": {
            "text/plain": [
              "   user  system elapsed \n",
              "  0.001   0.000   0.002 "
            ]
          },
          "metadata": {}
        }
      ]
    },
    {
      "cell_type": "code",
      "metadata": {
        "id": "pItpGf1bWuL3",
        "outputId": "f0946232-a396-416c-bd0f-628024f9f095",
        "colab": {
          "base_uri": "https://localhost:8080/"
        }
      },
      "source": [
        "## print the output from Nelder-Mead algorithm algorithm\n",
        "print(NM1)\n",
        "cat(\"------------------\\n\")\n",
        "print(NM2)\n",
        "cat(\"------------------\\n\")\n",
        "print(NM3)"
      ],
      "execution_count": 15,
      "outputs": [
        {
          "output_type": "stream",
          "name": "stdout",
          "text": [
            "$xmin\n",
            "[1] 1 1\n",
            "\n",
            "$fmin\n",
            "[1] 3.385724e-14\n",
            "\n",
            "$convergence\n",
            "[1] 0\n",
            "\n",
            "$iter\n",
            "[1] 118\n",
            "\n",
            "------------------\n",
            "$xmin\n",
            "[1] 0.4999766 0.5000795 0.5002467\n",
            "\n",
            "$fmin\n",
            "[1] 1.5\n",
            "\n",
            "$convergence\n",
            "[1] 0\n",
            "\n",
            "$iter\n",
            "[1] 91\n",
            "\n",
            "------------------\n",
            "$xmin\n",
            "[1] -0.4767809 -3.0608912\n",
            "\n",
            "$fmin\n",
            "[1] -0.9999999\n",
            "\n",
            "$convergence\n",
            "[1] 0\n",
            "\n",
            "$iter\n",
            "[1] 32\n",
            "\n"
          ]
        }
      ]
    },
    {
      "cell_type": "code",
      "metadata": {
        "id": "jkuT4dhfZD2G",
        "outputId": "770aeb1c-8bc5-45ea-ad4f-20ad388f9915",
        "colab": {
          "base_uri": "https://localhost:8080/",
          "height": 124
        }
      },
      "source": [
        "## Nelder-Mead in optim()\n",
        "system.time(ONM1<-optim(par=c(-10,-10),fn=f1_multi,method=\"Nelder-Mead\"))\n",
        "system.time(ONM2<-optim(par=c(10,10,10),fn=f2_multi,method=\"Nelder-Mead\"))\n",
        "system.time(ONM3<-optim(par=c(-0.5,-3),fn=f3_multi,method=\"Nelder-Mead\"))"
      ],
      "execution_count": 16,
      "outputs": [
        {
          "output_type": "display_data",
          "data": {
            "text/plain": [
              "   user  system elapsed \n",
              "  0.001   0.000   0.000 "
            ]
          },
          "metadata": {}
        },
        {
          "output_type": "display_data",
          "data": {
            "text/plain": [
              "   user  system elapsed \n",
              "  0.001   0.000   0.000 "
            ]
          },
          "metadata": {}
        },
        {
          "output_type": "display_data",
          "data": {
            "text/plain": [
              "   user  system elapsed \n",
              "      0       0       0 "
            ]
          },
          "metadata": {}
        }
      ]
    },
    {
      "cell_type": "code",
      "metadata": {
        "id": "Pusl2ftOZ8JM",
        "outputId": "dd726f4c-dd5d-4c9a-ddaa-7a508c3e8980",
        "colab": {
          "base_uri": "https://localhost:8080/"
        }
      },
      "source": [
        "## print the output from Nelder-Mead algorithm using optim()\n",
        "print(ONM1)\n",
        "cat(\"------------------\\n\")\n",
        "print(ONM2)\n",
        "cat(\"------------------\\n\")\n",
        "print(ONM3)"
      ],
      "execution_count": 17,
      "outputs": [
        {
          "output_type": "stream",
          "name": "stdout",
          "text": [
            "$par\n",
            "[1] 0.4425542 0.1711704\n",
            "\n",
            "$value\n",
            "[1] 0.3716748\n",
            "\n",
            "$counts\n",
            "function gradient \n",
            "      93       NA \n",
            "\n",
            "$convergence\n",
            "[1] 0\n",
            "\n",
            "$message\n",
            "NULL\n",
            "\n",
            "------------------\n",
            "$par\n",
            "[1] 0.4961880 0.4993082 0.5007724\n",
            "\n",
            "$value\n",
            "[1] 1.500015\n",
            "\n",
            "$counts\n",
            "function gradient \n",
            "     126       NA \n",
            "\n",
            "$convergence\n",
            "[1] 0\n",
            "\n",
            "$message\n",
            "NULL\n",
            "\n",
            "------------------\n",
            "$par\n",
            "[1] -0.4765989 -3.0608350\n",
            "\n",
            "$value\n",
            "[1] -1\n",
            "\n",
            "$counts\n",
            "function gradient \n",
            "      59       NA \n",
            "\n",
            "$convergence\n",
            "[1] 0\n",
            "\n",
            "$message\n",
            "NULL\n",
            "\n"
          ]
        }
      ]
    },
    {
      "cell_type": "markdown",
      "source": [
        "Do you see the difference between Nelder-Mead implementations? Which one is better?\n",
        "\n",
        "Now, let's look at the gradient-based optimization algorithms. We need to take the derivative of these functions, but `Deriv` package makes our lives easier."
      ],
      "metadata": {
        "id": "z7cuimH4wYqf"
      }
    },
    {
      "cell_type": "code",
      "metadata": {
        "id": "yTvCXnZxdExX",
        "outputId": "8b72807b-7334-41e6-8248-d9739f50479b",
        "colab": {
          "base_uri": "https://localhost:8080/"
        }
      },
      "source": [
        "# gradient based optimization\n",
        "install.packages(\"Deriv\")\n",
        "library(Deriv)\n",
        "\n",
        "# Deriv() performs symbolic differentiation \n",
        "g1 = Deriv(f1)\n",
        "g2 = Deriv(f2)\n",
        "g3 = Deriv(f3)\n",
        "\n",
        "# Deriv() can also calculates Hessian too.\n",
        "h1 = Deriv(f1,nderiv=2)\n",
        "h2 = Deriv(f2,nderiv=2)\n",
        "h3 = Deriv(f3,nderiv=2)\n",
        "\n",
        "# convert gradients into single-parameter functions\n",
        "g1_multi <- function(x){\n",
        "   g1(x[1],x[2])\n",
        "}\n",
        "g2_multi <- function(x){\n",
        "  g2(x[1],x[2],x[3])\n",
        "}\n",
        "g3_multi <- function(x){\n",
        "  g3(x[1],x[2])\n",
        "}\n",
        "\n",
        "# convert Hessians into single parameter functions\n",
        "h1_multi <- function(x){\n",
        "  h1(x[1],x[2])\n",
        "}\n",
        "h2_multi <- function(x){\n",
        "  h2(x[1],x[2],x[3])\n",
        "}\n",
        "h3_multi <- function(x){\n",
        "  h3(x[1],x[2])\n",
        "}\n"
      ],
      "execution_count": 18,
      "outputs": [
        {
          "output_type": "stream",
          "name": "stderr",
          "text": [
            "Installing package into ‘/usr/local/lib/R/site-library’\n",
            "(as ‘lib’ is unspecified)\n",
            "\n"
          ]
        }
      ]
    },
    {
      "cell_type": "code",
      "metadata": {
        "id": "H3hQhLNOdHAE",
        "outputId": "da3fa3bc-9987-4cf4-d39f-ba5003768d97",
        "colab": {
          "base_uri": "https://localhost:8080/",
          "height": 124
        }
      },
      "source": [
        "## Apply gradient descent algorithms\n",
        "system.time(GD1<-gradient.descent(f1_multi,g1_multi,c(-10,-10),step_size=0.00001,\n",
        "                                  update_step_size = TRUE,tol=1e-7))\n",
        "system.time(GD2<-gradient.descent(f2_multi,g2_multi,c(10,10,10),step_size=0.001,\n",
        "                                  update_step_size = TRUE,\n",
        "                                  tol=1e-7))\n",
        "system.time(GD3<-gradient.descent(f3_multi,g3_multi,c(1,1),step_size=0.00001,\n",
        "                                  update_step_size = TRUE,\n",
        "                                  tol=1e-7))"
      ],
      "execution_count": 19,
      "outputs": [
        {
          "output_type": "display_data",
          "data": {
            "text/plain": [
              "   user  system elapsed \n",
              "  0.028   0.000   0.028 "
            ]
          },
          "metadata": {}
        },
        {
          "output_type": "display_data",
          "data": {
            "text/plain": [
              "   user  system elapsed \n",
              "  0.011   0.000   0.012 "
            ]
          },
          "metadata": {}
        },
        {
          "output_type": "display_data",
          "data": {
            "text/plain": [
              "   user  system elapsed \n",
              "  0.014   0.001   0.015 "
            ]
          },
          "metadata": {}
        }
      ]
    },
    {
      "cell_type": "code",
      "metadata": {
        "id": "ZNvU7Z1CadJQ",
        "outputId": "5ff5482c-7d87-4967-be0f-7c92fecc6b9c",
        "colab": {
          "base_uri": "https://localhost:8080/"
        }
      },
      "source": [
        "## Print the output of gradient descent algorithms\n",
        "print(GD1)\n",
        "cat(\"------------------\\n\")\n",
        "print(GD2)\n",
        "cat(\"------------------\\n\")\n",
        "print(GD3)"
      ],
      "execution_count": 20,
      "outputs": [
        {
          "output_type": "stream",
          "name": "stdout",
          "text": [
            "$xmin\n",
            "x1 x2 \n",
            " 1  1 \n",
            "\n",
            "$fmin\n",
            "          x2 \n",
            "1.232595e-32 \n",
            "\n",
            "$step_size\n",
            "[1] 0.0009984019\n",
            "\n",
            "$convergence\n",
            "[1] 0\n",
            "\n",
            "$iter\n",
            "[1] 64\n",
            "\n",
            "------------------\n",
            "$xmin\n",
            " x1  x2  x3 \n",
            "0.5 0.5 0.5 \n",
            "\n",
            "$fmin\n",
            " x1 \n",
            "1.5 \n",
            "\n",
            "$step_size\n",
            "[1] 0.25\n",
            "\n",
            "$convergence\n",
            "[1] 0\n",
            "\n",
            "$iter\n",
            "[1] 3\n",
            "\n",
            "------------------\n",
            "$xmin\n",
            "      x1       x2 \n",
            "3.492352 1.577550 \n",
            "\n",
            "$fmin\n",
            "x1 \n",
            "-1 \n",
            "\n",
            "$step_size\n",
            "[1] 0.02704127\n",
            "\n",
            "$convergence\n",
            "[1] 0\n",
            "\n",
            "$iter\n",
            "[1] 30\n",
            "\n"
          ]
        }
      ]
    },
    {
      "cell_type": "code",
      "metadata": {
        "id": "9JdtLQ7iaZK8",
        "outputId": "7685c9ee-a306-42b5-c6ab-88d272d0d275",
        "colab": {
          "base_uri": "https://localhost:8080/",
          "height": 124
        }
      },
      "source": [
        "## Apply Newton's method\n",
        "system.time(ND1<-Newton.method(f1_multi,g1_multi,h1_multi,c(-10,-10),tol=1e-7))\n",
        "system.time(ND2<-Newton.method(f2_multi,g2_multi,h2_multi,c(10,10,10),tol=1e-7))\n",
        "system.time(ND3<-Newton.method(f3_multi,g3_multi,h3_multi,c(1,1),tol=1e-7))"
      ],
      "execution_count": 21,
      "outputs": [
        {
          "output_type": "display_data",
          "data": {
            "text/plain": [
              "   user  system elapsed \n",
              "  0.022   0.004   0.037 "
            ]
          },
          "metadata": {}
        },
        {
          "output_type": "display_data",
          "data": {
            "text/plain": [
              "   user  system elapsed \n",
              "  0.004   0.000   0.004 "
            ]
          },
          "metadata": {}
        },
        {
          "output_type": "display_data",
          "data": {
            "text/plain": [
              "   user  system elapsed \n",
              "  0.032   0.000   0.032 "
            ]
          },
          "metadata": {}
        }
      ]
    },
    {
      "cell_type": "code",
      "metadata": {
        "id": "VSfSCJoCan1f",
        "outputId": "5446490a-2913-4260-b6b2-abf761e869db",
        "colab": {
          "base_uri": "https://localhost:8080/"
        }
      },
      "source": [
        "## Examine the output from Newton's method\n",
        "print(ND1)\n",
        "cat(\"------------------\\n\")\n",
        "print(ND2)\n",
        "cat(\"------------------\\n\")\n",
        "print(ND3)"
      ],
      "execution_count": 22,
      "outputs": [
        {
          "output_type": "stream",
          "name": "stdout",
          "text": [
            "$xmin\n",
            "[1] 1 1\n",
            "\n",
            "$fmin\n",
            "[1] 0\n",
            "\n",
            "$f_deriv\n",
            "x1 x2 \n",
            " 0  0 \n",
            "\n",
            "$Hessian\n",
            "     [,1] [,2]\n",
            "[1,]  802 -400\n",
            "[2,] -400  200\n",
            "\n",
            "$convergence\n",
            "[1] 0\n",
            "\n",
            "$iter\n",
            "[1] 6\n",
            "\n",
            "------------------\n",
            "$xmin\n",
            "[1] 0.5 0.5 0.5\n",
            "\n",
            "$fmin\n",
            "[1] 1.5\n",
            "\n",
            "$f_deriv\n",
            "x1 x2 x3 \n",
            " 0  0  0 \n",
            "\n",
            "$Hessian\n",
            "     [,1] [,2] [,3]\n",
            "[1,]    2    1    1\n",
            "[2,]    1    2    1\n",
            "[3,]    1    1    2\n",
            "\n",
            "$convergence\n",
            "[1] 0\n",
            "\n",
            "$iter\n",
            "[1] 2\n",
            "\n",
            "------------------\n",
            "$xmin\n",
            "[1] -2.539389e-15  8.474887e-15\n",
            "\n",
            "$fmin\n",
            "[1] 0.14112\n",
            "\n",
            "$f_deriv\n",
            "          x1           x2 \n",
            "6.336838e-15 6.478643e-15 \n",
            "\n",
            "$Hessian\n",
            "          [,1]      [,2]\n",
            "[1,] -1.554473 0.2822400\n",
            "[2,]  0.282240 0.8488725\n",
            "\n",
            "$convergence\n",
            "[1] 0\n",
            "\n",
            "$iter\n",
            "[1] 4\n",
            "\n"
          ]
        }
      ]
    },
    {
      "cell_type": "code",
      "metadata": {
        "id": "bKN7dYURaw07",
        "outputId": "dc308840-b519-4fba-c480-c2668fdd74bd",
        "colab": {
          "base_uri": "https://localhost:8080/",
          "height": 124
        }
      },
      "source": [
        "## L-BFGS in optim()\n",
        "system.time(LBB1<-optim(par=c(-10,-10),fn=f1_multi,gr=g1_multi,method=\"L-BFGS-B\"))\n",
        "system.time(LBB2<-optim(par=c(10,10,10),fn=f2_multi,gr=g2_multi,method=\"L-BFGS-B\"))\n",
        "system.time(LBB3<-optim(par=c(-0.5,-3),fn=f3_multi,gr=g3_multi,method=\"L-BFGS-B\"))"
      ],
      "execution_count": 23,
      "outputs": [
        {
          "output_type": "display_data",
          "data": {
            "text/plain": [
              "   user  system elapsed \n",
              "  0.001   0.000   0.000 "
            ]
          },
          "metadata": {}
        },
        {
          "output_type": "display_data",
          "data": {
            "text/plain": [
              "   user  system elapsed \n",
              "      0       0       0 "
            ]
          },
          "metadata": {}
        },
        {
          "output_type": "display_data",
          "data": {
            "text/plain": [
              "   user  system elapsed \n",
              "  0.001   0.000   0.000 "
            ]
          },
          "metadata": {}
        }
      ]
    },
    {
      "cell_type": "code",
      "metadata": {
        "id": "own0A-c8barI",
        "outputId": "4d2f0150-fced-4445-8f20-0f04aaff287b",
        "colab": {
          "base_uri": "https://localhost:8080/"
        }
      },
      "source": [
        "## Examine the results from L-BGFS\n",
        "print(LBB1)\n",
        "cat(\"------------------\\n\")\n",
        "print(LBB2)\n",
        "cat(\"------------------\\n\")\n",
        "print(LBB3)"
      ],
      "execution_count": 24,
      "outputs": [
        {
          "output_type": "stream",
          "name": "stdout",
          "text": [
            "$par\n",
            "[1] 1 1\n",
            "\n",
            "$value\n",
            "[1] 7.523157e-15\n",
            "\n",
            "$counts\n",
            "function gradient \n",
            "      31       31 \n",
            "\n",
            "$convergence\n",
            "[1] 0\n",
            "\n",
            "$message\n",
            "[1] \"CONVERGENCE: REL_REDUCTION_OF_F <= FACTR*EPSMCH\"\n",
            "\n",
            "------------------\n",
            "$par\n",
            "[1] 0.5 0.5 0.5\n",
            "\n",
            "$value\n",
            "[1] 1.5\n",
            "\n",
            "$counts\n",
            "function gradient \n",
            "       5        5 \n",
            "\n",
            "$convergence\n",
            "[1] 0\n",
            "\n",
            "$message\n",
            "[1] \"CONVERGENCE: NORM OF PROJECTED GRADIENT <= PGTOL\"\n",
            "\n",
            "------------------\n",
            "$par\n",
            "[1] -0.4765756 -3.0608358\n",
            "\n",
            "$value\n",
            "[1] -1\n",
            "\n",
            "$counts\n",
            "function gradient \n",
            "       8        8 \n",
            "\n",
            "$convergence\n",
            "[1] 0\n",
            "\n",
            "$message\n",
            "[1] \"CONVERGENCE: REL_REDUCTION_OF_F <= FACTR*EPSMCH\"\n",
            "\n"
          ]
        }
      ]
    }
  ]
}