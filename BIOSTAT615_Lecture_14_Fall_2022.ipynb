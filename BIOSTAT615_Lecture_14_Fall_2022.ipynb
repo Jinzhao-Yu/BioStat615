{
  "nbformat": 4,
  "nbformat_minor": 0,
  "metadata": {
    "colab": {
      "provenance": [],
      "include_colab_link": true
    },
    "kernelspec": {
      "name": "ir",
      "display_name": "R"
    },
    "language_info": {
      "name": "R"
    }
  },
  "cells": [
    {
      "cell_type": "markdown",
      "metadata": {
        "id": "view-in-github",
        "colab_type": "text"
      },
      "source": [
        "<a href=\"https://colab.research.google.com/github/Jinzhao-Yu/BioStat615/blob/main/BIOSTAT615_Lecture_14_Fall_2022.ipynb\" target=\"_parent\"><img src=\"https://colab.research.google.com/assets/colab-badge.svg\" alt=\"Open In Colab\"/></a>"
      ]
    },
    {
      "cell_type": "markdown",
      "metadata": {
        "id": "kiAtZF-dHHBz"
      },
      "source": [
        "# BIOSTAT615 Lecture 14 - R"
      ]
    },
    {
      "cell_type": "markdown",
      "metadata": {
        "id": "ozY_DPQXHKlX"
      },
      "source": [
        "## 1. Simulating from a mixture of normal"
      ]
    },
    {
      "cell_type": "markdown",
      "source": [
        "This function simulates `n` independent observations from a mixture of normal.\n",
        "$$p(x) = \\sum_{i=1}^k \\pi_k N(\\mu_k, \\sigma_k^2)$$"
      ],
      "metadata": {
        "id": "7VzQkRLeSmjN"
      }
    },
    {
      "cell_type": "code",
      "metadata": {
        "id": "0awbyZGUlmX-"
      },
      "source": [
        "#' simul.dat() - simulate from a mixture of normal\n",
        "#' @param n - number of observations\n",
        "#' @param mu_vec - vector of means for each component\n",
        "#' @param sigma_vec - vector of sds for each component\n",
        "#' @param pi_vec - vector of mixing proportion \n",
        "#' @return Random sample from mixture of normal\n",
        "simul.dat <- function(n,mu_vec,sigma_vec,pi_vec){\n",
        "  k = length(mu_vec)\n",
        "  stopifnot( k == length(sigma_vec) && k == length(pi_vec) ) \n",
        "  cluster = sample(1:k,n,prob=pi_vec,replace=TRUE)  ## sample components\n",
        "  dat = rnorm(n) * sigma_vec[cluster] + mu_vec[cluster] ## random sampling\n",
        "  return(dat)\n",
        "}"
      ],
      "execution_count": 1,
      "outputs": []
    },
    {
      "cell_type": "markdown",
      "source": [
        "## 2. Setting up an E-M algorithm"
      ],
      "metadata": {
        "id": "0QIv325H2Fz_"
      }
    },
    {
      "cell_type": "markdown",
      "source": [
        "We will use `R`'s class features to organize the information across multiple functions. This is a useful (but not essential) R skill to learn."
      ],
      "metadata": {
        "id": "_OrtvaxySqC2"
      }
    },
    {
      "cell_type": "code",
      "metadata": {
        "id": "rUtu6s5eluOo"
      },
      "source": [
        "#' Create a class normMixEM\n",
        "normMixEm <- setRefClass(\"normMixEM\",\n",
        "                         fields=list(k = \"integer\",\n",
        "                                     n = \"integer\",\n",
        "                                     dat_vec = \"vector\",\n",
        "                                     pi_vec = \"vector\",\n",
        "                                     mu_vec = \"vector\",\n",
        "                                     sigma_vec = \"vector\",\n",
        "                                     prob_mat = \"matrix\",\n",
        "                                     loglik = \"numeric\",\n",
        "                                     tol = \"numeric\"))"
      ],
      "execution_count": 2,
      "outputs": []
    },
    {
      "cell_type": "markdown",
      "source": [
        "To define member functions in R's class, you can utilize the following examples."
      ],
      "metadata": {
        "id": "7om2WipUSs82"
      }
    },
    {
      "cell_type": "code",
      "metadata": {
        "id": "7Kk0JFGPlxtZ"
      },
      "source": [
        "#' method to initialize normMixEm class (called with normMixEm$new)\n",
        "#' @param input_data - data to initalize\n",
        "#' @param num_components - number of components (k)\n",
        "normMixEm$methods(initialize = function(input_dat,num_components){\n",
        "  dat_vec <<- input_dat ## Use <<- to assign fields\n",
        "  k <<- num_components\n",
        "  n <<- length(dat_vec)\n",
        "})"
      ],
      "execution_count": 3,
      "outputs": []
    },
    {
      "cell_type": "code",
      "metadata": {
        "id": "MA_NMVCalzc9"
      },
      "source": [
        "#' method to initialize parameters for E-M\n",
        "normMixEm$methods(init.paras = function(){\n",
        "  tol <<- 1e-100  ## small number to avoid log(zero) \n",
        "  pi_vec <<- rep(1.0/k,length=k)  ## uniform across components\n",
        "  ## pick means from equal-spaced quantiles from the data\n",
        "  mu_vec <<- quantile(dat_vec,prob=seq(1/(2*k),1-1/(2*k),length=k))\n",
        "  sigma_vec <<- rep(sd(dat_vec),length=k) ## same variance\n",
        "  prob_mat <<- matrix(NA,nrow=n,ncol=k)\n",
        "  loglik <<- -Inf\n",
        "})\n"
      ],
      "execution_count": 4,
      "outputs": []
    },
    {
      "cell_type": "markdown",
      "source": [
        "## 3. Implementation of E-step"
      ],
      "metadata": {
        "id": "Y5Vtyl1q2Pml"
      }
    },
    {
      "cell_type": "markdown",
      "source": [
        "E-step calculates \n",
        "\n",
        "$$\\Pr(z_i=j|x_i,\\pi,\\mu,\\sigma) = \\frac{\\pi_j\\mathcal{N}(x_i|\\mu_j,\\sigma_j^2)} {\\sum_{k}\\pi_k\\mathcal{N}(x_i|\\mu_k,\\sigma_k^2)}$$"
      ],
      "metadata": {
        "id": "t6KBgBmOQhGm"
      }
    },
    {
      "cell_type": "code",
      "metadata": {
        "id": "C0LlPqNhl1IC"
      },
      "source": [
        "  #' E-step for E-M algorithm\n",
        "  normMixEm$methods(update.prob = function(){\n",
        "    ## prob_mat contains log-likelihood of each components\n",
        "    prob_mat <<- sapply(1:k, function(j) \n",
        "        log(pi_vec[j]+tol)+dnorm(dat_vec,mean=mu_vec[j],sd=sigma_vec[j],log=TRUE))\n",
        "    max_log_prob <- apply(prob_mat,1,max) ## local change, do not change the field value\n",
        "    \n",
        "    prob_mat <<- exp(prob_mat - max_log_prob) ## re-scale probability (important)\n",
        "    sum_prob <- apply(prob_mat,1,sum)   ## sum probabilities for each observation\n",
        "    prob_mat <<- prob_mat/sum_prob      ## normalize the probability E[z|theta]\n",
        "    \n",
        "    loglik <<- sum(max_log_prob + log(sum_prob))  ## evaluate log-likelihood\n",
        "  })"
      ],
      "execution_count": 5,
      "outputs": []
    },
    {
      "cell_type": "markdown",
      "source": [
        "## 4. Implementation of M-step"
      ],
      "metadata": {
        "id": "cbIFTy_52bQ8"
      }
    },
    {
      "cell_type": "markdown",
      "source": [
        "The M-steps are\n",
        "$$  \\pi_k^{(t+1)} = \\frac{\\sum_{i=1}^n \\Pr\\left(z_i=k|x_i,\\mu^{(t)},\\sigma^{(t)}\\right)}{n}$$"
      ],
      "metadata": {
        "id": "LjhIy0MXRFi6"
      }
    },
    {
      "cell_type": "code",
      "metadata": {
        "id": "gMUDn9m3l26W"
      },
      "source": [
        "#' M-step for E-M algorithm to update pi_vec\n",
        "normMixEm$methods(update.pi = function(){\n",
        "  pi_vec <<- apply(prob_mat,2,mean)\n",
        "})"
      ],
      "execution_count": 6,
      "outputs": []
    },
    {
      "cell_type": "markdown",
      "source": [
        "$$\\mu_k^{(t+1)} = \\frac{\\sum_{i}x_i\\Pr(z_i=k|x_i,\\mu^{(t)},\\sigma^{(t)})}{\\sum_{i}\\Pr(z_i=k|x_i,\\mu^{(t)},\\sigma^{(t)})} \n",
        "= \\frac{\\sum_{i}x_i\\Pr(z_i=k|x_i,\\mu^{(t)},\\sigma^{(t)})}{n\\pi_k^{(t+1)}}\n",
        "$$"
      ],
      "metadata": {
        "id": "igU7nq2oROeT"
      }
    },
    {
      "cell_type": "code",
      "metadata": {
        "id": "bpGyQWiMl4G5"
      },
      "source": [
        "#' M-step for E-M algorithm to update mu_vec\n",
        "normMixEm$methods(update.mu = function(){\n",
        "  mu_vec <<- apply(dat_vec*prob_mat,2,mean)/(pi_vec+tol)\n",
        "})"
      ],
      "execution_count": 7,
      "outputs": []
    },
    {
      "cell_type": "markdown",
      "source": [
        "$$\\left(\\sigma_k^2\\right)^{(t+1)} = \\frac{\\sum_{i}(x_i-\\mu_k^{(t)})^2\\Pr(z_i=k|x_i,\\mu^{(t)},\\sigma^{(t)})}{n\\pi_k^{(t+1)}}$$"
      ],
      "metadata": {
        "id": "ib4ivE1ARHTQ"
      }
    },
    {
      "cell_type": "code",
      "metadata": {
        "id": "Qq4xGD6Yl5b3"
      },
      "source": [
        "#' M-step for E-M algorithm to update sigma_vec\n",
        "normMixEm$methods(update.sigma = function(){\n",
        "  temp_vec <- outer(dat_vec,mu_vec,FUN=\"-\") # get x[i]-mu[k] matrix\n",
        "  ## update sigma as weighted average\n",
        "  sigma_vec <<- sqrt(apply(temp_vec^2*prob_mat,2,mean)/(pi_vec+tol))\n",
        "})"
      ],
      "execution_count": 8,
      "outputs": []
    },
    {
      "cell_type": "markdown",
      "source": [
        "## 5. E-M algorithm - putting things together"
      ],
      "metadata": {
        "id": "FHS83u3V2kXM"
      }
    },
    {
      "cell_type": "code",
      "metadata": {
        "id": "ZAWaEf7Ul65c"
      },
      "source": [
        "#' check convergence of mixture normal EM\n",
        "normMixEm$methods(check.tol = function(fmax,fmin,ftol){\n",
        "  delta = abs(fmax - fmin)\n",
        "  accuracy = (abs(fmax) + abs(fmin))*ftol\n",
        "  return(delta < (accuracy + tol))\n",
        "})"
      ],
      "execution_count": 9,
      "outputs": []
    },
    {
      "cell_type": "code",
      "metadata": {
        "id": "LCZDeBvzl8Hf"
      },
      "source": [
        "#' main function for E-M algorithm\n",
        "normMixEm$methods(run.EM = function(max_iter=1000L,loglik_tol=1e-5){\n",
        "  convergence = 1L\n",
        "  init.paras()  ## initialize parameter\n",
        "  loglik_list = NULL\n",
        "  for(iter in 1:max_iter){\n",
        "    loglik0 <- loglik ## log-likelihood of previous steps\n",
        "    update.prob() # E-step\n",
        "    update.pi()   # M-step for pi_vec\n",
        "    update.mu()   # M-step for mu_vec\n",
        "    update.sigma() # M-step for sigma_vec\n",
        "    loglik_list = c(loglik_list,loglik) # append log-likelihood\n",
        "    if(check.tol(loglik0,loglik,loglik_tol)){\n",
        "      convergence = 0 # converged\n",
        "      break\n",
        "    }\n",
        "  }\n",
        "  return(list(convergence=convergence,mu_vec=mu_vec,sigma_vec=sigma_vec,\n",
        "              pi_vec=pi_vec,iter=iter,loglik_list=loglik_list))\n",
        "  })\n"
      ],
      "execution_count": 10,
      "outputs": []
    },
    {
      "cell_type": "markdown",
      "source": [
        "## 6. Evaluating the E-M algorithm"
      ],
      "metadata": {
        "id": "VkRA_wdA2v7c"
      }
    },
    {
      "cell_type": "code",
      "metadata": {
        "id": "JY5B0T34l95C",
        "outputId": "258957a9-40af-46ca-f990-965c50f3a73b",
        "colab": {
          "base_uri": "https://localhost:8080/",
          "height": 848
        }
      },
      "source": [
        "set.seed(1000)\n",
        "# simulate data with 2:5:3 mixture with N(-5,1), N(0,1), N(5,2)\n",
        "sim_dat <- simul.dat(1000,mu_vec=c(-5,0,5),sigma_vec=c(1,1,2),pi_vec=c(0.2,0.5,0.3))\n",
        "EM <- normMixEm$new(input_dat = sim_dat,num_components = 3L)\n",
        "print(res_EM <- EM$run.EM(loglik_tol=1e-5))\n",
        "plot(1L:res_EM$iter,res_EM$loglik_list,type=\"l\")"
      ],
      "execution_count": 11,
      "outputs": [
        {
          "output_type": "stream",
          "name": "stdout",
          "text": [
            "$convergence\n",
            "[1] 0\n",
            "\n",
            "$mu_vec\n",
            "[1] -4.81651057  0.06226819  4.79006952\n",
            "\n",
            "$sigma_vec\n",
            "[1] 1.0059167 0.9821408 2.0309160\n",
            "\n",
            "$pi_vec\n",
            "[1] 0.189175 0.494301 0.316524\n",
            "\n",
            "$iter\n",
            "[1] 36\n",
            "\n",
            "$loglik_list\n",
            " [1] -2802.412 -2706.733 -2706.564 -2706.464 -2706.359 -2706.237 -2706.091\n",
            " [8] -2705.913 -2705.692 -2705.410 -2705.039 -2704.535 -2703.825 -2702.775\n",
            "[15] -2701.143 -2698.453 -2693.749 -2685.120 -2669.333 -2644.147 -2616.480\n",
            "[22] -2598.568 -2589.909 -2584.633 -2579.580 -2573.583 -2566.187 -2557.392\n",
            "[29] -2548.240 -2541.330 -2538.250 -2537.375 -2537.130 -2537.035 -2536.983\n",
            "[36] -2536.947\n",
            "\n"
          ]
        },
        {
          "output_type": "display_data",
          "data": {
            "text/plain": [
              "plot without title"
            ],
            "image/png": "[encoded data removed]"
          },
          "metadata": {
            "image/png": {
              "width": 420,
              "height": 420
            }
          }
        }
      ]
    }
  ]
}