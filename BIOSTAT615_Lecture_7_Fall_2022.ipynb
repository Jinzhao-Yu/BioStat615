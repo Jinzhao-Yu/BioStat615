{
  "nbformat": 4,
  "nbformat_minor": 0,
  "metadata": {
    "colab": {
      "provenance": [],
      "include_colab_link": true
    },
    "kernelspec": {
      "name": "ir",
      "display_name": "R"
    },
    "language_info": {
      "name": "R"
    }
  },
  "cells": [
    {
      "cell_type": "markdown",
      "metadata": {
        "id": "view-in-github",
        "colab_type": "text"
      },
      "source": [
        "<a href=\"https://colab.research.google.com/github/Jinzhao-Yu/BioStat615/blob/main/BIOSTAT615_Lecture_7_Fall_2022.ipynb\" target=\"_parent\"><img src=\"https://colab.research.google.com/assets/colab-badge.svg\" alt=\"Open In Colab\"/></a>"
      ]
    },
    {
      "cell_type": "markdown",
      "metadata": {
        "id": "ZQ3uJHSH6Yvy"
      },
      "source": [
        "# BIOSTAT615 Lecture 7 - R"
      ]
    },
    {
      "cell_type": "markdown",
      "metadata": {
        "id": "fUElTDpy1KZC"
      },
      "source": [
        "## 1. Bisection method for root finding"
      ]
    },
    {
      "cell_type": "code",
      "metadata": {
        "id": "oIWNMjsb1jIe"
      },
      "source": [
        "#' bisect0() - recursive implementation of bisection method\n",
        "#' @param f : objective function to find root\n",
        "#' @param a, b : two values with f(a) * f(b) < 0\n",
        "#' @param tol : absolute difference between a,b for convergence\n",
        "#' @return list containing the following attributes:\n",
        "#'    * root - the x value with f(x) close to zero\n",
        "#'    * f_root - f(root) value\n",
        "bisect0 = function(f, a, b, tol=1e-10) {\n",
        "  f.a = f(a); f.b = f(b)  ## evaluate f(a),f(b)\n",
        "  if ( abs(b-a) < tol ) { # terminating condition\n",
        "    root = (b+a)/2; \n",
        "    return (list(root=root, f_root=f(root)))\n",
        "  } else {\n",
        "    xmid = (a+b)/2; ymid = f(xmid) # obtain midpoint\n",
        "    if ( f.a * ymid < 0 ) {  # divide-and-conquer\n",
        "      return (bisect0(f, a, xmid, tol))\n",
        "    } else {\n",
        "      return (bisect0(f, xmid, b, tol))\n",
        "    }\n",
        "  }\n",
        "}"
      ],
      "execution_count": 1,
      "outputs": []
    },
    {
      "cell_type": "markdown",
      "source": [
        "Let's run bisection method to find the root on the following function\n",
        "$$f(x) = e^x - x - 2$$\n",
        "\n",
        "between $x \\in [1,2]$ because we know that $f(1) = e - 3 < 0$ and $f(2) = e^2 - 4 > 0$."
      ],
      "metadata": {
        "id": "In_3Q0VmWKF4"
      }
    },
    {
      "cell_type": "code",
      "metadata": {
        "id": "Fwme0a-Y2v3C",
        "outputId": "5343fc62-bfe7-412c-dcca-64a1e29b8943",
        "colab": {
          "base_uri": "https://localhost:8080/",
          "height": 114
        }
      },
      "source": [
        "bisect0(f=function(x) {exp(x)-x-2}, a=1,b=2,tol=1e-10)"
      ],
      "execution_count": 2,
      "outputs": [
        {
          "output_type": "display_data",
          "data": {
            "text/html": [
              "<dl>\n",
              "\t<dt>$root</dt>\n",
              "\t\t<dd>1.14619322060025</dd>\n",
              "\t<dt>$f_root</dt>\n",
              "\t\t<dd>-4.36313207785588e-11</dd>\n",
              "</dl>\n"
            ],
            "text/markdown": "$root\n:   1.14619322060025\n$f_root\n:   -4.36313207785588e-11\n\n\n",
            "text/latex": "\\begin{description}\n\\item[\\$root] 1.14619322060025\n\\item[\\$f\\_root] -4.36313207785588e-11\n\\end{description}\n",
            "text/plain": [
              "$root\n",
              "[1] 1.146193\n",
              "\n",
              "$f_root\n",
              "[1] -4.363132e-11\n"
            ]
          },
          "metadata": {}
        }
      ]
    },
    {
      "cell_type": "markdown",
      "source": [
        "Recursive implementation can be sometimes slow. We can avoid repetitive function calls with loop-based implementation."
      ],
      "metadata": {
        "id": "lKhtGzpSWuUa"
      }
    },
    {
      "cell_type": "code",
      "metadata": {
        "id": "6BZNBr5Lnelr"
      },
      "source": [
        "#' bisect1() - loopy implementation of bisection method\n",
        "#' @param f : objective function to find root\n",
        "#' @param a, b : two values with f(a) * f(b) < 0\n",
        "#' @param tol : absolute difference between a,b for convergence\n",
        "#' @param max_iter : maximum iterations allowed\n",
        "#' @return list containing the following attributes:\n",
        "#'    * root - the x value with f(x) close to zero\n",
        "#'    * f_root - f(root) value\n",
        "bisect1 <- function(f, a, b, tol=1e-10, max_iter = 100){\n",
        "  iter <- 0\n",
        "  f.a <- f(a)  ## evaluate initial value of f(a)\n",
        "  f.b <- f(b)  ## evaluate initial value of f(b)\n",
        "  convergence = 0\n",
        "  if(f.a*f.b>0){  ## if f(a) and f(b) are the same sign, root-finding cannot be achieved.\n",
        "    convergence = 2\n",
        "    warning (\"Initial conditions are not satisfied!\")\n",
        "  }\n",
        "  while (abs(b - a) > tol) {  ## repeat the loop as long as a, b are not too close\n",
        "    iter <- iter + 1        ## keep track of the number of iteration\n",
        "    if (iter > max_iter) {\n",
        "      convergence = 1\n",
        "      warning (\" Iterations maximum exceeded!\")\n",
        "      break\n",
        "    }\n",
        "    xmid <- (a + b) / 2     ## xmid is a midpoint between a and b\n",
        "    ymid <- f(xmid) \n",
        "    if (f.a * ymid > 0) {   ## if f(a) and f(xmid) are the same sign\n",
        "      a <- xmid             ## xmid is new a\n",
        "      f.a <- ymid\n",
        "    } else {\n",
        "      b <- xmid;            ## otherwise, xmid is new b\n",
        "    }\n",
        "  }\n",
        "  root <- (a + b)/2         \n",
        "  f_root = f(root)\n",
        "  return (list(root=root, f_root = f_root,iter=iter,convergence=convergence))\n",
        "}"
      ],
      "execution_count": 3,
      "outputs": []
    },
    {
      "cell_type": "code",
      "metadata": {
        "id": "G4pxoYqQnqjT",
        "outputId": "4596c363-643f-49a2-8e70-08110f10ae6a",
        "colab": {
          "base_uri": "https://localhost:8080/",
          "height": 184
        }
      },
      "source": [
        "bisect1(f=function(x) exp(x)-x-2, a=1,b=2,tol=1e-10)"
      ],
      "execution_count": 4,
      "outputs": [
        {
          "output_type": "display_data",
          "data": {
            "text/html": [
              "<dl>\n",
              "\t<dt>$root</dt>\n",
              "\t\t<dd>1.14619322060025</dd>\n",
              "\t<dt>$f_root</dt>\n",
              "\t\t<dd>-4.36313207785588e-11</dd>\n",
              "\t<dt>$iter</dt>\n",
              "\t\t<dd>34</dd>\n",
              "\t<dt>$convergence</dt>\n",
              "\t\t<dd>0</dd>\n",
              "</dl>\n"
            ],
            "text/markdown": "$root\n:   1.14619322060025\n$f_root\n:   -4.36313207785588e-11\n$iter\n:   34\n$convergence\n:   0\n\n\n",
            "text/latex": "\\begin{description}\n\\item[\\$root] 1.14619322060025\n\\item[\\$f\\_root] -4.36313207785588e-11\n\\item[\\$iter] 34\n\\item[\\$convergence] 0\n\\end{description}\n",
            "text/plain": [
              "$root\n",
              "[1] 1.146193\n",
              "\n",
              "$f_root\n",
              "[1] -4.363132e-11\n",
              "\n",
              "$iter\n",
              "[1] 34\n",
              "\n",
              "$convergence\n",
              "[1] 0\n"
            ]
          },
          "metadata": {}
        }
      ]
    },
    {
      "cell_type": "markdown",
      "source": [
        "Let's try a simpler function $f(x) = x$ in $x \\in [-1,1]$ to find a root"
      ],
      "metadata": {
        "id": "0Fp7GFFaX-On"
      }
    },
    {
      "cell_type": "code",
      "source": [
        "bisect1(f=function(x) x, a=-1,b=1,tol=1e-10)"
      ],
      "metadata": {
        "id": "O7N16gvxX4Ki",
        "outputId": "754bf6a1-258d-4a2d-fe0d-a7cae9ecd5cd",
        "colab": {
          "base_uri": "https://localhost:8080/",
          "height": 184
        }
      },
      "execution_count": 5,
      "outputs": [
        {
          "output_type": "display_data",
          "data": {
            "text/html": [
              "<dl>\n",
              "\t<dt>$root</dt>\n",
              "\t\t<dd>-2.91038304567337e-11</dd>\n",
              "\t<dt>$f_root</dt>\n",
              "\t\t<dd>-2.91038304567337e-11</dd>\n",
              "\t<dt>$iter</dt>\n",
              "\t\t<dd>35</dd>\n",
              "\t<dt>$convergence</dt>\n",
              "\t\t<dd>0</dd>\n",
              "</dl>\n"
            ],
            "text/markdown": "$root\n:   -2.91038304567337e-11\n$f_root\n:   -2.91038304567337e-11\n$iter\n:   35\n$convergence\n:   0\n\n\n",
            "text/latex": "\\begin{description}\n\\item[\\$root] -2.91038304567337e-11\n\\item[\\$f\\_root] -2.91038304567337e-11\n\\item[\\$iter] 35\n\\item[\\$convergence] 0\n\\end{description}\n",
            "text/plain": [
              "$root\n",
              "[1] -2.910383e-11\n",
              "\n",
              "$f_root\n",
              "[1] -2.910383e-11\n",
              "\n",
              "$iter\n",
              "[1] 35\n",
              "\n",
              "$convergence\n",
              "[1] 0\n"
            ]
          },
          "metadata": {}
        }
      ]
    },
    {
      "cell_type": "markdown",
      "source": [
        "Are you happy with the algorithm? Could it be better?"
      ],
      "metadata": {
        "id": "-Cj8LAXoYNk2"
      }
    },
    {
      "cell_type": "markdown",
      "metadata": {
        "id": "nQHrI2F36h9x"
      },
      "source": [
        "## 2. Newton Raphson method for root finding"
      ]
    },
    {
      "cell_type": "code",
      "metadata": {
        "id": "EDkx7YCJpJMS"
      },
      "source": [
        "#' Newton.Raphson.root() - Newton-Raphson method for root finding\n",
        "#' @param f : objective function to find root\n",
        "#' @param fp : first-derivative of the function f()\n",
        "#' @param x0 : initial starting point\n",
        "#' @param tol : absolute difference of stepwise difference in x for convergence\n",
        "#' @param max_iter : maximum number of iterations\n",
        "#' @return A list containing the following attributes:\n",
        "#'    * root - x value with f(x) close to zero\n",
        "#'    * f_root - f(root)\n",
        "#'    * iter - number of iterations to reach the solution\n",
        "#'    * convergence - 0 if the root was found successfully, 1 if not found\n",
        "Newton.Raphson.root <- function(f,fp,x0,tol=1e-10,max_iter=1000){\n",
        "  convergence = 1 ## convergence=1 means convergence has not reached\n",
        "  for(iter in 1:max_iter){\n",
        "    fp0 = fp(x0) ## evaluate derivative\n",
        "    if(abs(fp0)<tol){ ## if derivative is too small, it will be unstable\n",
        "      convergence = 1\n",
        "      warning(\"The first diverative gets close to zero!\")\n",
        "      break\n",
        "    }\n",
        "    f0 = f(x0)\n",
        "    x1 = x0 - f0/fp0  ## next point to evaluate\n",
        "    if(abs(x1-x0)<tol){ ## check convergence\n",
        "      convergence = 0   ## convergence=0 means that convergence has reached.\n",
        "      break\n",
        "    }\n",
        "    x0 = x1  ## update x0 and repeat the steps\n",
        "  }\n",
        "  return(list(root=x1,f_root = f(x1),iter=iter,convergence=convergence))\n",
        "}"
      ],
      "execution_count": 6,
      "outputs": []
    },
    {
      "cell_type": "code",
      "metadata": {
        "id": "ir9j9lAGpe7u",
        "outputId": "5069bc7c-a4b7-4493-86bc-fb4747f0e5fb",
        "colab": {
          "base_uri": "https://localhost:8080/",
          "height": 184
        }
      },
      "source": [
        "# objective function\n",
        "f = function(x) exp(x)-x-2\n",
        "# derivative of f - need to provide too\n",
        "fp = function(x) exp(x)-1\n",
        "Newton.Raphson.root(f=f,fp=fp,x0=1)"
      ],
      "execution_count": 7,
      "outputs": [
        {
          "output_type": "display_data",
          "data": {
            "text/html": [
              "<dl>\n",
              "\t<dt>$root</dt>\n",
              "\t\t<dd>1.14619322062058</dd>\n",
              "\t<dt>$f_root</dt>\n",
              "\t\t<dd>0</dd>\n",
              "\t<dt>$iter</dt>\n",
              "\t\t<dd>5</dd>\n",
              "\t<dt>$convergence</dt>\n",
              "\t\t<dd>0</dd>\n",
              "</dl>\n"
            ],
            "text/markdown": "$root\n:   1.14619322062058\n$f_root\n:   0\n$iter\n:   5\n$convergence\n:   0\n\n\n",
            "text/latex": "\\begin{description}\n\\item[\\$root] 1.14619322062058\n\\item[\\$f\\_root] 0\n\\item[\\$iter] 5\n\\item[\\$convergence] 0\n\\end{description}\n",
            "text/plain": [
              "$root\n",
              "[1] 1.146193\n",
              "\n",
              "$f_root\n",
              "[1] 0\n",
              "\n",
              "$iter\n",
              "[1] 5\n",
              "\n",
              "$convergence\n",
              "[1] 0\n"
            ]
          },
          "metadata": {}
        }
      ]
    },
    {
      "cell_type": "code",
      "metadata": {
        "id": "S8s_DdyxFtIe",
        "outputId": "ddc9d9e1-632b-4c04-9149-4a84ae4f0dc5",
        "colab": {
          "base_uri": "https://localhost:8080/",
          "height": 184
        }
      },
      "source": [
        "# objective function\n",
        "f = function(x) exp(x)-x-2\n",
        "# derivative of f\n",
        "fp = function(x) exp(x)-1\n",
        "Newton.Raphson.root(f=f,fp=fp,x0=-1)  ## start at a different point"
      ],
      "execution_count": 8,
      "outputs": [
        {
          "output_type": "display_data",
          "data": {
            "text/html": [
              "<dl>\n",
              "\t<dt>$root</dt>\n",
              "\t\t<dd>-1.84140566043696</dd>\n",
              "\t<dt>$f_root</dt>\n",
              "\t\t<dd>0</dd>\n",
              "\t<dt>$iter</dt>\n",
              "\t\t<dd>5</dd>\n",
              "\t<dt>$convergence</dt>\n",
              "\t\t<dd>0</dd>\n",
              "</dl>\n"
            ],
            "text/markdown": "$root\n:   -1.84140566043696\n$f_root\n:   0\n$iter\n:   5\n$convergence\n:   0\n\n\n",
            "text/latex": "\\begin{description}\n\\item[\\$root] -1.84140566043696\n\\item[\\$f\\_root] 0\n\\item[\\$iter] 5\n\\item[\\$convergence] 0\n\\end{description}\n",
            "text/plain": [
              "$root\n",
              "[1] -1.841406\n",
              "\n",
              "$f_root\n",
              "[1] 0\n",
              "\n",
              "$iter\n",
              "[1] 5\n",
              "\n",
              "$convergence\n",
              "[1] 0\n"
            ]
          },
          "metadata": {}
        }
      ]
    },
    {
      "cell_type": "markdown",
      "source": [
        "Let's try [an example describe in Wikipedia](https://en.wikipedia.org/wiki/Newton%27s_method#Starting_point_enters_a_cycle). "
      ],
      "metadata": {
        "id": "SX0nyb_Gi9s8"
      }
    },
    {
      "cell_type": "code",
      "source": [
        "# objective function\n",
        "f = function(x) x**3-2*x+2\n",
        "# derivative of f\n",
        "fp = function(x) 3*x*x-2\n",
        "Newton.Raphson.root(f=f,fp=fp,x0=0)  ## start at x=0 or x=1"
      ],
      "metadata": {
        "id": "M0mfvxPsiVvu",
        "outputId": "bfa04040-9df0-4ff1-db0a-6c83a72b9e47",
        "colab": {
          "base_uri": "https://localhost:8080/",
          "height": 184
        }
      },
      "execution_count": 9,
      "outputs": [
        {
          "output_type": "display_data",
          "data": {
            "text/html": [
              "<dl>\n",
              "\t<dt>$root</dt>\n",
              "\t\t<dd>0</dd>\n",
              "\t<dt>$f_root</dt>\n",
              "\t\t<dd>2</dd>\n",
              "\t<dt>$iter</dt>\n",
              "\t\t<dd>1000</dd>\n",
              "\t<dt>$convergence</dt>\n",
              "\t\t<dd>1</dd>\n",
              "</dl>\n"
            ],
            "text/markdown": "$root\n:   0\n$f_root\n:   2\n$iter\n:   1000\n$convergence\n:   1\n\n\n",
            "text/latex": "\\begin{description}\n\\item[\\$root] 0\n\\item[\\$f\\_root] 2\n\\item[\\$iter] 1000\n\\item[\\$convergence] 1\n\\end{description}\n",
            "text/plain": [
              "$root\n",
              "[1] 0\n",
              "\n",
              "$f_root\n",
              "[1] 2\n",
              "\n",
              "$iter\n",
              "[1] 1000\n",
              "\n",
              "$convergence\n",
              "[1] 1\n"
            ]
          },
          "metadata": {}
        }
      ]
    },
    {
      "cell_type": "markdown",
      "metadata": {
        "id": "4stV8-Dx6mx7"
      },
      "source": [
        "## 3. Secant method for root finding"
      ]
    },
    {
      "cell_type": "code",
      "metadata": {
        "id": "dmCfrEHhpk-I"
      },
      "source": [
        "#' secant() - secant method for root finding\n",
        "#' @param f : objective function to find root\n",
        "#' @param x0, x1 : initial starting points\n",
        "#' @param tol : absolute difference of stepwise difference in x for convergence\n",
        "#' @param max_iter : maximum number of iterations\n",
        "#' @return A list containing the following attributes:\n",
        "#'    * root - x value with f(x) close to zero\n",
        "#'    * f_root - f(root)\n",
        "#'    * iter - number of iterations to reach the solution\n",
        "#'    * convergence - 0 if the root was found successfully, 1 if not found\n",
        "secant <- function(f,x0,x1,tol=1e-10,max_iter=1000){\n",
        "  convergence = 1\n",
        "  f0 = f(x0); f1 = f(x1)\n",
        "  if(abs(f0-f1)<tol){ ## if x1 and x0 are too close, approx derivative is near-zero.\n",
        "    warning(\"Expect a huge jump!\")\n",
        "    break\n",
        "  }\n",
        "  x12 <- -f1/(f1-f0)*(x1-x0) ## change in x\n",
        "  x2 <- x1 + x12             ## interpolation\n",
        "  for(iter in 1:max_iter){\n",
        "    if(abs(x12)<tol){\n",
        "      convergence = 0 ## convergence has reached\n",
        "      break\n",
        "    }\n",
        "    f0 <- f1 \n",
        "    x1 <- x2\n",
        "    f1 <- f(x2)\n",
        "    f01 <- f1 - f0 ## difference of f(x)\n",
        "    if(abs(f01)<tol){\n",
        "      warning(\"Expect a huge jump!\")\n",
        "      break\n",
        "    }\n",
        "    x12 <- -f1/f01*x12 ## change in x - see equation in slide\n",
        "    x2 <- x1 + x12     ## update rule.\n",
        "  }\n",
        "  return(list(root=x2,f_root = f(x2),iter=iter,convergence=convergence))\n",
        "}"
      ],
      "execution_count": 10,
      "outputs": []
    },
    {
      "cell_type": "code",
      "metadata": {
        "id": "eSDxVRm2p_rd",
        "outputId": "efcde949-74d1-48ab-dc60-5c8d1fb635c3",
        "colab": {
          "base_uri": "https://localhost:8080/",
          "height": 184
        }
      },
      "source": [
        "secant(f=f,x0=1,x1=2)"
      ],
      "execution_count": 11,
      "outputs": [
        {
          "output_type": "display_data",
          "data": {
            "text/html": [
              "<dl>\n",
              "\t<dt>$root</dt>\n",
              "\t\t<dd>-1.76929235423863</dd>\n",
              "\t<dt>$f_root</dt>\n",
              "\t\t<dd>0</dd>\n",
              "\t<dt>$iter</dt>\n",
              "\t\t<dd>25</dd>\n",
              "\t<dt>$convergence</dt>\n",
              "\t\t<dd>0</dd>\n",
              "</dl>\n"
            ],
            "text/markdown": "$root\n:   -1.76929235423863\n$f_root\n:   0\n$iter\n:   25\n$convergence\n:   0\n\n\n",
            "text/latex": "\\begin{description}\n\\item[\\$root] -1.76929235423863\n\\item[\\$f\\_root] 0\n\\item[\\$iter] 25\n\\item[\\$convergence] 0\n\\end{description}\n",
            "text/plain": [
              "$root\n",
              "[1] -1.769292\n",
              "\n",
              "$f_root\n",
              "[1] 0\n",
              "\n",
              "$iter\n",
              "[1] 25\n",
              "\n",
              "$convergence\n",
              "[1] 0\n"
            ]
          },
          "metadata": {}
        }
      ]
    },
    {
      "cell_type": "markdown",
      "metadata": {
        "id": "UNP5E6qV6t75"
      },
      "source": [
        "## 4. Finding a bracketing interval for minimization"
      ]
    },
    {
      "cell_type": "code",
      "metadata": {
        "id": "02nGKlLDqCKc"
      },
      "source": [
        "#' bracket() - bracketing for 1-d minimization\n",
        "#' @param f : objective function to find minimum point\n",
        "#' @param a0, b0 : initial starting points\n",
        "#' @param scale : ratio between step sizes\n",
        "#' @param max_iter : maximum number of iterations\n",
        "#' @return A list containing the following attributes:\n",
        "#'   * intervals - triplets (a,b,c) where f(a)>f(b) and f(c)>f(b)\n",
        "#'   * f_intervals - triples of (f(a), f(b), f(c))\n",
        "#'   * iter - number of iterations to reach the solution\n",
        "#'   * convergence - 0 if bracket was found successfully, 1 if not found\n",
        "bracket <- function(f, a0, b0, scale=1.618, max_iter=1000){\n",
        "  fa <- f(a0); fb <- f(b0) ## evaluate functions\n",
        "  if ( fa < fb ) { ## if increasing, switch a and b\n",
        "    tmp = a0; a0 = b0; b0 = tmp; ## swap a0, b0\n",
        "    tmp = fa; fa = fb; fb = tmp; ## swap fa, fb\n",
        "  }\n",
        "  c0 <- b0 + scale*(b0 - a0) ## find the next point to iterate\n",
        "  fc <- f(c0)\n",
        "  iter = 1\n",
        "  convergence = 0\n",
        "  while(fb > fc || fb > fa){ ## repeat until fb is smallest value\n",
        "    a0 <- b0; fa <- fb\n",
        "    b0 <- c0; fb <- fc\n",
        "    c0 <- b0 + scale*(b0 - a0)\n",
        "    fc <- f(c0)\n",
        "    if( (iter > max_iter) || is.infinite(fc) || is.infinite(c0)) { ## reached max iteration\n",
        "      convergence = 1 ## a bracket was not found\n",
        "      break\n",
        "    }\n",
        "    iter = iter+1\n",
        "  }\n",
        "  return(list(intervals=c(a0,b0,c0),f_intervals=c(fa,fb,fc),\n",
        "              iter=iter,convergence=convergence))\n",
        "}"
      ],
      "execution_count": 12,
      "outputs": []
    },
    {
      "cell_type": "code",
      "metadata": {
        "id": "1Ci3Vg-KAKQN",
        "outputId": "a801d190-e603-4332-9dd2-f09d6261faa5",
        "colab": {
          "base_uri": "https://localhost:8080/"
        }
      },
      "source": [
        "Fun = function(x) exp(x)-0.5*x^2-2*x\n",
        "print(bracket(Fun, 0, 1)) # works"
      ],
      "execution_count": 13,
      "outputs": [
        {
          "output_type": "stream",
          "name": "stdout",
          "text": [
            "$intervals\n",
            "[1] 0.000 1.000 2.618\n",
            "\n",
            "$f_intervals\n",
            "[1] 1.0000000 0.2182818 5.0453176\n",
            "\n",
            "$iter\n",
            "[1] 1\n",
            "\n",
            "$convergence\n",
            "[1] 0\n",
            "\n"
          ]
        }
      ]
    },
    {
      "cell_type": "code",
      "metadata": {
        "id": "B1jMRC0rJAFa",
        "outputId": "4feecf6b-2c84-417b-b352-e80a9dffad0a",
        "colab": {
          "base_uri": "https://localhost:8080/"
        }
      },
      "source": [
        "print(bracket(Fun, 1, 2)) # works"
      ],
      "execution_count": 14,
      "outputs": [
        {
          "output_type": "stream",
          "name": "stdout",
          "text": [
            "$intervals\n",
            "[1]  2.000  1.000 -0.618\n",
            "\n",
            "$f_intervals\n",
            "[1] 1.3890561 0.2182818 1.5840594\n",
            "\n",
            "$iter\n",
            "[1] 1\n",
            "\n",
            "$convergence\n",
            "[1] 0\n",
            "\n"
          ]
        }
      ]
    },
    {
      "cell_type": "code",
      "metadata": {
        "id": "yYtq8m6RJC3M",
        "outputId": "bbc42712-b484-4526-f6b2-220ca607de0f",
        "colab": {
          "base_uri": "https://localhost:8080/"
        }
      },
      "source": [
        "print(bracket(Fun, 0, 3)) # doesn't work"
      ],
      "execution_count": 15,
      "outputs": [
        {
          "output_type": "stream",
          "name": "stdout",
          "text": [
            "$intervals\n",
            "[1] -7.368616e+153 -1.192242e+154 -1.929048e+154\n",
            "\n",
            "$f_intervals\n",
            "[1] -2.714825e+307 -7.107206e+307           -Inf\n",
            "\n",
            "$iter\n",
            "[1] 733\n",
            "\n",
            "$convergence\n",
            "[1] 1\n",
            "\n"
          ]
        }
      ]
    },
    {
      "cell_type": "markdown",
      "metadata": {
        "id": "P1h0twJS6zdG"
      },
      "source": [
        "## 5. The Golden Search Algorithm"
      ]
    },
    {
      "cell_type": "code",
      "metadata": {
        "id": "dd1Z6rLDqu3n"
      },
      "source": [
        "#' golden.step() - find the next point to iterate for golden search\n",
        "#' @param a0, b0, c0 : three points with f(a0)>f(b0) and f(c0)>f(b0)\n",
        "#' @param gold : constant for golden ratio\n",
        "#' @return The next x-coordinate to iterate for golden search\n",
        "golden.step <- function(a0,b0,c0,gold=0.38196){\n",
        "  mid = (a0+c0)*0.5 \n",
        "  if(b0 > mid){   ## compare b0 and mid to decide the next point\n",
        "    return(gold*(a0-b0)) \n",
        "  } else{\n",
        "    return(gold*(c0-b0))\n",
        "  }\n",
        "}"
      ],
      "execution_count": 16,
      "outputs": []
    },
    {
      "cell_type": "code",
      "metadata": {
        "id": "Xc3bRuqxqchG"
      },
      "source": [
        "#' golden.search() - golden section search algorithm\n",
        "#' @param f : objective function to mimimize\n",
        "#' @param a0, b0, c0 : initial points with f(a0)>f(b0) and f(c0)>f(b0)\n",
        "#' @param max_iter : maximum iteration\n",
        "#' @param tol : relative error for x-value\n",
        "#'    * minimum - x value with f(x) being the minimum of f(x)\n",
        "#'    * objective - f(minimum)\n",
        "#'    * convergence - 0 if the minimum passed the convergence criteria, 1 if not\n",
        "#'    * iter - number of iterations to reach the solution\n",
        "#'    * tol - tol parameter same to input\n",
        "golden.search <- function(f, a0, b0, c0, max_iter = 1000, tol=1e-8,\n",
        "                          ...){\n",
        "  fb = f(b0,...) ## In R, you can pass extra argument with ... between functions\n",
        "  iter = 0\n",
        "  convergence = 1 ## not yet converged\n",
        "  while(iter < max_iter){\n",
        "    x <- b0 + golden.step(a0,b0,c0) ## find the next step\n",
        "    fx <- f(x,...) ## evaluate f(x)\n",
        "    if(fx < fb){   ## x is the new minimum\n",
        "      if(x > b0) a0 = b0 else c0 = b0\n",
        "      b0 = x; fb = fx\n",
        "    } else{        ## b0 is still the mimimum\n",
        "      if(x < b0) a0 = x else c0 = x\n",
        "    }\n",
        "    iter = iter + 1\n",
        "    if(abs(c0-a0) < abs(b0)*tol){ ## check convergence\n",
        "      convergence = 0\n",
        "      break\n",
        "    }\n",
        "  }\n",
        "  return(list(minimum=b0,objective=fb,convergence=convergence,\n",
        "              iter=iter,tol=tol))\n",
        "}"
      ],
      "execution_count": 17,
      "outputs": []
    },
    {
      "cell_type": "code",
      "metadata": {
        "id": "P3qe23aGqjvb",
        "outputId": "0f9bcbc9-8489-4c77-a4e2-899723dcd152",
        "colab": {
          "base_uri": "https://localhost:8080/"
        }
      },
      "source": [
        "Fun = function(x) exp(x)-0.5*x^2-2*x\n",
        "print(golden.search(f = Fun,a0=-5,b0=0,c0=5))"
      ],
      "execution_count": 18,
      "outputs": [
        {
          "output_type": "stream",
          "name": "stdout",
          "text": [
            "$minimum\n",
            "[1] 1.146193\n",
            "\n",
            "$objective\n",
            "[1] 0.1969273\n",
            "\n",
            "$convergence\n",
            "[1] 0\n",
            "\n",
            "$iter\n",
            "[1] 43\n",
            "\n",
            "$tol\n",
            "[1] 1e-08\n",
            "\n"
          ]
        }
      ]
    },
    {
      "cell_type": "markdown",
      "metadata": {
        "id": "syVf98x_Ym_N"
      },
      "source": [
        "## 6. Brent's method"
      ]
    },
    {
      "cell_type": "code",
      "metadata": {
        "id": "NiKpZmYbYn_k",
        "outputId": "58dbce02-f8bc-465c-e063-0f089f1fa44a",
        "colab": {
          "base_uri": "https://localhost:8080/"
        }
      },
      "source": [
        "Fun = function(x) exp(x)-0.5*x^2-2*x\n",
        "print(optimize(f=Fun, c(-5,5), tol=1e-8))"
      ],
      "execution_count": 19,
      "outputs": [
        {
          "output_type": "stream",
          "name": "stdout",
          "text": [
            "$minimum\n",
            "[1] 1.146193\n",
            "\n",
            "$objective\n",
            "[1] 0.1969273\n",
            "\n"
          ]
        }
      ]
    },
    {
      "cell_type": "code",
      "metadata": {
        "id": "SB9wXDOiYze-",
        "outputId": "29454867-4238-41db-8345-f34c0e6dabc8",
        "colab": {
          "base_uri": "https://localhost:8080/"
        }
      },
      "source": [
        "## if minimum is at the boundary, no minima may be found.\n",
        "print(optimize(f=Fun, c(-5,0), tol=1e-8))"
      ],
      "execution_count": 20,
      "outputs": [
        {
          "output_type": "stream",
          "name": "stdout",
          "text": [
            "$minimum\n",
            "[1] -5\n",
            "\n",
            "$objective\n",
            "[1] -2.493262\n",
            "\n"
          ]
        }
      ]
    }
  ]
}