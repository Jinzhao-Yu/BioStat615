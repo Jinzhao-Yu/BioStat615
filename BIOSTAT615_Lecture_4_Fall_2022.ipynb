{
  "nbformat": 4,
  "nbformat_minor": 0,
  "metadata": {
    "colab": {
      "provenance": [],
      "collapsed_sections": [],
      "include_colab_link": true
    },
    "kernelspec": {
      "name": "ir",
      "display_name": "R"
    },
    "language_info": {
      "name": "R"
    }
  },
  "cells": [
    {
      "cell_type": "markdown",
      "metadata": {
        "id": "view-in-github",
        "colab_type": "text"
      },
      "source": [
        "<a href=\"https://colab.research.google.com/github/Jinzhao-Yu/BioStat615/blob/main/BIOSTAT615_Lecture_4_Fall_2022.ipynb\" target=\"_parent\"><img src=\"https://colab.research.google.com/assets/colab-badge.svg\" alt=\"Open In Colab\"/></a>"
      ]
    },
    {
      "cell_type": "markdown",
      "metadata": {
        "id": "eX6DFaquHAMQ"
      },
      "source": [
        "# BIOSTAT615 Lecture 4 - R"
      ]
    },
    {
      "cell_type": "markdown",
      "metadata": {
        "id": "xKUeVgJJnnZq"
      },
      "source": [
        "## 1. Matrix multiplication examples"
      ]
    },
    {
      "cell_type": "code",
      "metadata": {
        "id": "lSk5QMdGniUO"
      },
      "source": [
        "#' naive.matrix.mult.v1() : multiply two matrices\n",
        "#' @param A, B : two matrices with ncol(A)==nrow(B) \n",
        "#' @return Product of A and B \n",
        "naive.matrix.mult.v1 = function(A, B) {\n",
        "  n = nrow(A); p = ncol(A); m = ncol(B)\n",
        "  stopifnot(p == nrow(B)) # check the dimension\n",
        "  C = matrix(0, n, m) \n",
        "  for(i in 1:n) { # triple-loop implementation\n",
        "    for(j in 1:m) {\n",
        "      for(k in 1:p) {\n",
        "        C[i,j] = C[i,j] + A[i,k] * B[k,j]\n",
        "      }\n",
        "    }\n",
        "  }\n",
        "  return(C)\n",
        "}"
      ],
      "execution_count": null,
      "outputs": []
    },
    {
      "cell_type": "code",
      "metadata": {
        "id": "as0xS0V_pSU8"
      },
      "source": [
        "# check for correctness\n",
        "A = matrix(1:9,3,3)\n",
        "B = matrix(1:9,3,3)\n",
        "print(naive.matrix.mult.v1(A, B))\n",
        "print(A %*% B) # R built-in implementation"
      ],
      "execution_count": null,
      "outputs": []
    },
    {
      "cell_type": "markdown",
      "source": [
        "Is the matrix multiplication algorithm working correctly?"
      ],
      "metadata": {
        "id": "KyNgNMSFd_-H"
      }
    },
    {
      "cell_type": "code",
      "metadata": {
        "id": "eINvCgQl7D-e"
      },
      "source": [
        "# check for efficiency at a small scale\n",
        "A = matrix(rnorm(10000),100,100)\n",
        "B = matrix(rnorm(10000),100,100)\n",
        "\n",
        "## evaluate the computational time for naive multiplication\n",
        "system.time(naive.matrix.mult.v1(A, B))\n",
        "\n",
        "## compare with stanard matrix multiplication\n",
        "system.time(A %*% B)"
      ],
      "execution_count": null,
      "outputs": []
    },
    {
      "cell_type": "code",
      "metadata": {
        "id": "x8D3zkO6oUCK"
      },
      "source": [
        "# 3 times larger in each dimension\n",
        "A = matrix(rnorm(90000),300,300)\n",
        "B = matrix(rnorm(90000),300,300)\n",
        "\n",
        "## evaluate the computational time for naive multiplication\n",
        "system.time(naive.matrix.mult.v1(A, B))\n",
        "\n",
        "## compare with stanard matrix multiplication\n",
        "system.time(A %*% B)"
      ],
      "execution_count": null,
      "outputs": []
    },
    {
      "cell_type": "markdown",
      "source": [
        "Is the matrix multiplication algorithm working efficiently?"
      ],
      "metadata": {
        "id": "f7VKYpFAeP2h"
      }
    },
    {
      "cell_type": "markdown",
      "source": [
        "The above code is slow probably because there are multiple layers of loop.\n",
        "Instead of using triple loops, let's change it to double loop by leveraging the built-in function `sum()`"
      ],
      "metadata": {
        "id": "xImUyMD39Mfq"
      }
    },
    {
      "cell_type": "code",
      "metadata": {
        "id": "uHoTGo5Hoe6A"
      },
      "source": [
        "#' naive.matrix.mult.v2() : multiply two matrices\n",
        "#' @param A, B : two matrices with ncol(A)==nrow(B) \n",
        "#' @return Product of A and B \n",
        "naive.matrix.mult.v2 = function(A, B) {\n",
        "  n = nrow(A); p = ncol(A); m = ncol(B)\n",
        "  stopifnot(p == nrow(B))\n",
        "  C = matrix(0, n, m)\n",
        "  for(i in 1:n) {\n",
        "    for(j in 1:m) {\n",
        "      C[i,j] = sum(A[i,] * B[,j]) # the only difference\n",
        "    }\n",
        "  }\n",
        "  return(C)\n",
        "}"
      ],
      "execution_count": null,
      "outputs": []
    },
    {
      "cell_type": "code",
      "metadata": {
        "id": "oKcNthF96wog"
      },
      "source": [
        "A = matrix(rnorm(10000),100,100)\n",
        "B = matrix(rnorm(10000),100,100)\n",
        "\n",
        "## evaluate the computational time for triple-loop multiplication\n",
        "system.time(naive.matrix.mult.v1(A, B))\n",
        "\n",
        "## evaluate the computational time for double-loop and sum\n",
        "system.time(naive.matrix.mult.v2(A, B))\n",
        "\n",
        "## compare with stanard matrix multiplication\n",
        "system.time(A %*% B)"
      ],
      "execution_count": null,
      "outputs": []
    },
    {
      "cell_type": "code",
      "metadata": {
        "id": "T4y528Irp1Ld"
      },
      "source": [
        "A = matrix(rnorm(90000),300,300)\n",
        "B = matrix(rnorm(90000),300,300)\n",
        "\n",
        "## evaluate the computational time for triple-loop multiplication\n",
        "system.time(naive.matrix.mult.v1(A, B))\n",
        "\n",
        "## evaluate the computational time for double-loop and sum\n",
        "system.time(naive.matrix.mult.v2(A, B))\n",
        "\n",
        "## compare with stanard matrix multiplication\n",
        "system.time(A %*% B)"
      ],
      "execution_count": null,
      "outputs": []
    },
    {
      "cell_type": "markdown",
      "source": [
        "Are there differences between the two versions of matrix multiplication algorithms?\n",
        "\n",
        "How do they differ from built-in matrix multiplication in R?"
      ],
      "metadata": {
        "id": "0D3xMDO-enbI"
      }
    },
    {
      "cell_type": "code",
      "metadata": {
        "id": "wkxnjhLfp6eh"
      },
      "source": [
        "A = matrix(rnorm(1000000),1000,1000)\n",
        "B = matrix(rnorm(1000000),1000,1000)\n",
        "\n",
        "#system.time(naive.matrix.mult.v1(A, B)) ## too long\n",
        "\n",
        "## evaluate the computational time for double-loop and sum\n",
        "system.time(naive.matrix.mult.v2(A, B))\n",
        "\n",
        "## compare with stanard matrix multiplication\n",
        "system.time(A %*% B)"
      ],
      "execution_count": null,
      "outputs": []
    },
    {
      "cell_type": "markdown",
      "source": [
        "Do you see noticable difference in time complexity?\n",
        "\n",
        "Why do you think we see such a large gap in efficiency?"
      ],
      "metadata": {
        "id": "SD9xZwwafA2_"
      }
    },
    {
      "cell_type": "markdown",
      "metadata": {
        "id": "g265wvmZkmu8"
      },
      "source": [
        "## 2. Checking BLAS/LAPACK version"
      ]
    },
    {
      "cell_type": "markdown",
      "source": [
        "You may check the version of matrix libraries `BLAS` and `LAPACK` using the following command:\n",
        "\n",
        "Typically, OpenBLAS and Intel MKL are much faster than GNU BLAS."
      ],
      "metadata": {
        "id": "l8wwarZB95hU"
      }
    },
    {
      "cell_type": "code",
      "metadata": {
        "id": "i_-stNUpXcLl"
      },
      "source": [
        "sessionInfo()"
      ],
      "execution_count": null,
      "outputs": []
    },
    {
      "cell_type": "markdown",
      "metadata": {
        "id": "gnPMpAtXssgU"
      },
      "source": [
        "## 3. Linear Regression"
      ]
    },
    {
      "cell_type": "code",
      "metadata": {
        "id": "qgYyW5OIssH_"
      },
      "source": [
        "## linear regression with 100 observations\n",
        "y = rnorm(100)\n",
        "x = rnorm(100)\n",
        "summary(lm(y~x))"
      ],
      "execution_count": null,
      "outputs": []
    },
    {
      "cell_type": "code",
      "metadata": {
        "id": "gXqXZ4Ikkg3A"
      },
      "source": [
        "## linear regression with 5M observations\n",
        "y = rnorm(5000000)\n",
        "x = rnorm(5000000)\n",
        "\n",
        "## evaluate the time\n",
        "system.time(print(summary(lm(y~x))))"
      ],
      "execution_count": null,
      "outputs": []
    },
    {
      "cell_type": "markdown",
      "source": [
        "## 4. A faster implementation for simple linear regression\n"
      ],
      "metadata": {
        "id": "9DVjwmjHvOxH"
      }
    },
    {
      "cell_type": "code",
      "metadata": {
        "id": "7pyhMgHFs3Cr"
      },
      "source": [
        "#' fastSimpleLinearRegression()\n",
        "#' @param y : A vector of response variable\n",
        "#' @param x : A vector predictor variable, same length with y\n",
        "#' @return A list containing OLS estimates for y = \\mu + x + e\n",
        "fastSimpleLinearRegression <- function(y, x) {\n",
        "  y = y - mean(y)\n",
        "  x = x - mean(x)\n",
        "  n = length(y)\n",
        "  stopifnot(length(x) == n)       # for error handling\n",
        "  s2y = sum( y * y ) / ( n - 1 )  # \\sigma_y^2\n",
        "  s2x = sum( x * x ) / ( n - 1 )  # \\sigma_x^2\n",
        "  sxy = sum( x * y ) / ( n - 1 )  # \\sigma_xy\n",
        "  rxy = sxy / sqrt( s2y * s2x )   # \\rho_xy\n",
        "  b = rxy * sqrt( s2y / s2x )\n",
        "  se.b = sqrt( s2y * ( 1 - rxy * rxy ) / (n-2) / s2x )\n",
        "  tstat = rxy * sqrt( ( n - 2 ) / ( 1 - rxy * rxy ) )\n",
        "  p = pt( abs(tstat) , n - 2 , lower.tail=FALSE )*2\n",
        "  return(list( beta = b , se.beta = se.b , t.stat = tstat, p.value = p ))\n",
        "}"
      ],
      "execution_count": null,
      "outputs": []
    },
    {
      "cell_type": "code",
      "metadata": {
        "id": "PFOBIqAgtAD4"
      },
      "source": [
        "## evaluation with the faster version\n",
        "system.time(print(fastSimpleLinearRegression(x,y)))"
      ],
      "execution_count": null,
      "outputs": []
    },
    {
      "cell_type": "markdown",
      "metadata": {
        "id": "rj9FXZBjEcWs"
      },
      "source": [
        "## 5. Solving linear system with matrix decomposition\n"
      ]
    },
    {
      "cell_type": "markdown",
      "source": [
        "### Linear regression with SVD \n",
        "\n",
        "$$\n",
        "X  =  UDV^T    \\\\\n",
        "\\hat{\\boldsymbol{\\beta}} = (X^TX)^{-1}X^T\\mathbf{y} \n",
        "$$"
      ],
      "metadata": {
        "id": "VKGMBHmSvlgS"
      }
    },
    {
      "cell_type": "code",
      "metadata": {
        "id": "4fPtqgzTFCZs"
      },
      "source": [
        "#' svd.lm.fit () - Solve linear system with SVD\n",
        "#' @param x - design matrix\n",
        "#' @param y - response variable \n",
        "#' @return estimated \\beta for y ~ X\\beta + e\n",
        "svd.lm.fit <- function(x,y){\n",
        "  res_svd <- svd(x)\n",
        "  tuy <- crossprod(res_svd$u,y) # tuy = t(U) %*% y\n",
        "  return(res_svd$v%*%(tuy/res_svd$d)) # V %*% D^{-1} %*% t(U) %*% y\n",
        "}"
      ],
      "execution_count": null,
      "outputs": []
    },
    {
      "cell_type": "markdown",
      "source": [
        "## Linear regression with QR decomposition\n",
        "\n",
        "$$    \n",
        "X = QR \\\\\n",
        "R\\hat{\\boldsymbol{\\beta}} = Q^T\\mathbf{y}  \n",
        "$$\n",
        "\n",
        "where $R$ is upper-trigular matrix (i.e. quadratic time complexity to solve)"
      ],
      "metadata": {
        "id": "aYtwft62v6OM"
      }
    },
    {
      "cell_type": "code",
      "metadata": {
        "id": "pvW5nmcdExgZ"
      },
      "source": [
        "#' qr.lm.fit () - Solve linear system with QR decomposition\n",
        "#' @param x - design matrix\n",
        "#' @param y - response variable \n",
        "#' @return estimated \\beta for y ~ X\\beta + e\n",
        "qr.lm.fit <- function(x,y){\n",
        "  res_qr <- qr(x)  \n",
        "  return(qr.coef(res_qr,y)) ## solves R\\beta = Qy in its specific way\n",
        "}"
      ],
      "execution_count": null,
      "outputs": []
    },
    {
      "cell_type": "markdown",
      "source": [
        "### Linear regression with Cholesky decomposition\n",
        "\n",
        "Define\n",
        "$$\n",
        "    A = X^T X  = U^T U \\\\\n",
        "    \\mathbf{b} = X^{T} \\mathbf{y}\\\\\n",
        "$$\n",
        "\n",
        "Solve\n",
        "$$\n",
        "    U^T \\mathbf{z} = \\mathbf{b}\\\\\n",
        "    U\\hat{\\boldsymbol{\\beta}} = \\mathbf{z}\n",
        "$$\n",
        "\n",
        "Note that both equations are solving against (lower or upper) triangular matrices, which can be computed efficiently."
      ],
      "metadata": {
        "id": "Z2CsG6hoyrV0"
      }
    },
    {
      "cell_type": "code",
      "metadata": {
        "id": "bUOKB3WmE9HQ"
      },
      "source": [
        "#' chol.lm.fit () - Solve linear system with Cholesky decomposition\n",
        "#' @param x - design matrix\n",
        "#' @param y - response variable \n",
        "#' @return estimated \\beta for y ~ X\\beta + e\n",
        "chol.lm.fit <- function(x,y){\n",
        "  tXX <- crossprod(x)     # t(x) %*% x\n",
        "  tXY <- crossprod(x,y)   # t(x) %*% y\n",
        "  U <- chol(tXX)          \n",
        "  z <- forwardsolve(U,tXY,upper.tri=TRUE,transpose=TRUE) # solve t(U) %*% z = tXY for z\n",
        "  return(backsolve(U,z))  # solve U %*% beta = z for beta\n",
        "}"
      ],
      "execution_count": null,
      "outputs": []
    },
    {
      "cell_type": "markdown",
      "source": [
        "See [forwardsolve/backsolve documentation](https://www.rdocumentation.org/packages/base/versions/3.6.2/topics/backsolve) to understand how to use these functions."
      ],
      "metadata": {
        "id": "sHsHvbsYasxx"
      }
    },
    {
      "cell_type": "markdown",
      "source": [
        "### Evaluation of different methods"
      ],
      "metadata": {
        "id": "ByZ2_zzdyWP-"
      }
    },
    {
      "cell_type": "code",
      "metadata": {
        "id": "BS9PhgiREft2"
      },
      "source": [
        "## number of observations\n",
        "n = 10000L\n",
        "\n",
        "## number of variables\n",
        "p = 800L\n",
        "\n",
        "## number of true predictors\n",
        "q = 5L\n",
        "\n",
        "## correlation between the variables\n",
        "rho = 0.99"
      ],
      "execution_count": null,
      "outputs": []
    },
    {
      "cell_type": "markdown",
      "source": [
        "We want to simulate an example with\n",
        "$$\n",
        "X \\sim \\mathcal{N}(0, V)\n",
        "$$\n",
        "where \n",
        "$$\n",
        "V_{ij} = \\left\\{\n",
        "\\begin{array}{ll}\n",
        "  \\rho & i \\ne j \\\\\n",
        "  1 & i = j \n",
        "\\end{array}\n",
        "\\right.\n",
        "$$\n",
        "\n",
        "and\n",
        "\n",
        "$$Y = X\\beta + \\epsilon$$"
      ],
      "metadata": {
        "id": "RargoE7XD6_3"
      }
    },
    {
      "cell_type": "code",
      "metadata": {
        "id": "fcKjzIQFEg_c"
      },
      "source": [
        "# set up a linear system with strong correlation\n",
        "# X is n*p matrix with rho as covariance between columns\n",
        "X = matrix(rnorm(p*n,sd=sqrt(1-rho)),nrow=n,ncol=p) + matrix(rnorm(n,sd=sqrt(rho)),nrow=n,ncol=p)\n",
        "beta = c(rep(c(1,-1),length=q),rep(0,length=p-q)) # beta : first q nonzero, rest is zero\n",
        "eps = rnorm(n,sd=1) # eps : standard normal random noise\n",
        "Y = X%*%beta + eps  # Y ~ Xb + e"
      ],
      "execution_count": null,
      "outputs": []
    },
    {
      "cell_type": "code",
      "metadata": {
        "id": "CbMq8FUEFKqV"
      },
      "source": [
        "## evaluate the time - may take long\n",
        "tm_default <- system.time(fit_default_lm <- lm.fit(X,Y))\n",
        "tm_svd_lm <- system.time(fit_svd_lm <- svd.lm.fit(X,Y))\n",
        "tm_qr_lm <- system.time(fit_qr_lm <- qr.lm.fit(X,Y))\n",
        "tm_chol_lm <- system.time(fit_chol_lm <- chol.lm.fit(X,Y))"
      ],
      "execution_count": null,
      "outputs": []
    },
    {
      "cell_type": "code",
      "source": [
        "## check whether the estimated coefficients make sense\n",
        "print( rbind(fit_default_lm$coefficients[1:10],\n",
        "             fit_svd_lm[1:10],\n",
        "             fit_qr_lm[1:10],\n",
        "             fit_chol_lm[1:10]\n",
        "             ))"
      ],
      "metadata": {
        "id": "lPkKKBxKcZoY"
      },
      "execution_count": null,
      "outputs": []
    },
    {
      "cell_type": "code",
      "metadata": {
        "id": "3-Pv9nQ_Erdd"
      },
      "source": [
        "## print the evaluation results in terms of MSE and elapsed time\n",
        "tab = data.frame(mse = c(lm = mean((fit_default_lm$coef-beta)^2),\n",
        "                         svd = mean((fit_svd_lm-beta)^2),\n",
        "                         qr = mean((fit_qr_lm - beta)^2),\n",
        "                         chol = mean((fit_chol_lm-beta)^2)),\n",
        "                 elapsed = c(lm = tm_default[3],\n",
        "                             svd = tm_svd_lm[3],\n",
        "                             qr = tm_qr_lm[3],\n",
        "                             chol = tm_chol_lm[3])\n",
        ")\n",
        "print(tab)"
      ],
      "execution_count": null,
      "outputs": []
    }
  ]
}