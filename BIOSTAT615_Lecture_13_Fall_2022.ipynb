{
  "nbformat": 4,
  "nbformat_minor": 0,
  "metadata": {
    "colab": {
      "provenance": [],
      "include_colab_link": true
    },
    "kernelspec": {
      "name": "ir",
      "display_name": "R"
    },
    "language_info": {
      "name": "R"
    }
  },
  "cells": [
    {
      "cell_type": "markdown",
      "metadata": {
        "id": "view-in-github",
        "colab_type": "text"
      },
      "source": [
        "<a href=\"https://colab.research.google.com/github/Jinzhao-Yu/BioStat615/blob/main/BIOSTAT615_Lecture_13_Fall_2022.ipynb\" target=\"_parent\"><img src=\"https://colab.research.google.com/assets/colab-badge.svg\" alt=\"Open In Colab\"/></a>"
      ]
    },
    {
      "cell_type": "markdown",
      "metadata": {
        "id": "Xiij5JpsSj-K"
      },
      "source": [
        "# BIOSTAT615 Lecture 13 - R"
      ]
    },
    {
      "cell_type": "markdown",
      "metadata": {
        "id": "bzxE-OQ0-B4v"
      },
      "source": [
        "## 1. Bootstrapping with Bivariate Normal"
      ]
    },
    {
      "cell_type": "markdown",
      "source": [
        "Given data, number of bootstraps, and the estimator, we can estimate bias, standard errors, and confidence intervals"
      ],
      "metadata": {
        "id": "mwZ05KxBmo9p"
      }
    },
    {
      "cell_type": "code",
      "metadata": {
        "id": "E8yVqjsEkA0b"
      },
      "source": [
        "#' boot.inferences() - Infer bootstrap estimates\n",
        "#' @param dat - Data \n",
        "#' @param B - Size of boostreap\n",
        "#' @param estimator - Function to estimate the parameter\n",
        "#' @return A list with parameter(theta_est), bias, se, and, boostrap estimates (theta_b_est)\n",
        "boot.inferences <- function(dat,B,estimator){\n",
        "  theta_est <- estimator(dat) ## estimate with original data\n",
        "  ## obtain bootstrap estimates  \n",
        "  theta_b_est <- replicate(B,estimator(dat,sample(1:nrow(dat),size=nrow(dat),replace = TRUE)))\n",
        "  bias <- mean(theta_b_est)-theta_est ## evaluate bias\n",
        "  se <- sd(theta_b_est)  # evaluate SI\n",
        "  CI <- quantile(theta_b_est,prob=c(0.025,0.975)) ## evaluate confidence intervals\n",
        "  return(list(est=theta_est,bias=bias,se=se,CI=CI, theta_b_est = theta_b_est))\n",
        "}"
      ],
      "execution_count": 1,
      "outputs": []
    },
    {
      "cell_type": "markdown",
      "source": [
        "We will use bivariate normal distribution as an example to simulate data"
      ],
      "metadata": {
        "id": "G29kcrOVm06e"
      }
    },
    {
      "cell_type": "code",
      "metadata": {
        "id": "jYiVmGWPj3rJ"
      },
      "source": [
        "#' Simulate bivariate normal\n",
        "#' @param n - number of observations to sample\n",
        "#' @param rho - correlation coefficient\n",
        "#' @param sigma_x, sigma_y - marginal stdev of x, y\n",
        "#' @return (n * 2) matrix of bivariate normal distribution\n",
        "r.bivar.norm <- function(n = 20,rho=0.5,sigma_x=1, sigma_y=2){\n",
        "  Sigma = matrix(c(sigma_x^2, sigma_x*sigma_y*rho,sigma_x*sigma_y*rho,sigma_y^2),nrow=2,ncol=2)\n",
        "  U = chol(Sigma)\n",
        "  Z = matrix(rnorm(n*2),nrow=n,ncol=2)\n",
        "  X = Z%*%U\n",
        "  return(X)\n",
        "}"
      ],
      "execution_count": 2,
      "outputs": []
    },
    {
      "cell_type": "markdown",
      "source": [
        "A simple estimator of correlation coefficient is directly estimating sample correlation coefficient"
      ],
      "metadata": {
        "id": "fLT8l1Gom5be"
      }
    },
    {
      "cell_type": "code",
      "metadata": {
        "id": "3pBqllYIj_Mx"
      },
      "source": [
        "#' cor.estimator() - Estimator of correlation between two columns\n",
        "#' @param dat (n*2) matrix\n",
        "#' @param idx Indices of samples\n",
        "cor.estimator <- function(dat,idx=1:nrow(dat)){\n",
        "  return(cor(dat[idx,1],dat[idx,2]))\n",
        "}"
      ],
      "execution_count": 3,
      "outputs": []
    },
    {
      "cell_type": "code",
      "metadata": {
        "id": "DqvXvPSzkCrt",
        "outputId": "4e01721a-9e29-49cb-a99f-3eef0258e373",
        "colab": {
          "base_uri": "https://localhost:8080/",
          "height": 526
        }
      },
      "source": [
        "dat <- r.bivar.norm(20,rho=0.5)\n",
        "set.seed(1000)\n",
        "boot_res <- boot.inferences(dat,B=20000,cor.estimator)\n",
        "with(boot_res,{\n",
        "  print(est)\n",
        "  print(bias)\n",
        "  print(se)\n",
        "  print(CI)\n",
        "  hist(theta_b_est)\n",
        "})"
      ],
      "execution_count": 4,
      "outputs": [
        {
          "output_type": "stream",
          "name": "stdout",
          "text": [
            "[1] 0.4911564\n",
            "[1] 0.02287538\n",
            "[1] 0.1398076\n",
            "     2.5%     97.5% \n",
            "0.2392609 0.7918540 \n"
          ]
        },
        {
          "output_type": "display_data",
          "data": {
            "text/plain": [
              "Plot with title “Histogram of theta_b_est”"
            ],
            "image/png": "[encoded data removed]"
          },
          "metadata": {
            "image/png": {
              "width": 420,
              "height": 420
            }
          }
        }
      ]
    },
    {
      "cell_type": "markdown",
      "source": [
        "## 2. Bootstrap vs. Empirical Distribution"
      ],
      "metadata": {
        "id": "su3pZ6KOyHs_"
      }
    },
    {
      "cell_type": "code",
      "metadata": {
        "id": "Nl8p2vaWkEcN"
      },
      "source": [
        "## Obtain empirical distribution from generating function\n",
        "set.seed(1000)\n",
        "theta_est_dist <- replicate(20000,cor.estimator(r.bivar.norm(20,rho=0.5)))"
      ],
      "execution_count": 5,
      "outputs": []
    },
    {
      "cell_type": "code",
      "metadata": {
        "id": "GX4VqcqxkGWk",
        "outputId": "ffa52299-bdc7-463a-ac58-fded89377eff",
        "colab": {
          "base_uri": "https://localhost:8080/",
          "height": 317
        }
      },
      "source": [
        "options(repr.plot.width=8, repr.plot.height=5)\n",
        "par(mfcol=c(1,2))\n",
        "hist(theta_est_dist,main=\"Empirical Distribution\",prob=TRUE,xlim=c(-0.5,1.0))\n",
        "hist(boot_res$theta_b_est,main=\"Bootstrap Distribution\",prob=TRUE,xlim=c(-0.5,1.0))"
      ],
      "execution_count": 6,
      "outputs": [
        {
          "output_type": "display_data",
          "data": {
            "text/plain": [
              "Plot with title “Bootstrap Distribution”"
            ],
            "image/png": "[encoded data removed]"
          },
          "metadata": {
            "image/png": {
              "width": 480,
              "height": 300
            }
          }
        }
      ]
    }
  ]
}